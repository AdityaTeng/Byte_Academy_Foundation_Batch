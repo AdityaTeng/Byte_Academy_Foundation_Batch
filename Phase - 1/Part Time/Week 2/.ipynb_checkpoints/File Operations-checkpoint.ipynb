{
 "cells": [
  {
   "cell_type": "markdown",
   "metadata": {},
   "source": [
    "# File Handling"
   ]
  },
  {
   "cell_type": "markdown",
   "metadata": {},
   "source": [
    "The key function for working with files in Python is the open() function.\n",
    "\n",
    "The open() function takes two parameters; filename, and mode.\n",
    "\n",
    "There are four different methods (modes) for opening a file:\n",
    "\n",
    "    \"r\" - Read - Default value. Opens a file for reading, error if the file does not exist\n",
    "\n",
    "    \"a\" - Append - Opens a file for appending, creates the file if it does not exist\n",
    "\n",
    "    \"w\" - Write - Opens a file for writing, creates the file if it does not exist\n",
    "\n",
    "    \"x\" - Create - Creates the specified file, returns an error if the file exists"
   ]
  },
  {
   "cell_type": "markdown",
   "metadata": {},
   "source": [
    "In addition you can specify if the file should be handled as binary or text mode\n",
    "    \n",
    "    \"t\" - Text - Default value. Text mode\n",
    "\n",
    "    \"b\" - Binary - Binary mode (e.g. images)"
   ]
  },
  {
   "cell_type": "markdown",
   "metadata": {},
   "source": [
    "# import os"
   ]
  },
  {
   "cell_type": "markdown",
   "metadata": {},
   "source": [
    "## Getting the current working library - getcwd()"
   ]
  },
  {
   "cell_type": "code",
   "execution_count": 1,
   "metadata": {},
   "outputs": [
    {
     "name": "stdout",
     "output_type": "stream",
     "text": [
      "C:\\Users\\adity\\Downloads\\ipynb\\Python Foundation\\PT\\Week 2\n"
     ]
    }
   ],
   "source": [
    "import os   # importing the os library\n",
    "\n",
    "path = os.getcwd()     # get current working directory\n",
    "print(path)            # printing the path"
   ]
  },
  {
   "cell_type": "markdown",
   "metadata": {},
   "source": [
    "## Creating folder - mkdir()"
   ]
  },
  {
   "cell_type": "code",
   "execution_count": 8,
   "metadata": {},
   "outputs": [],
   "source": [
    "os.chdir('C:/Users/adity/Downloads/ipynb/Python Foundation/PT/Week 2')    #os.mkdir will create a new directory/folder\n",
    "\n",
    "#you can check if the temp_dir folder is created in the path\n",
    "os.getcwd()\n",
    "\n",
    "\n",
    "os.mkdir(\"Temp\")"
   ]
  },
  {
   "cell_type": "markdown",
   "metadata": {},
   "source": [
    "## Going into the created folder using - chdir()"
   ]
  },
  {
   "cell_type": "code",
   "execution_count": 9,
   "metadata": {},
   "outputs": [
    {
     "data": {
      "text/plain": [
       "'C:\\\\Users\\\\adity\\\\Downloads\\\\ipynb\\\\Python Foundation\\\\PT\\\\Week 2\\\\Temp'"
      ]
     },
     "execution_count": 9,
     "metadata": {},
     "output_type": "execute_result"
    }
   ],
   "source": [
    "# Change Directory\n",
    "\n",
    "os.chdir('C:/Users/adity/Downloads/ipynb/Python Foundation/PT/Week 2/Temp')\n",
    "os.getcwd()"
   ]
  },
  {
   "cell_type": "markdown",
   "metadata": {},
   "source": [
    "## Creating a file and writing into it - open()"
   ]
  },
  {
   "cell_type": "code",
   "execution_count": 10,
   "metadata": {},
   "outputs": [],
   "source": [
    "# open()\n",
    "# To open the file, use the built-in open() function.\n",
    "# The open() function returns a file object, which has a read() method for reading the content of the file:\n",
    "\n",
    "f = open(\"demofile.txt\", \"w+\")"
   ]
  },
  {
   "cell_type": "code",
   "execution_count": 11,
   "metadata": {},
   "outputs": [
    {
     "name": "stdout",
     "output_type": "stream",
     "text": [
      "27\n"
     ]
    }
   ],
   "source": [
    "print(f.write(\"Welcome\\nThis is a demofile.\"));\n",
    "f.close()"
   ]
  },
  {
   "cell_type": "code",
   "execution_count": 13,
   "metadata": {},
   "outputs": [
    {
     "name": "stdout",
     "output_type": "stream",
     "text": [
      "Welcome\n",
      "This is a demofile.\n"
     ]
    }
   ],
   "source": [
    "f = open(\"demofile.txt\", \"r+\")\n",
    "print(f.read(30))"
   ]
  },
  {
   "cell_type": "code",
   "execution_count": 18,
   "metadata": {},
   "outputs": [
    {
     "name": "stdout",
     "output_type": "stream",
     "text": [
      "Welcome\n",
      "\n"
     ]
    }
   ],
   "source": [
    "f = open(\"demofile.txt\")\n",
    "print(f.readline())"
   ]
  },
  {
   "cell_type": "code",
   "execution_count": 19,
   "metadata": {},
   "outputs": [],
   "source": [
    "# Close File\n",
    "f.close()"
   ]
  },
  {
   "cell_type": "code",
   "execution_count": 24,
   "metadata": {},
   "outputs": [],
   "source": [
    "import winsound\n",
    "\n",
    "d = 1000\n",
    "f = 4000\n",
    "\n",
    "winsound.Beep(f, d)"
   ]
  },
  {
   "cell_type": "code",
   "execution_count": null,
   "metadata": {},
   "outputs": [],
   "source": []
  }
 ],
 "metadata": {
  "hide_input": false,
  "kernelspec": {
   "display_name": "Python 3",
   "language": "python",
   "name": "python3"
  },
  "language_info": {
   "codemirror_mode": {
    "name": "ipython",
    "version": 3
   },
   "file_extension": ".py",
   "mimetype": "text/x-python",
   "name": "python",
   "nbconvert_exporter": "python",
   "pygments_lexer": "ipython3",
   "version": "3.7.3"
  }
 },
 "nbformat": 4,
 "nbformat_minor": 2
}
