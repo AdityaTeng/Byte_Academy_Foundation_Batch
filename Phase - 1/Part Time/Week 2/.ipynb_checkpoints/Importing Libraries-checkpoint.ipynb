{
 "cells": [
  {
   "cell_type": "markdown",
   "metadata": {},
   "source": [
    "# Math Library"
   ]
  },
  {
   "cell_type": "code",
   "execution_count": 46,
   "metadata": {},
   "outputs": [],
   "source": [
    "import math"
   ]
  },
  {
   "cell_type": "code",
   "execution_count": 47,
   "metadata": {},
   "outputs": [
    {
     "name": "stdout",
     "output_type": "stream",
     "text": [
      "The gcd of 5 and 15 is : 5\n"
     ]
    }
   ],
   "source": [
    "# gcd() greatest common divisor\n",
    "\n",
    "# returning the gcd of 15 and 5 \n",
    "print (\"The gcd of 5 and 15 is : \", end=\"\") \n",
    "print (math.gcd(5,15))"
   ]
  },
  {
   "cell_type": "code",
   "execution_count": 48,
   "metadata": {},
   "outputs": [
    {
     "name": "stdout",
     "output_type": "stream",
     "text": [
      "11\n",
      "10\n"
     ]
    }
   ],
   "source": [
    "a = 10.24\n",
    "print(math.ceil(a))\n",
    "print(math.floor(a))\n"
   ]
  },
  {
   "cell_type": "code",
   "execution_count": 50,
   "metadata": {},
   "outputs": [
    {
     "name": "stdout",
     "output_type": "stream",
     "text": [
      "10.0\n",
      "The absolute value of -10  is :  10.0\n"
     ]
    }
   ],
   "source": [
    "#absolute value (fabs)\n",
    "\n",
    "a = -10\n",
    "\n",
    "print(math.fabs(a))\n",
    "print (\"The absolute value of\", a ,\" is : \", math.fabs(a)) "
   ]
  },
  {
   "cell_type": "code",
   "execution_count": 5,
   "metadata": {},
   "outputs": [
    {
     "name": "stdout",
     "output_type": "stream",
     "text": [
      "The factorial of 5 is :  120\n"
     ]
    }
   ],
   "source": [
    "# returning the factorial of 5\n",
    "\n",
    "b = 5\n",
    "\n",
    "print (\"The factorial of 5 is : \", end=\" \") \n",
    "print (math.factorial(b)) "
   ]
  },
  {
   "cell_type": "markdown",
   "metadata": {},
   "source": [
    "# Random Library"
   ]
  },
  {
   "cell_type": "code",
   "execution_count": 51,
   "metadata": {},
   "outputs": [
    {
     "data": {
      "text/plain": [
       "74"
      ]
     },
     "execution_count": 51,
     "metadata": {},
     "output_type": "execute_result"
    }
   ],
   "source": [
    "import random\n",
    "\n",
    "random.randint(5, 100)"
   ]
  },
  {
   "cell_type": "code",
   "execution_count": 58,
   "metadata": {},
   "outputs": [
    {
     "data": {
      "text/plain": [
       "0.14750359164614735"
      ]
     },
     "execution_count": 58,
     "metadata": {},
     "output_type": "execute_result"
    }
   ],
   "source": [
    "random.random()"
   ]
  },
  {
   "cell_type": "code",
   "execution_count": 64,
   "metadata": {},
   "outputs": [
    {
     "name": "stdout",
     "output_type": "stream",
     "text": [
      "5\n",
      "15\n",
      "5\n",
      "35\n",
      "30\n"
     ]
    }
   ],
   "source": [
    "for i in range(5):\n",
    "    print(random.randrange(5,100,5))"
   ]
  },
  {
   "cell_type": "code",
   "execution_count": 70,
   "metadata": {},
   "outputs": [
    {
     "data": {
      "text/plain": [
       "12"
      ]
     },
     "execution_count": 70,
     "metadata": {},
     "output_type": "execute_result"
    }
   ],
   "source": [
    "random.randrange(6, 100, 6)"
   ]
  },
  {
   "cell_type": "code",
   "execution_count": 74,
   "metadata": {},
   "outputs": [
    {
     "name": "stdout",
     "output_type": "stream",
     "text": [
      "And it is :  head\n"
     ]
    }
   ],
   "source": [
    "coin_toss = ['head', 'tail']\n",
    "print(\"And it is : \", random.choice(coin_toss))"
   ]
  },
  {
   "cell_type": "code",
   "execution_count": null,
   "metadata": {},
   "outputs": [],
   "source": []
  },
  {
   "cell_type": "markdown",
   "metadata": {},
   "source": [
    "# time"
   ]
  },
  {
   "cell_type": "code",
   "execution_count": 25,
   "metadata": {},
   "outputs": [
    {
     "name": "stdout",
     "output_type": "stream",
     "text": [
      "Seconds since epoch = 1567838915.4462876\n"
     ]
    }
   ],
   "source": [
    "import time\n",
    "\n",
    "# time() \n",
    "\n",
    "seconds = time.time()\n",
    "print(\"Seconds since epoch =\", seconds)\n",
    "\n",
    "# January 1, 1970, 00:00:00 at UTC is epoch (the point where time begins)."
   ]
  },
  {
   "cell_type": "code",
   "execution_count": 26,
   "metadata": {},
   "outputs": [
    {
     "name": "stdout",
     "output_type": "stream",
     "text": [
      "Local time: Sat Sep  7 12:18:35 2019\n"
     ]
    }
   ],
   "source": [
    "# ctime()\n",
    "\n",
    "# seconds passed since epoch\n",
    "\n",
    "local_time = time.ctime(seconds)\n",
    "print(\"Local time:\", local_time)"
   ]
  },
  {
   "cell_type": "code",
   "execution_count": 24,
   "metadata": {},
   "outputs": [
    {
     "name": "stdout",
     "output_type": "stream",
     "text": [
      "This is printed immediately.\n",
      "This is printed after 2.4 seconds.\n"
     ]
    }
   ],
   "source": [
    "# sleep()\n",
    "\n",
    "print(\"This is printed immediately.\")\n",
    "time.sleep(10)\n",
    "print(\"This is printed after 10 seconds.\")"
   ]
  },
  {
   "cell_type": "code",
   "execution_count": 41,
   "metadata": {},
   "outputs": [
    {
     "name": "stdout",
     "output_type": "stream",
     "text": [
      "result: time.struct_time(tm_year=2019, tm_mon=9, tm_mday=7, tm_hour=12, tm_min=34, tm_sec=42, tm_wday=5, tm_yday=250, tm_isdst=0)\n",
      "\n",
      "year: 2019\n",
      "month:  9\n",
      "day:  7\n",
      "tm_hour: 12\n",
      "minute:  34\n",
      "weekday:  5\n"
     ]
    }
   ],
   "source": [
    "# The localtime() function returns struct_time in local time.\n",
    "\n",
    "result = time.localtime()\n",
    "print(\"result:\", result)\n",
    "\n",
    "print(\"\\nyear:\", result.tm_year)\n",
    "print(\"month: \", result.tm_mon)\n",
    "print(\"day: \", result.tm_mday)\n",
    "print(\"tm_hour:\", result.tm_hour)\n",
    "print(\"minute: \", result.tm_min)\n",
    "print(\"weekday: \", result.tm_wday)        # 0 >> monday"
   ]
  },
  {
   "cell_type": "code",
   "execution_count": 32,
   "metadata": {},
   "outputs": [
    {
     "name": "stdout",
     "output_type": "stream",
     "text": [
      "result: time.struct_time(tm_year=2019, tm_mon=9, tm_mday=7, tm_hour=6, tm_min=48, tm_sec=35, tm_wday=5, tm_yday=250, tm_isdst=0)\n",
      "result: time.struct_time(tm_year=2019, tm_mon=9, tm_mday=7, tm_hour=6, tm_min=48, tm_sec=35, tm_wday=5, tm_yday=250, tm_isdst=0)\n",
      "\n",
      "year: 2019\n",
      "month:  9\n",
      "day:  7\n",
      "tm_hour: 6\n",
      "minute:  48\n",
      "weekday:  5\n"
     ]
    }
   ],
   "source": [
    "result = time.gmtime(seconds)\n",
    "\n",
    "print(\"result:\", result)\n",
    "print(\"\\nyear:\", result.tm_year)\n",
    "print(\"month: \", result.tm_mon)\n",
    "print(\"day: \", result.tm_mday)\n",
    "print(\"tm_hour:\", result.tm_hour)\n",
    "print(\"minute: \", result.tm_min)\n",
    "print(\"weekday: \", result.tm_wday)"
   ]
  },
  {
   "cell_type": "markdown",
   "metadata": {},
   "source": [
    "# strftime() : string from time"
   ]
  },
  {
   "cell_type": "code",
   "execution_count": 37,
   "metadata": {},
   "outputs": [
    {
     "name": "stdout",
     "output_type": "stream",
     "text": [
      "time.struct_time(tm_year=2019, tm_mon=9, tm_mday=7, tm_hour=12, tm_min=33, tm_sec=25, tm_wday=5, tm_yday=250, tm_isdst=0)\n",
      "<class 'time.struct_time'>\n",
      "09/07/2019, 12:33:25\n",
      "<class 'str'>\n"
     ]
    }
   ],
   "source": [
    "current_time = time.localtime() # get struct_time\n",
    "\n",
    "print(current_time)\n",
    "print(type(current_time))\n",
    "\n",
    "time_string = time.strftime(\"%m/%d/%Y, %H:%M:%S\", current_time)\n",
    "\n",
    "print(time_string)\n",
    "print(type(time_string))"
   ]
  },
  {
   "cell_type": "markdown",
   "metadata": {},
   "source": [
    "# strptime() : converts str to time"
   ]
  },
  {
   "cell_type": "code",
   "execution_count": 43,
   "metadata": {},
   "outputs": [
    {
     "name": "stdout",
     "output_type": "stream",
     "text": [
      "time.struct_time(tm_year=2019, tm_mon=9, tm_mday=10, tm_hour=0, tm_min=0, tm_sec=0, tm_wday=1, tm_yday=253, tm_isdst=-1)\n",
      "<class 'time.struct_time'>\n"
     ]
    }
   ],
   "source": [
    "time_string = \"10 September, 2019\"\n",
    "\n",
    "\n",
    "result = time.strptime(time_string, \"%d %B, %Y\")\n",
    "print(result)\n",
    "print(type(result))"
   ]
  },
  {
   "cell_type": "code",
   "execution_count": null,
   "metadata": {},
   "outputs": [],
   "source": []
  },
  {
   "cell_type": "code",
   "execution_count": null,
   "metadata": {},
   "outputs": [],
   "source": []
  },
  {
   "cell_type": "code",
   "execution_count": null,
   "metadata": {},
   "outputs": [],
   "source": []
  },
  {
   "cell_type": "markdown",
   "metadata": {},
   "source": [
    "# RegEx Library "
   ]
  },
  {
   "cell_type": "markdown",
   "metadata": {},
   "source": [
    "    findall\t>>  Returns a list containing all matches\n",
    "\n",
    "    search\t>>  Returns a Match object if there is a match anywhere in the string\n",
    "    \n",
    "    split\t>>  Returns a list where the string has been split at each match\n",
    "    \n",
    "    sub\t    >>  Replaces one or many matches with a string"
   ]
  },
  {
   "cell_type": "code",
   "execution_count": 2,
   "metadata": {},
   "outputs": [],
   "source": [
    "import re"
   ]
  },
  {
   "cell_type": "markdown",
   "metadata": {},
   "source": [
    "## findall"
   ]
  },
  {
   "cell_type": "code",
   "execution_count": 6,
   "metadata": {},
   "outputs": [
    {
     "name": "stdout",
     "output_type": "stream",
     "text": [
      "['Tw', 'Tw']\n",
      "[]\n"
     ]
    }
   ],
   "source": [
    "str1 = \"Twinkle Twinkle star\"\n",
    "\n",
    "x = re.findall(\"Tw\", str1)            # re.findall(expression, string)\n",
    "print(x)\n",
    "\n",
    "y = re.findall(\"St\", str1)\n",
    "print(y)\n"
   ]
  },
  {
   "cell_type": "markdown",
   "metadata": {},
   "source": [
    "## search"
   ]
  },
  {
   "cell_type": "code",
   "execution_count": 34,
   "metadata": {},
   "outputs": [
    {
     "name": "stdout",
     "output_type": "stream",
     "text": [
      "<re.Match object; span=(4, 8), match='rain'>\n",
      "(4, 8) rain\n",
      "<class 'str'>\n"
     ]
    }
   ],
   "source": [
    "str1 = \"The rain in Spain\"\n",
    "\n",
    "x = re.search(\"rain\", str1)\n",
    "y = x.span()\n",
    "z = x.group()\n",
    "\n",
    "print(x)\n",
    "\n",
    "print(y, z)\n",
    "\n",
    "print(type(z))"
   ]
  },
  {
   "cell_type": "markdown",
   "metadata": {},
   "source": [
    "## split"
   ]
  },
  {
   "cell_type": "code",
   "execution_count": 24,
   "metadata": {},
   "outputs": [
    {
     "name": "stdout",
     "output_type": "stream",
     "text": [
      "['The', 'rain', 'in', 'Spain']\n",
      "['The', 'rain in Spain']\n"
     ]
    }
   ],
   "source": [
    "str1 = \"The rain in Spain\"\n",
    "\n",
    "x = re.split(\"\\s\", str1)\n",
    "print(x)\n",
    "\n",
    "x = re.split(\"\\s\", str1, 1)\n",
    "print(x)"
   ]
  },
  {
   "cell_type": "markdown",
   "metadata": {},
   "source": [
    "## sub"
   ]
  },
  {
   "cell_type": "code",
   "execution_count": 30,
   "metadata": {},
   "outputs": [
    {
     "name": "stdout",
     "output_type": "stream",
     "text": [
      "The9rain9in9Spain\n",
      "The_rain in Spain\n"
     ]
    }
   ],
   "source": [
    "str1 = \"The rain in Spain\"\n",
    "\n",
    "x = re.sub(\"\\s\", \"9\", str1)\n",
    "print(x)\n",
    "\n",
    "y = re.sub(\"\\s\", \"_\", str1, 1)         # specifying the count\n",
    "print(y)"
   ]
  },
  {
   "cell_type": "code",
   "execution_count": null,
   "metadata": {},
   "outputs": [],
   "source": []
  },
  {
   "cell_type": "code",
   "execution_count": null,
   "metadata": {},
   "outputs": [],
   "source": []
  },
  {
   "cell_type": "code",
   "execution_count": null,
   "metadata": {},
   "outputs": [],
   "source": []
  },
  {
   "cell_type": "code",
   "execution_count": null,
   "metadata": {},
   "outputs": [],
   "source": []
  },
  {
   "cell_type": "code",
   "execution_count": null,
   "metadata": {},
   "outputs": [],
   "source": []
  },
  {
   "cell_type": "code",
   "execution_count": null,
   "metadata": {},
   "outputs": [],
   "source": []
  },
  {
   "cell_type": "code",
   "execution_count": null,
   "metadata": {},
   "outputs": [],
   "source": []
  },
  {
   "cell_type": "code",
   "execution_count": null,
   "metadata": {},
   "outputs": [],
   "source": []
  },
  {
   "cell_type": "code",
   "execution_count": null,
   "metadata": {},
   "outputs": [],
   "source": []
  },
  {
   "cell_type": "code",
   "execution_count": null,
   "metadata": {},
   "outputs": [],
   "source": []
  },
  {
   "cell_type": "code",
   "execution_count": null,
   "metadata": {},
   "outputs": [],
   "source": []
  },
  {
   "cell_type": "code",
   "execution_count": null,
   "metadata": {},
   "outputs": [],
   "source": []
  },
  {
   "cell_type": "code",
   "execution_count": null,
   "metadata": {},
   "outputs": [],
   "source": []
  },
  {
   "cell_type": "code",
   "execution_count": null,
   "metadata": {},
   "outputs": [],
   "source": []
  },
  {
   "cell_type": "code",
   "execution_count": null,
   "metadata": {},
   "outputs": [],
   "source": []
  },
  {
   "cell_type": "code",
   "execution_count": 1,
   "metadata": {},
   "outputs": [
    {
     "name": "stdout",
     "output_type": "stream",
     "text": [
      "['r']\n"
     ]
    }
   ],
   "source": [
    "import re\n",
    "\n",
    "txt = \"The rain in Spain\"\n",
    "x = re.findall(\"r\", txt)\n",
    "print(x)\n",
    "\n",
    "# x = re.sub(\"rain\", \"weather\", txt)\n",
    "# x"
   ]
  },
  {
   "cell_type": "code",
   "execution_count": 31,
   "metadata": {},
   "outputs": [
    {
     "name": "stdout",
     "output_type": "stream",
     "text": [
      "['h', 'e', 'a', 'i', 'i', 'a', 'i']\n"
     ]
    }
   ],
   "source": [
    "import re \n",
    "\n",
    "str = \"The rain in Spain\"\n",
    "\n",
    "#Find all lower case characters alphabetically between \"a\" and \"m\":\n",
    "\n",
    "x = re.findall(\"[a-m]\", str)\n",
    "print(x)"
   ]
  },
  {
   "cell_type": "code",
   "execution_count": 25,
   "metadata": {},
   "outputs": [
    {
     "name": "stdout",
     "output_type": "stream",
     "text": [
      "None\n"
     ]
    }
   ],
   "source": [
    "'''\\d'''\n",
    "\n",
    "str = \"That will be 59 dollars\"\n",
    "\n",
    "#Find all digit characters:\n",
    "\n",
    "x = re.match(\"\\d\", str)\n",
    "print(x)"
   ]
  },
  {
   "cell_type": "code",
   "execution_count": 30,
   "metadata": {},
   "outputs": [
    {
     "name": "stdout",
     "output_type": "stream",
     "text": [
      "['hello']\n"
     ]
    }
   ],
   "source": [
    "'''.'''\n",
    "\n",
    "str = \"hello world\"\n",
    "\n",
    "#Search for a sequence that starts with \"he\", followed by two (any) characters, and an \"o\":\n",
    "\n",
    "x = re.findall(\"he..o\", str)\n",
    "print(x)"
   ]
  },
  {
   "cell_type": "code",
   "execution_count": 55,
   "metadata": {},
   "outputs": [
    {
     "name": "stdout",
     "output_type": "stream",
     "text": [
      "Yes, the string starts with 'hello'\n"
     ]
    }
   ],
   "source": [
    "'''^'''\n",
    "\n",
    "str = \" hello world\"\n",
    "\n",
    "#Check if the string starts with 'hello':\n",
    "\n",
    "x = re.findall(\"^ hello\", str)\n",
    "if (x):\n",
    "    print(\"Yes, the string starts with 'hello'\")\n",
    "else:\n",
    "    print(\"No the string does not start with 'hello'\")"
   ]
  },
  {
   "cell_type": "code",
   "execution_count": null,
   "metadata": {},
   "outputs": [],
   "source": []
  },
  {
   "cell_type": "code",
   "execution_count": 15,
   "metadata": {},
   "outputs": [
    {
     "name": "stdout",
     "output_type": "stream",
     "text": [
      "yes we have a match\n"
     ]
    },
    {
     "data": {
      "text/plain": [
       "'The rain in Spain'"
      ]
     },
     "execution_count": 15,
     "metadata": {},
     "output_type": "execute_result"
    }
   ],
   "source": [
    "import re\n",
    "\n",
    "txt = \"The rain in Spain\"\n",
    "x = re.match(\"^The.*Spain$\", txt)\n",
    "\n",
    "if x:\n",
    "    print(\"yes we have a match\")\n",
    "else:\n",
    "    print(\"no\")\n",
    "    \n",
    "x.group()"
   ]
  },
  {
   "cell_type": "code",
   "execution_count": 16,
   "metadata": {},
   "outputs": [
    {
     "name": "stdout",
     "output_type": "stream",
     "text": [
      "['ai', 'ai']\n"
     ]
    }
   ],
   "source": [
    "import re\n",
    "\n",
    "str = \"The rain in Spain\"\n",
    "x = re.findall(\"ai\", str)\n",
    "print(x)"
   ]
  },
  {
   "cell_type": "code",
   "execution_count": 17,
   "metadata": {},
   "outputs": [
    {
     "name": "stdout",
     "output_type": "stream",
     "text": [
      "The first white-space character is located in position: 4\n"
     ]
    },
    {
     "data": {
      "text/plain": [
       "<re.Match object; span=(0, 4), match='The '>"
      ]
     },
     "execution_count": 17,
     "metadata": {},
     "output_type": "execute_result"
    }
   ],
   "source": [
    "import re\n",
    "\n",
    "str = \"The rain in Spain\"\n",
    "x = re.search(\"The \", str)\n",
    "\n",
    "print(\"The first white-space character is located in position:\", x.end())\n",
    "x"
   ]
  },
  {
   "cell_type": "code",
   "execution_count": 18,
   "metadata": {},
   "outputs": [
    {
     "name": "stdout",
     "output_type": "stream",
     "text": [
      "['The', 'rain', 'in Spain']\n"
     ]
    }
   ],
   "source": [
    "import re\n",
    "\n",
    "str = \"The rain in Spain\"\n",
    "x = re.split(\"\\s\", str, 2)\n",
    "print(x)"
   ]
  },
  {
   "cell_type": "code",
   "execution_count": 19,
   "metadata": {},
   "outputs": [
    {
     "name": "stdout",
     "output_type": "stream",
     "text": [
      "The_rain_in_Spain\n"
     ]
    }
   ],
   "source": [
    "import re\n",
    "\n",
    "str = \"The rain in Spain\"\n",
    "x = re.sub(\"\\s\", \"_\", str)\n",
    "print(x)"
   ]
  },
  {
   "cell_type": "code",
   "execution_count": 20,
   "metadata": {},
   "outputs": [
    {
     "name": "stdout",
     "output_type": "stream",
     "text": [
      "<re.Match object; span=(12, 17), match='Spain'>\n",
      "(12, 17)\n"
     ]
    }
   ],
   "source": [
    "import re\n",
    "\n",
    "str = \"The rain in Spain\"\n",
    "x = re.search(r\"\\bS\\w+\", str)\n",
    "print(x)\n",
    "print(x.span())"
   ]
  },
  {
   "cell_type": "code",
   "execution_count": 21,
   "metadata": {},
   "outputs": [
    {
     "name": "stdout",
     "output_type": "stream",
     "text": [
      "The rain in Spain\n"
     ]
    }
   ],
   "source": [
    "import re\n",
    "\n",
    "str = \"The rain in Spain\"\n",
    "x = re.search(r\"\\bS\\w+\", str)\n",
    "print(x.string)"
   ]
  },
  {
   "cell_type": "code",
   "execution_count": null,
   "metadata": {},
   "outputs": [],
   "source": []
  },
  {
   "cell_type": "code",
   "execution_count": null,
   "metadata": {},
   "outputs": [],
   "source": []
  },
  {
   "cell_type": "code",
   "execution_count": null,
   "metadata": {},
   "outputs": [],
   "source": []
  },
  {
   "cell_type": "code",
   "execution_count": null,
   "metadata": {},
   "outputs": [],
   "source": []
  },
  {
   "cell_type": "code",
   "execution_count": null,
   "metadata": {},
   "outputs": [],
   "source": []
  },
  {
   "cell_type": "code",
   "execution_count": 14,
   "metadata": {},
   "outputs": [
    {
     "name": "stdout",
     "output_type": "stream",
     "text": [
      "['e', 'a', 'd', 'b', 'e', 'a']\n",
      "['1', '1', '4', '1', '8', '8', '6']\n",
      "['11', '4', '1886']\n"
     ]
    }
   ],
   "source": [
    "# compile() creates regular expression character class [a-e], \n",
    "# which is equivalent to [abcde]. \n",
    "# class [abcde] will match with string with 'a', 'b', 'c', 'd', 'e'. \n",
    "p = re.compile('[a-e]') \n",
    "  \n",
    "# findall() searches for the Regular Expression and return a list upon finding \n",
    "print(p.findall(\"Aye, said Mr. Gibenson Stark\")) \n",
    "\n",
    "# \\d is equivalent to [0-9]. \n",
    "p = re.compile('\\d') \n",
    "print(p.findall(\"I went to him at 11 A.M. on 4th July 1886\")) \n",
    "  \n",
    "# \\d+ will match a group on [0-9], group of one or greater size \n",
    "p = re.compile('\\d+') \n",
    "print(p.findall(\"I went to him at 11 A.M. on 4th July 1886\")) "
   ]
  },
  {
   "cell_type": "code",
   "execution_count": null,
   "metadata": {},
   "outputs": [],
   "source": []
  },
  {
   "cell_type": "code",
   "execution_count": null,
   "metadata": {},
   "outputs": [],
   "source": []
  },
  {
   "cell_type": "code",
   "execution_count": null,
   "metadata": {},
   "outputs": [],
   "source": []
  },
  {
   "cell_type": "code",
   "execution_count": null,
   "metadata": {},
   "outputs": [],
   "source": []
  },
  {
   "cell_type": "code",
   "execution_count": null,
   "metadata": {},
   "outputs": [],
   "source": []
  },
  {
   "cell_type": "markdown",
   "metadata": {},
   "source": [
    "# Pandas"
   ]
  },
  {
   "cell_type": "code",
   "execution_count": 22,
   "metadata": {},
   "outputs": [],
   "source": [
    "import pandas as pd"
   ]
  },
  {
   "cell_type": "code",
   "execution_count": 23,
   "metadata": {},
   "outputs": [],
   "source": [
    "brands = ['Honda', 'Hyundai', 'Tata', ]\n",
    "names = ['City', 'i20', 'Indica']\n",
    "speeds = [220, 180, 160]\n",
    "cylinders = [4,4,4]\n",
    "cc = ['1800', '1200', '1200']\n",
    "steering = [True, True, True]\n",
    "\n",
    "d = {\"Brand\": brands, \"Name\": names, \"Top Speed\": speeds, \"Cylinders\": cylinders, \"CC\": cc, \"Power Steering\": steering }"
   ]
  },
  {
   "cell_type": "code",
   "execution_count": 24,
   "metadata": {},
   "outputs": [
    {
     "data": {
      "text/html": [
       "<div>\n",
       "<style scoped>\n",
       "    .dataframe tbody tr th:only-of-type {\n",
       "        vertical-align: middle;\n",
       "    }\n",
       "\n",
       "    .dataframe tbody tr th {\n",
       "        vertical-align: top;\n",
       "    }\n",
       "\n",
       "    .dataframe thead th {\n",
       "        text-align: right;\n",
       "    }\n",
       "</style>\n",
       "<table border=\"1\" class=\"dataframe\">\n",
       "  <thead>\n",
       "    <tr style=\"text-align: right;\">\n",
       "      <th></th>\n",
       "      <th>Brand</th>\n",
       "      <th>Name</th>\n",
       "      <th>Top Speed</th>\n",
       "      <th>Cylinders</th>\n",
       "      <th>CC</th>\n",
       "      <th>Power Steering</th>\n",
       "    </tr>\n",
       "  </thead>\n",
       "  <tbody>\n",
       "    <tr>\n",
       "      <th>0</th>\n",
       "      <td>Honda</td>\n",
       "      <td>City</td>\n",
       "      <td>220</td>\n",
       "      <td>4</td>\n",
       "      <td>1800</td>\n",
       "      <td>True</td>\n",
       "    </tr>\n",
       "    <tr>\n",
       "      <th>1</th>\n",
       "      <td>Hyundai</td>\n",
       "      <td>i20</td>\n",
       "      <td>180</td>\n",
       "      <td>4</td>\n",
       "      <td>1200</td>\n",
       "      <td>True</td>\n",
       "    </tr>\n",
       "    <tr>\n",
       "      <th>2</th>\n",
       "      <td>Tata</td>\n",
       "      <td>Indica</td>\n",
       "      <td>160</td>\n",
       "      <td>4</td>\n",
       "      <td>1200</td>\n",
       "      <td>True</td>\n",
       "    </tr>\n",
       "  </tbody>\n",
       "</table>\n",
       "</div>"
      ],
      "text/plain": [
       "     Brand    Name  Top Speed  Cylinders    CC  Power Steering\n",
       "0    Honda    City        220          4  1800            True\n",
       "1  Hyundai     i20        180          4  1200            True\n",
       "2     Tata  Indica        160          4  1200            True"
      ]
     },
     "execution_count": 24,
     "metadata": {},
     "output_type": "execute_result"
    }
   ],
   "source": [
    "df = pd.DataFrame(d)\n",
    "df"
   ]
  },
  {
   "cell_type": "code",
   "execution_count": 25,
   "metadata": {},
   "outputs": [
    {
     "data": {
      "text/html": [
       "<div>\n",
       "<style scoped>\n",
       "    .dataframe tbody tr th:only-of-type {\n",
       "        vertical-align: middle;\n",
       "    }\n",
       "\n",
       "    .dataframe tbody tr th {\n",
       "        vertical-align: top;\n",
       "    }\n",
       "\n",
       "    .dataframe thead th {\n",
       "        text-align: right;\n",
       "    }\n",
       "</style>\n",
       "<table border=\"1\" class=\"dataframe\">\n",
       "  <thead>\n",
       "    <tr style=\"text-align: right;\">\n",
       "      <th></th>\n",
       "      <th>Brand</th>\n",
       "      <th>Name</th>\n",
       "      <th>Top Speed</th>\n",
       "      <th>Cylinders</th>\n",
       "      <th>CC</th>\n",
       "      <th>Power Steering</th>\n",
       "    </tr>\n",
       "  </thead>\n",
       "  <tbody>\n",
       "    <tr>\n",
       "      <th>2</th>\n",
       "      <td>Tata</td>\n",
       "      <td>Indica</td>\n",
       "      <td>160</td>\n",
       "      <td>4</td>\n",
       "      <td>1200</td>\n",
       "      <td>True</td>\n",
       "    </tr>\n",
       "  </tbody>\n",
       "</table>\n",
       "</div>"
      ],
      "text/plain": [
       "  Brand    Name  Top Speed  Cylinders    CC  Power Steering\n",
       "2  Tata  Indica        160          4  1200            True"
      ]
     },
     "execution_count": 25,
     "metadata": {},
     "output_type": "execute_result"
    }
   ],
   "source": [
    "df[df['Name']=='Indica']"
   ]
  },
  {
   "cell_type": "code",
   "execution_count": 26,
   "metadata": {},
   "outputs": [
    {
     "data": {
      "text/plain": [
       "3"
      ]
     },
     "execution_count": 26,
     "metadata": {},
     "output_type": "execute_result"
    }
   ],
   "source": [
    "a = df.iat[0,0]\n",
    "a\n",
    "len(df)"
   ]
  },
  {
   "cell_type": "code",
   "execution_count": 27,
   "metadata": {},
   "outputs": [],
   "source": [
    "df.to_csv(\"cars.csv\")"
   ]
  },
  {
   "cell_type": "code",
   "execution_count": 35,
   "metadata": {},
   "outputs": [],
   "source": [
    "df1 = pd.read_csv(\"C:/Users/adity/Downloads/player_data.csv\")"
   ]
  },
  {
   "cell_type": "code",
   "execution_count": 36,
   "metadata": {},
   "outputs": [
    {
     "data": {
      "text/html": [
       "<div>\n",
       "<style scoped>\n",
       "    .dataframe tbody tr th:only-of-type {\n",
       "        vertical-align: middle;\n",
       "    }\n",
       "\n",
       "    .dataframe tbody tr th {\n",
       "        vertical-align: top;\n",
       "    }\n",
       "\n",
       "    .dataframe thead th {\n",
       "        text-align: right;\n",
       "    }\n",
       "</style>\n",
       "<table border=\"1\" class=\"dataframe\">\n",
       "  <thead>\n",
       "    <tr style=\"text-align: right;\">\n",
       "      <th></th>\n",
       "      <th>name</th>\n",
       "      <th>year_start</th>\n",
       "      <th>year_end</th>\n",
       "      <th>position</th>\n",
       "      <th>height</th>\n",
       "      <th>weight</th>\n",
       "      <th>birth_date</th>\n",
       "      <th>college</th>\n",
       "    </tr>\n",
       "  </thead>\n",
       "  <tbody>\n",
       "    <tr>\n",
       "      <th>0</th>\n",
       "      <td>Alaa Abdelnaby</td>\n",
       "      <td>1991</td>\n",
       "      <td>1995</td>\n",
       "      <td>F-C</td>\n",
       "      <td>6-10</td>\n",
       "      <td>240.0</td>\n",
       "      <td>June 24, 1968</td>\n",
       "      <td>Duke University</td>\n",
       "    </tr>\n",
       "    <tr>\n",
       "      <th>1</th>\n",
       "      <td>Zaid Abdul-Aziz</td>\n",
       "      <td>1969</td>\n",
       "      <td>1978</td>\n",
       "      <td>C-F</td>\n",
       "      <td>6-9</td>\n",
       "      <td>235.0</td>\n",
       "      <td>April 7, 1946</td>\n",
       "      <td>Iowa State University</td>\n",
       "    </tr>\n",
       "    <tr>\n",
       "      <th>2</th>\n",
       "      <td>Kareem Abdul-Jabbar</td>\n",
       "      <td>1970</td>\n",
       "      <td>1989</td>\n",
       "      <td>C</td>\n",
       "      <td>7-2</td>\n",
       "      <td>225.0</td>\n",
       "      <td>April 16, 1947</td>\n",
       "      <td>University of California, Los Angeles</td>\n",
       "    </tr>\n",
       "    <tr>\n",
       "      <th>3</th>\n",
       "      <td>Mahmoud Abdul-Rauf</td>\n",
       "      <td>1991</td>\n",
       "      <td>2001</td>\n",
       "      <td>G</td>\n",
       "      <td>6-1</td>\n",
       "      <td>162.0</td>\n",
       "      <td>March 9, 1969</td>\n",
       "      <td>Louisiana State University</td>\n",
       "    </tr>\n",
       "    <tr>\n",
       "      <th>4</th>\n",
       "      <td>Tariq Abdul-Wahad</td>\n",
       "      <td>1998</td>\n",
       "      <td>2003</td>\n",
       "      <td>F</td>\n",
       "      <td>6-6</td>\n",
       "      <td>223.0</td>\n",
       "      <td>November 3, 1974</td>\n",
       "      <td>San Jose State University</td>\n",
       "    </tr>\n",
       "    <tr>\n",
       "      <th>5</th>\n",
       "      <td>Shareef Abdur-Rahim</td>\n",
       "      <td>1997</td>\n",
       "      <td>2008</td>\n",
       "      <td>F</td>\n",
       "      <td>6-9</td>\n",
       "      <td>225.0</td>\n",
       "      <td>December 11, 1976</td>\n",
       "      <td>University of California</td>\n",
       "    </tr>\n",
       "    <tr>\n",
       "      <th>6</th>\n",
       "      <td>Tom Abernethy</td>\n",
       "      <td>1977</td>\n",
       "      <td>1981</td>\n",
       "      <td>F</td>\n",
       "      <td>6-7</td>\n",
       "      <td>220.0</td>\n",
       "      <td>May 6, 1954</td>\n",
       "      <td>Indiana University</td>\n",
       "    </tr>\n",
       "    <tr>\n",
       "      <th>7</th>\n",
       "      <td>Forest Able</td>\n",
       "      <td>1957</td>\n",
       "      <td>1957</td>\n",
       "      <td>G</td>\n",
       "      <td>6-3</td>\n",
       "      <td>180.0</td>\n",
       "      <td>July 27, 1932</td>\n",
       "      <td>Western Kentucky University</td>\n",
       "    </tr>\n",
       "    <tr>\n",
       "      <th>8</th>\n",
       "      <td>John Abramovic</td>\n",
       "      <td>1947</td>\n",
       "      <td>1948</td>\n",
       "      <td>F</td>\n",
       "      <td>6-3</td>\n",
       "      <td>195.0</td>\n",
       "      <td>February 9, 1919</td>\n",
       "      <td>Salem International University</td>\n",
       "    </tr>\n",
       "    <tr>\n",
       "      <th>9</th>\n",
       "      <td>Alex Abrines</td>\n",
       "      <td>2017</td>\n",
       "      <td>2018</td>\n",
       "      <td>G-F</td>\n",
       "      <td>6-6</td>\n",
       "      <td>190.0</td>\n",
       "      <td>August 1, 1993</td>\n",
       "      <td>NaN</td>\n",
       "    </tr>\n",
       "    <tr>\n",
       "      <th>10</th>\n",
       "      <td>Alex Acker</td>\n",
       "      <td>2006</td>\n",
       "      <td>2009</td>\n",
       "      <td>G</td>\n",
       "      <td>6-5</td>\n",
       "      <td>185.0</td>\n",
       "      <td>January 21, 1983</td>\n",
       "      <td>Pepperdine University</td>\n",
       "    </tr>\n",
       "    <tr>\n",
       "      <th>11</th>\n",
       "      <td>Don Ackerman</td>\n",
       "      <td>1954</td>\n",
       "      <td>1954</td>\n",
       "      <td>G</td>\n",
       "      <td>6-0</td>\n",
       "      <td>183.0</td>\n",
       "      <td>September 4, 1930</td>\n",
       "      <td>Long Island University</td>\n",
       "    </tr>\n",
       "    <tr>\n",
       "      <th>12</th>\n",
       "      <td>Mark Acres</td>\n",
       "      <td>1988</td>\n",
       "      <td>1993</td>\n",
       "      <td>F-C</td>\n",
       "      <td>6-11</td>\n",
       "      <td>220.0</td>\n",
       "      <td>November 15, 1962</td>\n",
       "      <td>Oral Roberts University</td>\n",
       "    </tr>\n",
       "    <tr>\n",
       "      <th>13</th>\n",
       "      <td>Bud Acton</td>\n",
       "      <td>1968</td>\n",
       "      <td>1968</td>\n",
       "      <td>F</td>\n",
       "      <td>6-6</td>\n",
       "      <td>210.0</td>\n",
       "      <td>January 11, 1942</td>\n",
       "      <td>Hillsdale College</td>\n",
       "    </tr>\n",
       "    <tr>\n",
       "      <th>14</th>\n",
       "      <td>Quincy Acy</td>\n",
       "      <td>2013</td>\n",
       "      <td>2018</td>\n",
       "      <td>F</td>\n",
       "      <td>6-7</td>\n",
       "      <td>240.0</td>\n",
       "      <td>October 6, 1990</td>\n",
       "      <td>Baylor University</td>\n",
       "    </tr>\n",
       "    <tr>\n",
       "      <th>15</th>\n",
       "      <td>Alvan Adams</td>\n",
       "      <td>1976</td>\n",
       "      <td>1988</td>\n",
       "      <td>C-F</td>\n",
       "      <td>6-9</td>\n",
       "      <td>210.0</td>\n",
       "      <td>July 19, 1954</td>\n",
       "      <td>University of Oklahoma</td>\n",
       "    </tr>\n",
       "    <tr>\n",
       "      <th>16</th>\n",
       "      <td>Don Adams</td>\n",
       "      <td>1971</td>\n",
       "      <td>1977</td>\n",
       "      <td>F</td>\n",
       "      <td>6-6</td>\n",
       "      <td>210.0</td>\n",
       "      <td>November 27, 1947</td>\n",
       "      <td>Northwestern University</td>\n",
       "    </tr>\n",
       "    <tr>\n",
       "      <th>17</th>\n",
       "      <td>George Adams</td>\n",
       "      <td>1973</td>\n",
       "      <td>1975</td>\n",
       "      <td>F-G</td>\n",
       "      <td>6-5</td>\n",
       "      <td>210.0</td>\n",
       "      <td>May 15, 1949</td>\n",
       "      <td>Gardner-Webb University</td>\n",
       "    </tr>\n",
       "    <tr>\n",
       "      <th>18</th>\n",
       "      <td>Hassan Adams</td>\n",
       "      <td>2007</td>\n",
       "      <td>2009</td>\n",
       "      <td>G</td>\n",
       "      <td>6-4</td>\n",
       "      <td>220.0</td>\n",
       "      <td>June 20, 1984</td>\n",
       "      <td>University of Arizona</td>\n",
       "    </tr>\n",
       "    <tr>\n",
       "      <th>19</th>\n",
       "      <td>Jordan Adams</td>\n",
       "      <td>2015</td>\n",
       "      <td>2016</td>\n",
       "      <td>G</td>\n",
       "      <td>6-5</td>\n",
       "      <td>209.0</td>\n",
       "      <td>July 8, 1994</td>\n",
       "      <td>University of California, Los Angeles</td>\n",
       "    </tr>\n",
       "    <tr>\n",
       "      <th>20</th>\n",
       "      <td>Michael Adams</td>\n",
       "      <td>1986</td>\n",
       "      <td>1996</td>\n",
       "      <td>G</td>\n",
       "      <td>5-10</td>\n",
       "      <td>162.0</td>\n",
       "      <td>January 19, 1963</td>\n",
       "      <td>Boston College</td>\n",
       "    </tr>\n",
       "    <tr>\n",
       "      <th>21</th>\n",
       "      <td>Steven Adams</td>\n",
       "      <td>2014</td>\n",
       "      <td>2018</td>\n",
       "      <td>C</td>\n",
       "      <td>7-0</td>\n",
       "      <td>255.0</td>\n",
       "      <td>July 20, 1993</td>\n",
       "      <td>University of Pittsburgh</td>\n",
       "    </tr>\n",
       "    <tr>\n",
       "      <th>22</th>\n",
       "      <td>Rafael Addison</td>\n",
       "      <td>1987</td>\n",
       "      <td>1997</td>\n",
       "      <td>F-G</td>\n",
       "      <td>6-7</td>\n",
       "      <td>215.0</td>\n",
       "      <td>July 22, 1964</td>\n",
       "      <td>Syracuse University</td>\n",
       "    </tr>\n",
       "    <tr>\n",
       "      <th>23</th>\n",
       "      <td>Bam Adebayo</td>\n",
       "      <td>2018</td>\n",
       "      <td>2018</td>\n",
       "      <td>C-F</td>\n",
       "      <td>6-10</td>\n",
       "      <td>243.0</td>\n",
       "      <td>July 18, 1997</td>\n",
       "      <td>University of Kentucky</td>\n",
       "    </tr>\n",
       "    <tr>\n",
       "      <th>24</th>\n",
       "      <td>Rick Adelman</td>\n",
       "      <td>1969</td>\n",
       "      <td>1975</td>\n",
       "      <td>G</td>\n",
       "      <td>6-1</td>\n",
       "      <td>175.0</td>\n",
       "      <td>June 16, 1946</td>\n",
       "      <td>Loyola Marymount University</td>\n",
       "    </tr>\n",
       "    <tr>\n",
       "      <th>25</th>\n",
       "      <td>Jeff Adrien</td>\n",
       "      <td>2011</td>\n",
       "      <td>2015</td>\n",
       "      <td>F</td>\n",
       "      <td>6-7</td>\n",
       "      <td>245.0</td>\n",
       "      <td>February 10, 1986</td>\n",
       "      <td>University of Connecticut</td>\n",
       "    </tr>\n",
       "    <tr>\n",
       "      <th>26</th>\n",
       "      <td>Arron Afflalo</td>\n",
       "      <td>2008</td>\n",
       "      <td>2018</td>\n",
       "      <td>G</td>\n",
       "      <td>6-5</td>\n",
       "      <td>210.0</td>\n",
       "      <td>October 15, 1985</td>\n",
       "      <td>University of California, Los Angeles</td>\n",
       "    </tr>\n",
       "    <tr>\n",
       "      <th>27</th>\n",
       "      <td>Maurice Ager</td>\n",
       "      <td>2007</td>\n",
       "      <td>2011</td>\n",
       "      <td>G</td>\n",
       "      <td>6-5</td>\n",
       "      <td>202.0</td>\n",
       "      <td>February 9, 1984</td>\n",
       "      <td>Michigan State University</td>\n",
       "    </tr>\n",
       "    <tr>\n",
       "      <th>28</th>\n",
       "      <td>Mark Aguirre</td>\n",
       "      <td>1982</td>\n",
       "      <td>1994</td>\n",
       "      <td>F-G</td>\n",
       "      <td>6-6</td>\n",
       "      <td>232.0</td>\n",
       "      <td>December 10, 1959</td>\n",
       "      <td>DePaul University</td>\n",
       "    </tr>\n",
       "    <tr>\n",
       "      <th>29</th>\n",
       "      <td>Blake Ahearn</td>\n",
       "      <td>2008</td>\n",
       "      <td>2012</td>\n",
       "      <td>G</td>\n",
       "      <td>6-2</td>\n",
       "      <td>190.0</td>\n",
       "      <td>May 27, 1984</td>\n",
       "      <td>Missouri State University</td>\n",
       "    </tr>\n",
       "    <tr>\n",
       "      <th>...</th>\n",
       "      <td>...</td>\n",
       "      <td>...</td>\n",
       "      <td>...</td>\n",
       "      <td>...</td>\n",
       "      <td>...</td>\n",
       "      <td>...</td>\n",
       "      <td>...</td>\n",
       "      <td>...</td>\n",
       "    </tr>\n",
       "    <tr>\n",
       "      <th>4520</th>\n",
       "      <td>James Young</td>\n",
       "      <td>2015</td>\n",
       "      <td>2017</td>\n",
       "      <td>G-F</td>\n",
       "      <td>6-6</td>\n",
       "      <td>215.0</td>\n",
       "      <td>August 16, 1995</td>\n",
       "      <td>University of Kentucky</td>\n",
       "    </tr>\n",
       "    <tr>\n",
       "      <th>4521</th>\n",
       "      <td>Joe Young</td>\n",
       "      <td>2016</td>\n",
       "      <td>2018</td>\n",
       "      <td>G</td>\n",
       "      <td>6-2</td>\n",
       "      <td>180.0</td>\n",
       "      <td>June 27, 1992</td>\n",
       "      <td>University of Oregon</td>\n",
       "    </tr>\n",
       "    <tr>\n",
       "      <th>4522</th>\n",
       "      <td>Korleone Young</td>\n",
       "      <td>1999</td>\n",
       "      <td>1999</td>\n",
       "      <td>F</td>\n",
       "      <td>6-7</td>\n",
       "      <td>213.0</td>\n",
       "      <td>December 31, 1978</td>\n",
       "      <td>NaN</td>\n",
       "    </tr>\n",
       "    <tr>\n",
       "      <th>4523</th>\n",
       "      <td>Michael Young</td>\n",
       "      <td>1985</td>\n",
       "      <td>1990</td>\n",
       "      <td>F-G</td>\n",
       "      <td>6-7</td>\n",
       "      <td>220.0</td>\n",
       "      <td>January 2, 1961</td>\n",
       "      <td>University of Houston</td>\n",
       "    </tr>\n",
       "    <tr>\n",
       "      <th>4524</th>\n",
       "      <td>Nick Young</td>\n",
       "      <td>2008</td>\n",
       "      <td>2018</td>\n",
       "      <td>G-F</td>\n",
       "      <td>6-7</td>\n",
       "      <td>210.0</td>\n",
       "      <td>June 1, 1985</td>\n",
       "      <td>University of Southern California</td>\n",
       "    </tr>\n",
       "    <tr>\n",
       "      <th>4525</th>\n",
       "      <td>Perry Young</td>\n",
       "      <td>1987</td>\n",
       "      <td>1987</td>\n",
       "      <td>G</td>\n",
       "      <td>6-5</td>\n",
       "      <td>210.0</td>\n",
       "      <td>August 4, 1963</td>\n",
       "      <td>Virginia Polytechnic Institute and State Unive...</td>\n",
       "    </tr>\n",
       "    <tr>\n",
       "      <th>4526</th>\n",
       "      <td>Sam Young</td>\n",
       "      <td>2010</td>\n",
       "      <td>2013</td>\n",
       "      <td>F</td>\n",
       "      <td>6-6</td>\n",
       "      <td>220.0</td>\n",
       "      <td>June 1, 1985</td>\n",
       "      <td>University of Pittsburgh</td>\n",
       "    </tr>\n",
       "    <tr>\n",
       "      <th>4527</th>\n",
       "      <td>Thaddeus Young</td>\n",
       "      <td>2008</td>\n",
       "      <td>2018</td>\n",
       "      <td>F</td>\n",
       "      <td>6-8</td>\n",
       "      <td>221.0</td>\n",
       "      <td>June 21, 1988</td>\n",
       "      <td>Georgia Institute of Technology</td>\n",
       "    </tr>\n",
       "    <tr>\n",
       "      <th>4528</th>\n",
       "      <td>Tim Young</td>\n",
       "      <td>2000</td>\n",
       "      <td>2000</td>\n",
       "      <td>C</td>\n",
       "      <td>7-0</td>\n",
       "      <td>220.0</td>\n",
       "      <td>February 6, 1976</td>\n",
       "      <td>Stanford University</td>\n",
       "    </tr>\n",
       "    <tr>\n",
       "      <th>4529</th>\n",
       "      <td>Sun Yue</td>\n",
       "      <td>2009</td>\n",
       "      <td>2009</td>\n",
       "      <td>G</td>\n",
       "      <td>6-9</td>\n",
       "      <td>205.0</td>\n",
       "      <td>November 6, 1985</td>\n",
       "      <td>NaN</td>\n",
       "    </tr>\n",
       "    <tr>\n",
       "      <th>4530</th>\n",
       "      <td>Max Zaslofsky</td>\n",
       "      <td>1947</td>\n",
       "      <td>1956</td>\n",
       "      <td>G-F</td>\n",
       "      <td>6-2</td>\n",
       "      <td>170.0</td>\n",
       "      <td>December 7, 1925</td>\n",
       "      <td>St. John's University</td>\n",
       "    </tr>\n",
       "    <tr>\n",
       "      <th>4531</th>\n",
       "      <td>Zeke Zawoluk</td>\n",
       "      <td>1953</td>\n",
       "      <td>1955</td>\n",
       "      <td>F-C</td>\n",
       "      <td>6-7</td>\n",
       "      <td>215.0</td>\n",
       "      <td>October 13, 1930</td>\n",
       "      <td>St. John's University</td>\n",
       "    </tr>\n",
       "    <tr>\n",
       "      <th>4532</th>\n",
       "      <td>Cody Zeller</td>\n",
       "      <td>2014</td>\n",
       "      <td>2018</td>\n",
       "      <td>C-F</td>\n",
       "      <td>7-0</td>\n",
       "      <td>240.0</td>\n",
       "      <td>October 5, 1992</td>\n",
       "      <td>Indiana University</td>\n",
       "    </tr>\n",
       "    <tr>\n",
       "      <th>4533</th>\n",
       "      <td>Dave Zeller</td>\n",
       "      <td>1962</td>\n",
       "      <td>1962</td>\n",
       "      <td>G</td>\n",
       "      <td>6-1</td>\n",
       "      <td>175.0</td>\n",
       "      <td>June 8, 1939</td>\n",
       "      <td>Miami University</td>\n",
       "    </tr>\n",
       "    <tr>\n",
       "      <th>4534</th>\n",
       "      <td>Gary Zeller</td>\n",
       "      <td>1971</td>\n",
       "      <td>1972</td>\n",
       "      <td>G</td>\n",
       "      <td>6-3</td>\n",
       "      <td>205.0</td>\n",
       "      <td>November 20, 1947</td>\n",
       "      <td>Drake University</td>\n",
       "    </tr>\n",
       "    <tr>\n",
       "      <th>4535</th>\n",
       "      <td>Harry Zeller</td>\n",
       "      <td>1947</td>\n",
       "      <td>1947</td>\n",
       "      <td>C-F</td>\n",
       "      <td>6-4</td>\n",
       "      <td>210.0</td>\n",
       "      <td>July 10, 1919</td>\n",
       "      <td>Washington &amp; Jefferson College</td>\n",
       "    </tr>\n",
       "    <tr>\n",
       "      <th>4536</th>\n",
       "      <td>Luke Zeller</td>\n",
       "      <td>2013</td>\n",
       "      <td>2013</td>\n",
       "      <td>C</td>\n",
       "      <td>6-11</td>\n",
       "      <td>245.0</td>\n",
       "      <td>April 7, 1987</td>\n",
       "      <td>University of Notre Dame</td>\n",
       "    </tr>\n",
       "    <tr>\n",
       "      <th>4537</th>\n",
       "      <td>Tyler Zeller</td>\n",
       "      <td>2013</td>\n",
       "      <td>2018</td>\n",
       "      <td>F-C</td>\n",
       "      <td>7-0</td>\n",
       "      <td>253.0</td>\n",
       "      <td>January 17, 1990</td>\n",
       "      <td>University of North Carolina</td>\n",
       "    </tr>\n",
       "    <tr>\n",
       "      <th>4538</th>\n",
       "      <td>Tony Zeno</td>\n",
       "      <td>1980</td>\n",
       "      <td>1980</td>\n",
       "      <td>F</td>\n",
       "      <td>6-8</td>\n",
       "      <td>210.0</td>\n",
       "      <td>October 1, 1957</td>\n",
       "      <td>Arizona State University</td>\n",
       "    </tr>\n",
       "    <tr>\n",
       "      <th>4539</th>\n",
       "      <td>Phil Zevenbergen</td>\n",
       "      <td>1988</td>\n",
       "      <td>1988</td>\n",
       "      <td>C</td>\n",
       "      <td>6-10</td>\n",
       "      <td>230.0</td>\n",
       "      <td>April 13, 1964</td>\n",
       "      <td>University of Washington</td>\n",
       "    </tr>\n",
       "    <tr>\n",
       "      <th>4540</th>\n",
       "      <td>Wang Zhizhi</td>\n",
       "      <td>2001</td>\n",
       "      <td>2005</td>\n",
       "      <td>C</td>\n",
       "      <td>7-0</td>\n",
       "      <td>255.0</td>\n",
       "      <td>July 8, 1977</td>\n",
       "      <td>NaN</td>\n",
       "    </tr>\n",
       "    <tr>\n",
       "      <th>4541</th>\n",
       "      <td>George Zidek</td>\n",
       "      <td>1996</td>\n",
       "      <td>1998</td>\n",
       "      <td>C</td>\n",
       "      <td>7-0</td>\n",
       "      <td>250.0</td>\n",
       "      <td>August 2, 1973</td>\n",
       "      <td>University of California, Los Angeles</td>\n",
       "    </tr>\n",
       "    <tr>\n",
       "      <th>4542</th>\n",
       "      <td>Derrick Zimmerman</td>\n",
       "      <td>2006</td>\n",
       "      <td>2006</td>\n",
       "      <td>G</td>\n",
       "      <td>6-3</td>\n",
       "      <td>195.0</td>\n",
       "      <td>December 2, 1981</td>\n",
       "      <td>Mississippi State University</td>\n",
       "    </tr>\n",
       "    <tr>\n",
       "      <th>4543</th>\n",
       "      <td>Stephen Zimmerman</td>\n",
       "      <td>2017</td>\n",
       "      <td>2017</td>\n",
       "      <td>C</td>\n",
       "      <td>7-0</td>\n",
       "      <td>240.0</td>\n",
       "      <td>September 9, 1996</td>\n",
       "      <td>University of Nevada, Las Vegas</td>\n",
       "    </tr>\n",
       "    <tr>\n",
       "      <th>4544</th>\n",
       "      <td>Paul Zipser</td>\n",
       "      <td>2017</td>\n",
       "      <td>2018</td>\n",
       "      <td>G-F</td>\n",
       "      <td>6-8</td>\n",
       "      <td>215.0</td>\n",
       "      <td>February 18, 1994</td>\n",
       "      <td>NaN</td>\n",
       "    </tr>\n",
       "    <tr>\n",
       "      <th>4545</th>\n",
       "      <td>Ante Zizic</td>\n",
       "      <td>2018</td>\n",
       "      <td>2018</td>\n",
       "      <td>F-C</td>\n",
       "      <td>6-11</td>\n",
       "      <td>250.0</td>\n",
       "      <td>January 4, 1997</td>\n",
       "      <td>NaN</td>\n",
       "    </tr>\n",
       "    <tr>\n",
       "      <th>4546</th>\n",
       "      <td>Jim Zoet</td>\n",
       "      <td>1983</td>\n",
       "      <td>1983</td>\n",
       "      <td>C</td>\n",
       "      <td>7-1</td>\n",
       "      <td>240.0</td>\n",
       "      <td>December 20, 1953</td>\n",
       "      <td>Kent State University</td>\n",
       "    </tr>\n",
       "    <tr>\n",
       "      <th>4547</th>\n",
       "      <td>Bill Zopf</td>\n",
       "      <td>1971</td>\n",
       "      <td>1971</td>\n",
       "      <td>G</td>\n",
       "      <td>6-1</td>\n",
       "      <td>170.0</td>\n",
       "      <td>June 7, 1948</td>\n",
       "      <td>Duquesne University</td>\n",
       "    </tr>\n",
       "    <tr>\n",
       "      <th>4548</th>\n",
       "      <td>Ivica Zubac</td>\n",
       "      <td>2017</td>\n",
       "      <td>2018</td>\n",
       "      <td>C</td>\n",
       "      <td>7-1</td>\n",
       "      <td>265.0</td>\n",
       "      <td>March 18, 1997</td>\n",
       "      <td>NaN</td>\n",
       "    </tr>\n",
       "    <tr>\n",
       "      <th>4549</th>\n",
       "      <td>Matt Zunic</td>\n",
       "      <td>1949</td>\n",
       "      <td>1949</td>\n",
       "      <td>G-F</td>\n",
       "      <td>6-3</td>\n",
       "      <td>195.0</td>\n",
       "      <td>December 19, 1919</td>\n",
       "      <td>George Washington University</td>\n",
       "    </tr>\n",
       "  </tbody>\n",
       "</table>\n",
       "<p>4550 rows × 8 columns</p>\n",
       "</div>"
      ],
      "text/plain": [
       "                     name  year_start  year_end position height  weight  \\\n",
       "0          Alaa Abdelnaby        1991      1995      F-C   6-10   240.0   \n",
       "1         Zaid Abdul-Aziz        1969      1978      C-F    6-9   235.0   \n",
       "2     Kareem Abdul-Jabbar        1970      1989        C    7-2   225.0   \n",
       "3      Mahmoud Abdul-Rauf        1991      2001        G    6-1   162.0   \n",
       "4       Tariq Abdul-Wahad        1998      2003        F    6-6   223.0   \n",
       "5     Shareef Abdur-Rahim        1997      2008        F    6-9   225.0   \n",
       "6           Tom Abernethy        1977      1981        F    6-7   220.0   \n",
       "7             Forest Able        1957      1957        G    6-3   180.0   \n",
       "8          John Abramovic        1947      1948        F    6-3   195.0   \n",
       "9            Alex Abrines        2017      2018      G-F    6-6   190.0   \n",
       "10             Alex Acker        2006      2009        G    6-5   185.0   \n",
       "11           Don Ackerman        1954      1954        G    6-0   183.0   \n",
       "12             Mark Acres        1988      1993      F-C   6-11   220.0   \n",
       "13              Bud Acton        1968      1968        F    6-6   210.0   \n",
       "14             Quincy Acy        2013      2018        F    6-7   240.0   \n",
       "15            Alvan Adams        1976      1988      C-F    6-9   210.0   \n",
       "16              Don Adams        1971      1977        F    6-6   210.0   \n",
       "17           George Adams        1973      1975      F-G    6-5   210.0   \n",
       "18           Hassan Adams        2007      2009        G    6-4   220.0   \n",
       "19           Jordan Adams        2015      2016        G    6-5   209.0   \n",
       "20          Michael Adams        1986      1996        G   5-10   162.0   \n",
       "21           Steven Adams        2014      2018        C    7-0   255.0   \n",
       "22         Rafael Addison        1987      1997      F-G    6-7   215.0   \n",
       "23            Bam Adebayo        2018      2018      C-F   6-10   243.0   \n",
       "24           Rick Adelman        1969      1975        G    6-1   175.0   \n",
       "25            Jeff Adrien        2011      2015        F    6-7   245.0   \n",
       "26          Arron Afflalo        2008      2018        G    6-5   210.0   \n",
       "27           Maurice Ager        2007      2011        G    6-5   202.0   \n",
       "28           Mark Aguirre        1982      1994      F-G    6-6   232.0   \n",
       "29           Blake Ahearn        2008      2012        G    6-2   190.0   \n",
       "...                   ...         ...       ...      ...    ...     ...   \n",
       "4520          James Young        2015      2017      G-F    6-6   215.0   \n",
       "4521            Joe Young        2016      2018        G    6-2   180.0   \n",
       "4522       Korleone Young        1999      1999        F    6-7   213.0   \n",
       "4523        Michael Young        1985      1990      F-G    6-7   220.0   \n",
       "4524           Nick Young        2008      2018      G-F    6-7   210.0   \n",
       "4525          Perry Young        1987      1987        G    6-5   210.0   \n",
       "4526            Sam Young        2010      2013        F    6-6   220.0   \n",
       "4527       Thaddeus Young        2008      2018        F    6-8   221.0   \n",
       "4528            Tim Young        2000      2000        C    7-0   220.0   \n",
       "4529              Sun Yue        2009      2009        G    6-9   205.0   \n",
       "4530        Max Zaslofsky        1947      1956      G-F    6-2   170.0   \n",
       "4531         Zeke Zawoluk        1953      1955      F-C    6-7   215.0   \n",
       "4532          Cody Zeller        2014      2018      C-F    7-0   240.0   \n",
       "4533          Dave Zeller        1962      1962        G    6-1   175.0   \n",
       "4534          Gary Zeller        1971      1972        G    6-3   205.0   \n",
       "4535         Harry Zeller        1947      1947      C-F    6-4   210.0   \n",
       "4536          Luke Zeller        2013      2013        C   6-11   245.0   \n",
       "4537         Tyler Zeller        2013      2018      F-C    7-0   253.0   \n",
       "4538            Tony Zeno        1980      1980        F    6-8   210.0   \n",
       "4539     Phil Zevenbergen        1988      1988        C   6-10   230.0   \n",
       "4540          Wang Zhizhi        2001      2005        C    7-0   255.0   \n",
       "4541         George Zidek        1996      1998        C    7-0   250.0   \n",
       "4542    Derrick Zimmerman        2006      2006        G    6-3   195.0   \n",
       "4543    Stephen Zimmerman        2017      2017        C    7-0   240.0   \n",
       "4544          Paul Zipser        2017      2018      G-F    6-8   215.0   \n",
       "4545           Ante Zizic        2018      2018      F-C   6-11   250.0   \n",
       "4546             Jim Zoet        1983      1983        C    7-1   240.0   \n",
       "4547            Bill Zopf        1971      1971        G    6-1   170.0   \n",
       "4548          Ivica Zubac        2017      2018        C    7-1   265.0   \n",
       "4549           Matt Zunic        1949      1949      G-F    6-3   195.0   \n",
       "\n",
       "             birth_date                                            college  \n",
       "0         June 24, 1968                                    Duke University  \n",
       "1         April 7, 1946                              Iowa State University  \n",
       "2        April 16, 1947              University of California, Los Angeles  \n",
       "3         March 9, 1969                         Louisiana State University  \n",
       "4      November 3, 1974                          San Jose State University  \n",
       "5     December 11, 1976                           University of California  \n",
       "6           May 6, 1954                                 Indiana University  \n",
       "7         July 27, 1932                        Western Kentucky University  \n",
       "8      February 9, 1919                     Salem International University  \n",
       "9        August 1, 1993                                                NaN  \n",
       "10     January 21, 1983                              Pepperdine University  \n",
       "11    September 4, 1930                             Long Island University  \n",
       "12    November 15, 1962                            Oral Roberts University  \n",
       "13     January 11, 1942                                  Hillsdale College  \n",
       "14      October 6, 1990                                  Baylor University  \n",
       "15        July 19, 1954                             University of Oklahoma  \n",
       "16    November 27, 1947                            Northwestern University  \n",
       "17         May 15, 1949                            Gardner-Webb University  \n",
       "18        June 20, 1984                              University of Arizona  \n",
       "19         July 8, 1994              University of California, Los Angeles  \n",
       "20     January 19, 1963                                     Boston College  \n",
       "21        July 20, 1993                           University of Pittsburgh  \n",
       "22        July 22, 1964                                Syracuse University  \n",
       "23        July 18, 1997                             University of Kentucky  \n",
       "24        June 16, 1946                        Loyola Marymount University  \n",
       "25    February 10, 1986                          University of Connecticut  \n",
       "26     October 15, 1985              University of California, Los Angeles  \n",
       "27     February 9, 1984                          Michigan State University  \n",
       "28    December 10, 1959                                  DePaul University  \n",
       "29         May 27, 1984                          Missouri State University  \n",
       "...                 ...                                                ...  \n",
       "4520    August 16, 1995                             University of Kentucky  \n",
       "4521      June 27, 1992                               University of Oregon  \n",
       "4522  December 31, 1978                                                NaN  \n",
       "4523    January 2, 1961                              University of Houston  \n",
       "4524       June 1, 1985                  University of Southern California  \n",
       "4525     August 4, 1963  Virginia Polytechnic Institute and State Unive...  \n",
       "4526       June 1, 1985                           University of Pittsburgh  \n",
       "4527      June 21, 1988                    Georgia Institute of Technology  \n",
       "4528   February 6, 1976                                Stanford University  \n",
       "4529   November 6, 1985                                                NaN  \n",
       "4530   December 7, 1925                              St. John's University  \n",
       "4531   October 13, 1930                              St. John's University  \n",
       "4532    October 5, 1992                                 Indiana University  \n",
       "4533       June 8, 1939                                   Miami University  \n",
       "4534  November 20, 1947                                   Drake University  \n",
       "4535      July 10, 1919                     Washington & Jefferson College  \n",
       "4536      April 7, 1987                           University of Notre Dame  \n",
       "4537   January 17, 1990                       University of North Carolina  \n",
       "4538    October 1, 1957                           Arizona State University  \n",
       "4539     April 13, 1964                           University of Washington  \n",
       "4540       July 8, 1977                                                NaN  \n",
       "4541     August 2, 1973              University of California, Los Angeles  \n",
       "4542   December 2, 1981                       Mississippi State University  \n",
       "4543  September 9, 1996                    University of Nevada, Las Vegas  \n",
       "4544  February 18, 1994                                                NaN  \n",
       "4545    January 4, 1997                                                NaN  \n",
       "4546  December 20, 1953                              Kent State University  \n",
       "4547       June 7, 1948                                Duquesne University  \n",
       "4548     March 18, 1997                                                NaN  \n",
       "4549  December 19, 1919                       George Washington University  \n",
       "\n",
       "[4550 rows x 8 columns]"
      ]
     },
     "execution_count": 36,
     "metadata": {},
     "output_type": "execute_result"
    }
   ],
   "source": [
    "df1"
   ]
  },
  {
   "cell_type": "code",
   "execution_count": 34,
   "metadata": {},
   "outputs": [
    {
     "ename": "KeyError",
     "evalue": "'Avery Bradley'",
     "output_type": "error",
     "traceback": [
      "\u001b[1;31m---------------------------------------------------------------------------\u001b[0m",
      "\u001b[1;31mKeyError\u001b[0m                                  Traceback (most recent call last)",
      "\u001b[1;32m~\\Anaconda3\\lib\\site-packages\\pandas\\core\\indexes\\base.py\u001b[0m in \u001b[0;36mget_loc\u001b[1;34m(self, key, method, tolerance)\u001b[0m\n\u001b[0;32m   2656\u001b[0m             \u001b[1;32mtry\u001b[0m\u001b[1;33m:\u001b[0m\u001b[1;33m\u001b[0m\u001b[1;33m\u001b[0m\u001b[0m\n\u001b[1;32m-> 2657\u001b[1;33m                 \u001b[1;32mreturn\u001b[0m \u001b[0mself\u001b[0m\u001b[1;33m.\u001b[0m\u001b[0m_engine\u001b[0m\u001b[1;33m.\u001b[0m\u001b[0mget_loc\u001b[0m\u001b[1;33m(\u001b[0m\u001b[0mkey\u001b[0m\u001b[1;33m)\u001b[0m\u001b[1;33m\u001b[0m\u001b[1;33m\u001b[0m\u001b[0m\n\u001b[0m\u001b[0;32m   2658\u001b[0m             \u001b[1;32mexcept\u001b[0m \u001b[0mKeyError\u001b[0m\u001b[1;33m:\u001b[0m\u001b[1;33m\u001b[0m\u001b[1;33m\u001b[0m\u001b[0m\n",
      "\u001b[1;32mpandas/_libs/index.pyx\u001b[0m in \u001b[0;36mpandas._libs.index.IndexEngine.get_loc\u001b[1;34m()\u001b[0m\n",
      "\u001b[1;32mpandas/_libs/index.pyx\u001b[0m in \u001b[0;36mpandas._libs.index.IndexEngine.get_loc\u001b[1;34m()\u001b[0m\n",
      "\u001b[1;32mpandas/_libs/index_class_helper.pxi\u001b[0m in \u001b[0;36mpandas._libs.index.Int64Engine._check_type\u001b[1;34m()\u001b[0m\n",
      "\u001b[1;31mKeyError\u001b[0m: 'Avery Bradley'",
      "\nDuring handling of the above exception, another exception occurred:\n",
      "\u001b[1;31mKeyError\u001b[0m                                  Traceback (most recent call last)",
      "\u001b[1;32m<ipython-input-34-fde26d6ce7cc>\u001b[0m in \u001b[0;36m<module>\u001b[1;34m\u001b[0m\n\u001b[1;32m----> 1\u001b[1;33m \u001b[0mfirst\u001b[0m \u001b[1;33m=\u001b[0m \u001b[0mdf1\u001b[0m\u001b[1;33m.\u001b[0m\u001b[0mloc\u001b[0m\u001b[1;33m[\u001b[0m\u001b[1;34m\"Avery Bradley\"\u001b[0m\u001b[1;33m]\u001b[0m\u001b[1;33m\u001b[0m\u001b[1;33m\u001b[0m\u001b[0m\n\u001b[0m\u001b[0;32m      2\u001b[0m \u001b[0msecond\u001b[0m \u001b[1;33m=\u001b[0m \u001b[0mdf1\u001b[0m\u001b[1;33m.\u001b[0m\u001b[0mloc\u001b[0m\u001b[1;33m[\u001b[0m\u001b[1;34m\"R.J. Hunter\"\u001b[0m\u001b[1;33m]\u001b[0m\u001b[1;33m\u001b[0m\u001b[1;33m\u001b[0m\u001b[0m\n\u001b[0;32m      3\u001b[0m \u001b[1;33m\u001b[0m\u001b[0m\n",
      "\u001b[1;32m~\\Anaconda3\\lib\\site-packages\\pandas\\core\\indexing.py\u001b[0m in \u001b[0;36m__getitem__\u001b[1;34m(self, key)\u001b[0m\n\u001b[0;32m   1498\u001b[0m \u001b[1;33m\u001b[0m\u001b[0m\n\u001b[0;32m   1499\u001b[0m             \u001b[0mmaybe_callable\u001b[0m \u001b[1;33m=\u001b[0m \u001b[0mcom\u001b[0m\u001b[1;33m.\u001b[0m\u001b[0mapply_if_callable\u001b[0m\u001b[1;33m(\u001b[0m\u001b[0mkey\u001b[0m\u001b[1;33m,\u001b[0m \u001b[0mself\u001b[0m\u001b[1;33m.\u001b[0m\u001b[0mobj\u001b[0m\u001b[1;33m)\u001b[0m\u001b[1;33m\u001b[0m\u001b[1;33m\u001b[0m\u001b[0m\n\u001b[1;32m-> 1500\u001b[1;33m             \u001b[1;32mreturn\u001b[0m \u001b[0mself\u001b[0m\u001b[1;33m.\u001b[0m\u001b[0m_getitem_axis\u001b[0m\u001b[1;33m(\u001b[0m\u001b[0mmaybe_callable\u001b[0m\u001b[1;33m,\u001b[0m \u001b[0maxis\u001b[0m\u001b[1;33m=\u001b[0m\u001b[0maxis\u001b[0m\u001b[1;33m)\u001b[0m\u001b[1;33m\u001b[0m\u001b[1;33m\u001b[0m\u001b[0m\n\u001b[0m\u001b[0;32m   1501\u001b[0m \u001b[1;33m\u001b[0m\u001b[0m\n\u001b[0;32m   1502\u001b[0m     \u001b[1;32mdef\u001b[0m \u001b[0m_is_scalar_access\u001b[0m\u001b[1;33m(\u001b[0m\u001b[0mself\u001b[0m\u001b[1;33m,\u001b[0m \u001b[0mkey\u001b[0m\u001b[1;33m)\u001b[0m\u001b[1;33m:\u001b[0m\u001b[1;33m\u001b[0m\u001b[1;33m\u001b[0m\u001b[0m\n",
      "\u001b[1;32m~\\Anaconda3\\lib\\site-packages\\pandas\\core\\indexing.py\u001b[0m in \u001b[0;36m_getitem_axis\u001b[1;34m(self, key, axis)\u001b[0m\n\u001b[0;32m   1911\u001b[0m         \u001b[1;31m# fall thru to straight lookup\u001b[0m\u001b[1;33m\u001b[0m\u001b[1;33m\u001b[0m\u001b[1;33m\u001b[0m\u001b[0m\n\u001b[0;32m   1912\u001b[0m         \u001b[0mself\u001b[0m\u001b[1;33m.\u001b[0m\u001b[0m_validate_key\u001b[0m\u001b[1;33m(\u001b[0m\u001b[0mkey\u001b[0m\u001b[1;33m,\u001b[0m \u001b[0maxis\u001b[0m\u001b[1;33m)\u001b[0m\u001b[1;33m\u001b[0m\u001b[1;33m\u001b[0m\u001b[0m\n\u001b[1;32m-> 1913\u001b[1;33m         \u001b[1;32mreturn\u001b[0m \u001b[0mself\u001b[0m\u001b[1;33m.\u001b[0m\u001b[0m_get_label\u001b[0m\u001b[1;33m(\u001b[0m\u001b[0mkey\u001b[0m\u001b[1;33m,\u001b[0m \u001b[0maxis\u001b[0m\u001b[1;33m=\u001b[0m\u001b[0maxis\u001b[0m\u001b[1;33m)\u001b[0m\u001b[1;33m\u001b[0m\u001b[1;33m\u001b[0m\u001b[0m\n\u001b[0m\u001b[0;32m   1914\u001b[0m \u001b[1;33m\u001b[0m\u001b[0m\n\u001b[0;32m   1915\u001b[0m \u001b[1;33m\u001b[0m\u001b[0m\n",
      "\u001b[1;32m~\\Anaconda3\\lib\\site-packages\\pandas\\core\\indexing.py\u001b[0m in \u001b[0;36m_get_label\u001b[1;34m(self, label, axis)\u001b[0m\n\u001b[0;32m    139\u001b[0m             \u001b[1;32mraise\u001b[0m \u001b[0mIndexingError\u001b[0m\u001b[1;33m(\u001b[0m\u001b[1;34m'no slices here, handle elsewhere'\u001b[0m\u001b[1;33m)\u001b[0m\u001b[1;33m\u001b[0m\u001b[1;33m\u001b[0m\u001b[0m\n\u001b[0;32m    140\u001b[0m \u001b[1;33m\u001b[0m\u001b[0m\n\u001b[1;32m--> 141\u001b[1;33m         \u001b[1;32mreturn\u001b[0m \u001b[0mself\u001b[0m\u001b[1;33m.\u001b[0m\u001b[0mobj\u001b[0m\u001b[1;33m.\u001b[0m\u001b[0m_xs\u001b[0m\u001b[1;33m(\u001b[0m\u001b[0mlabel\u001b[0m\u001b[1;33m,\u001b[0m \u001b[0maxis\u001b[0m\u001b[1;33m=\u001b[0m\u001b[0maxis\u001b[0m\u001b[1;33m)\u001b[0m\u001b[1;33m\u001b[0m\u001b[1;33m\u001b[0m\u001b[0m\n\u001b[0m\u001b[0;32m    142\u001b[0m \u001b[1;33m\u001b[0m\u001b[0m\n\u001b[0;32m    143\u001b[0m     \u001b[1;32mdef\u001b[0m \u001b[0m_get_loc\u001b[0m\u001b[1;33m(\u001b[0m\u001b[0mself\u001b[0m\u001b[1;33m,\u001b[0m \u001b[0mkey\u001b[0m\u001b[1;33m,\u001b[0m \u001b[0maxis\u001b[0m\u001b[1;33m=\u001b[0m\u001b[1;32mNone\u001b[0m\u001b[1;33m)\u001b[0m\u001b[1;33m:\u001b[0m\u001b[1;33m\u001b[0m\u001b[1;33m\u001b[0m\u001b[0m\n",
      "\u001b[1;32m~\\Anaconda3\\lib\\site-packages\\pandas\\core\\generic.py\u001b[0m in \u001b[0;36mxs\u001b[1;34m(self, key, axis, level, drop_level)\u001b[0m\n\u001b[0;32m   3583\u001b[0m                                                       drop_level=drop_level)\n\u001b[0;32m   3584\u001b[0m         \u001b[1;32melse\u001b[0m\u001b[1;33m:\u001b[0m\u001b[1;33m\u001b[0m\u001b[1;33m\u001b[0m\u001b[0m\n\u001b[1;32m-> 3585\u001b[1;33m             \u001b[0mloc\u001b[0m \u001b[1;33m=\u001b[0m \u001b[0mself\u001b[0m\u001b[1;33m.\u001b[0m\u001b[0mindex\u001b[0m\u001b[1;33m.\u001b[0m\u001b[0mget_loc\u001b[0m\u001b[1;33m(\u001b[0m\u001b[0mkey\u001b[0m\u001b[1;33m)\u001b[0m\u001b[1;33m\u001b[0m\u001b[1;33m\u001b[0m\u001b[0m\n\u001b[0m\u001b[0;32m   3586\u001b[0m \u001b[1;33m\u001b[0m\u001b[0m\n\u001b[0;32m   3587\u001b[0m             \u001b[1;32mif\u001b[0m \u001b[0misinstance\u001b[0m\u001b[1;33m(\u001b[0m\u001b[0mloc\u001b[0m\u001b[1;33m,\u001b[0m \u001b[0mnp\u001b[0m\u001b[1;33m.\u001b[0m\u001b[0mndarray\u001b[0m\u001b[1;33m)\u001b[0m\u001b[1;33m:\u001b[0m\u001b[1;33m\u001b[0m\u001b[1;33m\u001b[0m\u001b[0m\n",
      "\u001b[1;32m~\\Anaconda3\\lib\\site-packages\\pandas\\core\\indexes\\base.py\u001b[0m in \u001b[0;36mget_loc\u001b[1;34m(self, key, method, tolerance)\u001b[0m\n\u001b[0;32m   2657\u001b[0m                 \u001b[1;32mreturn\u001b[0m \u001b[0mself\u001b[0m\u001b[1;33m.\u001b[0m\u001b[0m_engine\u001b[0m\u001b[1;33m.\u001b[0m\u001b[0mget_loc\u001b[0m\u001b[1;33m(\u001b[0m\u001b[0mkey\u001b[0m\u001b[1;33m)\u001b[0m\u001b[1;33m\u001b[0m\u001b[1;33m\u001b[0m\u001b[0m\n\u001b[0;32m   2658\u001b[0m             \u001b[1;32mexcept\u001b[0m \u001b[0mKeyError\u001b[0m\u001b[1;33m:\u001b[0m\u001b[1;33m\u001b[0m\u001b[1;33m\u001b[0m\u001b[0m\n\u001b[1;32m-> 2659\u001b[1;33m                 \u001b[1;32mreturn\u001b[0m \u001b[0mself\u001b[0m\u001b[1;33m.\u001b[0m\u001b[0m_engine\u001b[0m\u001b[1;33m.\u001b[0m\u001b[0mget_loc\u001b[0m\u001b[1;33m(\u001b[0m\u001b[0mself\u001b[0m\u001b[1;33m.\u001b[0m\u001b[0m_maybe_cast_indexer\u001b[0m\u001b[1;33m(\u001b[0m\u001b[0mkey\u001b[0m\u001b[1;33m)\u001b[0m\u001b[1;33m)\u001b[0m\u001b[1;33m\u001b[0m\u001b[1;33m\u001b[0m\u001b[0m\n\u001b[0m\u001b[0;32m   2660\u001b[0m         \u001b[0mindexer\u001b[0m \u001b[1;33m=\u001b[0m \u001b[0mself\u001b[0m\u001b[1;33m.\u001b[0m\u001b[0mget_indexer\u001b[0m\u001b[1;33m(\u001b[0m\u001b[1;33m[\u001b[0m\u001b[0mkey\u001b[0m\u001b[1;33m]\u001b[0m\u001b[1;33m,\u001b[0m \u001b[0mmethod\u001b[0m\u001b[1;33m=\u001b[0m\u001b[0mmethod\u001b[0m\u001b[1;33m,\u001b[0m \u001b[0mtolerance\u001b[0m\u001b[1;33m=\u001b[0m\u001b[0mtolerance\u001b[0m\u001b[1;33m)\u001b[0m\u001b[1;33m\u001b[0m\u001b[1;33m\u001b[0m\u001b[0m\n\u001b[0;32m   2661\u001b[0m         \u001b[1;32mif\u001b[0m \u001b[0mindexer\u001b[0m\u001b[1;33m.\u001b[0m\u001b[0mndim\u001b[0m \u001b[1;33m>\u001b[0m \u001b[1;36m1\u001b[0m \u001b[1;32mor\u001b[0m \u001b[0mindexer\u001b[0m\u001b[1;33m.\u001b[0m\u001b[0msize\u001b[0m \u001b[1;33m>\u001b[0m \u001b[1;36m1\u001b[0m\u001b[1;33m:\u001b[0m\u001b[1;33m\u001b[0m\u001b[1;33m\u001b[0m\u001b[0m\n",
      "\u001b[1;32mpandas/_libs/index.pyx\u001b[0m in \u001b[0;36mpandas._libs.index.IndexEngine.get_loc\u001b[1;34m()\u001b[0m\n",
      "\u001b[1;32mpandas/_libs/index.pyx\u001b[0m in \u001b[0;36mpandas._libs.index.IndexEngine.get_loc\u001b[1;34m()\u001b[0m\n",
      "\u001b[1;32mpandas/_libs/index_class_helper.pxi\u001b[0m in \u001b[0;36mpandas._libs.index.Int64Engine._check_type\u001b[1;34m()\u001b[0m\n",
      "\u001b[1;31mKeyError\u001b[0m: 'Avery Bradley'"
     ]
    }
   ],
   "source": [
    "first = df1.loc[\"Avery Bradley\"]\n",
    "second = df1.loc[\"R.J. Hunter\"]\n",
    " "
   ]
  },
  {
   "cell_type": "code",
   "execution_count": null,
   "metadata": {},
   "outputs": [],
   "source": []
  }
 ],
 "metadata": {
  "hide_input": false,
  "kernelspec": {
   "display_name": "Python 3",
   "language": "python",
   "name": "python3"
  },
  "language_info": {
   "codemirror_mode": {
    "name": "ipython",
    "version": 3
   },
   "file_extension": ".py",
   "mimetype": "text/x-python",
   "name": "python",
   "nbconvert_exporter": "python",
   "pygments_lexer": "ipython3",
   "version": "3.7.3"
  }
 },
 "nbformat": 4,
 "nbformat_minor": 2
}
