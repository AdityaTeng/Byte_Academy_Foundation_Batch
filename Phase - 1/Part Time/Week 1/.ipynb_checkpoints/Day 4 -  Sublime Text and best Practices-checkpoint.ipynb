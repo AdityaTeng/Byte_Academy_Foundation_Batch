{
 "cells": [
  {
   "cell_type": "code",
   "execution_count": 4,
   "metadata": {},
   "outputs": [],
   "source": [
    "# Battleship: in CMD\n",
    "    \n",
    "    "
   ]
  },
  {
   "cell_type": "markdown",
   "metadata": {},
   "source": [
    "\n",
    "\n",
    "    CMD Commands   \n",
    "    Navigating through the terminal\n",
    "    Sublime / IDLE. \n",
    "    Best Practices: \n",
    "        1. Keeping it simple,\n",
    "        2. DRY code,\n",
    "        3. naming conventions,\n",
    "        4. comments and documentation.\n",
    "        "
   ]
  },
  {
   "cell_type": "code",
   "execution_count": 3,
   "metadata": {},
   "outputs": [
    {
     "name": "stdout",
     "output_type": "stream",
     "text": [
      "\n"
     ]
    }
   ],
   "source": [
    "# CMD Commands\n",
    "\n",
    "''' 1. cmd   : type cmd in addres bar of any folder to open command prompt in that folder\n",
    "    2. dir   : list directory content\n",
    "    3. tree  : Displays directory paths and (optionally) files in each subdirectory.\n",
    "    4. cd .. : previous directory\n",
    "    5. date  : display date\n",
    "\n",
    "    6. chdir : change directory\n",
    "    7. mkdir : make directory\n",
    "    8. del   : delete files/folders\n",
    "    9. exit  : exits the command prompt'''\n",
    "\n",
    "print()"
   ]
  },
  {
   "cell_type": "code",
   "execution_count": null,
   "metadata": {},
   "outputs": [],
   "source": [
    "DRY Code: Donot Repeat Yourself"
   ]
  }
 ],
 "metadata": {
  "hide_input": false,
  "kernelspec": {
   "display_name": "Python 3",
   "language": "python",
   "name": "python3"
  },
  "language_info": {
   "codemirror_mode": {
    "name": "ipython",
    "version": 3
   },
   "file_extension": ".py",
   "mimetype": "text/x-python",
   "name": "python",
   "nbconvert_exporter": "python",
   "pygments_lexer": "ipython3",
   "version": "3.7.3"
  }
 },
 "nbformat": 4,
 "nbformat_minor": 2
}
