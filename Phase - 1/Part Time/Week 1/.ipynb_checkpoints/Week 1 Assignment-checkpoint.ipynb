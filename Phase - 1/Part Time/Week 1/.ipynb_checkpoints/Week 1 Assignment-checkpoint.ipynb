{
 "cells": [
  {
   "cell_type": "markdown",
   "metadata": {},
   "source": [
    "### Assignment 1"
   ]
  },
  {
   "cell_type": "code",
   "execution_count": 2,
   "metadata": {},
   "outputs": [
    {
     "name": "stdout",
     "output_type": "stream",
     "text": [
      "Enter your weight10\n",
      "10.0\n"
     ]
    }
   ],
   "source": [
    "a = float(input(\"Enter your weight\"))\n",
    "print(a)"
   ]
  },
  {
   "cell_type": "code",
   "execution_count": 19,
   "metadata": {},
   "outputs": [
    {
     "name": "stdout",
     "output_type": "stream",
     "text": [
      "Enter the first number:10\n",
      "Enter the second number:20\n",
      "<class 'int'>\n",
      "30\n"
     ]
    }
   ],
   "source": [
    "'''#1. input two numbers from the user\n",
    "    perform the following mathematical operations on them:\n",
    "    addition, subtraction, multiplication, division, modulus, exponential and\n",
    "    print the results'''\n",
    "\n",
    "a = int(input('Enter the first number:'))\n",
    "b = int(input('Enter the second number:'))\n",
    "\n",
    "\n",
    "\n",
    "print(type(a))\n",
    "\n",
    "c = a + b\n",
    "print(c)\n",
    "\n",
    "# print(a, '+', b, 'is', a+b)\n",
    "\n",
    "# print(a, '-', b, 'is', a-b)\n",
    "# print(a, '*', b, 'is', a*b)\n",
    "# print(a, '/', b, 'is', a/b)\n",
    "# print(a, 'modulus', b, 'is', a%b)\n",
    "# print(a, 'to the power', b, 'is', a**b)\n",
    "# x = 35e3\n",
    "# print(x)"
   ]
  },
  {
   "cell_type": "code",
   "execution_count": 5,
   "metadata": {},
   "outputs": [
    {
     "name": "stdout",
     "output_type": "stream",
     "text": [
      "enter the length of the room:10.1234\n",
      "enter the width of the room:10.2345\n",
      "103.61\n"
     ]
    }
   ],
   "source": [
    "'''#2. input the length and width of a room\n",
    "    and print the area of a room'''\n",
    "\n",
    "length = float(input('enter the length of the room:'))\n",
    "width = float(input('enter the width of the room:'))\n",
    "\n",
    "area = length*width\n",
    "\n",
    "print(round(area, 2))"
   ]
  },
  {
   "cell_type": "code",
   "execution_count": 7,
   "metadata": {},
   "outputs": [
    {
     "name": "stdout",
     "output_type": "stream",
     "text": [
      "200.2\n"
     ]
    }
   ],
   "source": [
    "a = 200.2424\n",
    "print(round(a, 1))"
   ]
  },
  {
   "cell_type": "code",
   "execution_count": 6,
   "metadata": {},
   "outputs": [
    {
     "name": "stdout",
     "output_type": "stream",
     "text": [
      "enter the restaurant bill:100\n",
      "the total bill is 123.0\n",
      "the tax is 5.000000 and the tip is 18.000000 making the total 123.000000\n"
     ]
    }
   ],
   "source": [
    "'''#3. input the bill from the user and print the total bill\n",
    "    tax rate is 5% and tip rate is 18% on the bill'''\n",
    "\n",
    "tax_rate = 0.05\n",
    "tip_rate = 0.18\n",
    "\n",
    "bill = float(input('enter the restaurant bill:'))\n",
    "\n",
    "tax = bill*tax_rate\n",
    "tip = bill*tip_rate\n",
    "\n",
    "total_bill = bill+tax+tip\n",
    "\n",
    "print('the total bill is', total_bill)\n",
    "\n",
    "print('the tax is %f and the tip is %f making the total %f' %(tax, tip, total_bill))\n",
    "\n"
   ]
  },
  {
   "cell_type": "code",
   "execution_count": 12,
   "metadata": {},
   "outputs": [
    {
     "name": "stdout",
     "output_type": "stream",
     "text": [
      "5\n",
      "5\n",
      "5\n",
      "5\n",
      "5\n"
     ]
    }
   ],
   "source": [
    "#4 Write a Python program to get the largest number from a list.\n",
    "\n",
    "l = [5,4,3,2,1]\n",
    "\n",
    "greatest = 0\n",
    "\n",
    "for i in l:\n",
    "    if i>greatest:\n",
    "        greatest = i\n",
    "    print(greatest)\n",
    "    "
   ]
  },
  {
   "cell_type": "code",
   "execution_count": 17,
   "metadata": {},
   "outputs": [
    {
     "data": {
      "text/plain": [
       "'resta$t'"
      ]
     },
     "execution_count": 17,
     "metadata": {},
     "output_type": "execute_result"
    }
   ],
   "source": [
    "str1 = 'restart'\n",
    "\n",
    "char = str1[0]\n",
    "\n",
    "str1 = str1.replace(char, '$')\n",
    "str1\n",
    "str2 = char + str1[1:7]\n",
    "str2"
   ]
  },
  {
   "cell_type": "code",
   "execution_count": 18,
   "metadata": {},
   "outputs": [
    {
     "data": {
      "text/plain": [
       "'esta$t'"
      ]
     },
     "execution_count": 18,
     "metadata": {},
     "output_type": "execute_result"
    }
   ],
   "source": [
    "str1[1:7]"
   ]
  },
  {
   "cell_type": "markdown",
   "metadata": {},
   "source": [
    "# Quiz"
   ]
  },
  {
   "cell_type": "code",
   "execution_count": 3,
   "metadata": {},
   "outputs": [
    {
     "name": "stdout",
     "output_type": "stream",
     "text": [
      "Enter a word: Abrakadabra\n",
      "['Abr', 'k', 'd', 'br', '']\n"
     ]
    }
   ],
   "source": [
    "'''Ask user to input a sentence and print each word of the sentence one by one:'''\n",
    "\n",
    "sentence = input(\"Enter a sentence: \")\n",
    "\n",
    "word_list =  sentence.split(' ')\n",
    "\n",
    "print(word_list)\n",
    "\n",
    "for i in word_list:\n",
    "     print(i)"
   ]
  },
  {
   "cell_type": "code",
   "execution_count": 2,
   "metadata": {},
   "outputs": [
    {
     "name": "stdout",
     "output_type": "stream",
     "text": [
      "-5\n",
      "35\n"
     ]
    }
   ],
   "source": [
    "'''Write a Python program to sum all the items in a list.'''\n",
    "\n",
    "def sum_list(items):\n",
    "    sum_numbers = 0\n",
    "    for x in items:\n",
    "        sum_numbers = sum_numbers + x\n",
    "    return sum_numbers\n",
    "\n",
    "print(sum_list([1,2,-8]))\n",
    "print(sum_list([5,21,9]))"
   ]
  },
  {
   "cell_type": "code",
   "execution_count": null,
   "metadata": {},
   "outputs": [],
   "source": [
    "'''Write a Python program to multiplies all the items in a list.'''\n",
    "\n",
    "def multiply_list(items):\n",
    "    tot = 1\n",
    "    for x in items:\n",
    "        tot = tot * x\n",
    "    return tot\n",
    "print(multiply_list([1,2,-8]))"
   ]
  },
  {
   "cell_type": "code",
   "execution_count": 32,
   "metadata": {},
   "outputs": [
    {
     "name": "stdout",
     "output_type": "stream",
     "text": [
      "2\n"
     ]
    }
   ],
   "source": [
    "'''Write a Python program to get the largest number from a list.'''\n",
    "\n",
    "def max_num_in_list( list ):\n",
    "    max = list[0]\n",
    "    for a in list:\n",
    "        if a > max:\n",
    "            max = a\n",
    "    return max\n",
    "\n",
    "print(max_num_in_list([1, 2, -8, 0]))"
   ]
  },
  {
   "cell_type": "code",
   "execution_count": 5,
   "metadata": {},
   "outputs": [
    {
     "name": "stdout",
     "output_type": "stream",
     "text": [
      "{'a': 100, 'b': 200, 'x': 300, 'y': 200}\n"
     ]
    }
   ],
   "source": [
    "'''Write a Python script to merge two Python dictionaries.'''\n",
    "\n",
    "d1 = {'a': 100, 'b': 200}\n",
    "\n",
    "d2 = {'x': 300, 'y': 200}\n",
    "\n",
    "d = d1.copy()\n",
    "\n",
    "d.update(d2)\n",
    "print(d)"
   ]
  },
  {
   "cell_type": "code",
   "execution_count": 6,
   "metadata": {},
   "outputs": [
    {
     "name": "stdout",
     "output_type": "stream",
     "text": [
      "{1: 10, 2: 20}\n",
      "{1: 10, 2: 20, 3: 30, 4: 40}\n",
      "{1: 10, 2: 20, 3: 30, 4: 40, 5: 50, 6: 60}\n"
     ]
    }
   ],
   "source": [
    "'''Write a Python program to concatenate following dictionaries to create a new one.'''\n",
    "\n",
    "d1={1:10, 2:20}\n",
    "d2={3:30, 4:40}\n",
    "d3={5:50, 6:60}\n",
    "\n",
    "d4 = {}\n",
    "\n",
    "for d in (d1, d2, d3):\n",
    "    d4.update(d)\n",
    "    print(d4)"
   ]
  },
  {
   "cell_type": "code",
   "execution_count": 13,
   "metadata": {},
   "outputs": [
    {
     "name": "stdout",
     "output_type": "stream",
     "text": [
      "{0: 10, 1: 20, 'weight': 30}\n"
     ]
    }
   ],
   "source": [
    "'''Write a Python program to add a key to a dictionary.'''\n",
    "\n",
    "d = {0:10, 1:20}\n",
    "#print(d)\n",
    "\n",
    "# d.update({2:30})\n",
    "# print(d)\n",
    "\n",
    "d[\"weight\"] = 30\n",
    "print(d)"
   ]
  },
  {
   "cell_type": "code",
   "execution_count": 36,
   "metadata": {},
   "outputs": [
    {
     "name": "stdout",
     "output_type": "stream",
     "text": [
      "Key is present in the dictionary\n",
      "Key is not present in the dictionary\n"
     ]
    }
   ],
   "source": [
    "''' Write a Python program to check if a given key already exists in a dictionary.'''\n",
    "\n",
    "d = {1: 10, 2: 20, 3: 30, 4: 40, 5: 50, 6: 60}\n",
    "def is_key_present(x):\n",
    "    if x in d:\n",
    "        print('Key is present in the dictionary')\n",
    "    else:\n",
    "        print('Key is not present in the dictionary')\n",
    "is_key_present(5)\n",
    "is_key_present(9)"
   ]
  },
  {
   "cell_type": "code",
   "execution_count": 22,
   "metadata": {},
   "outputs": [
    {
     "name": "stdout",
     "output_type": "stream",
     "text": [
      "['1505', '1540', '1575', '1610', '1645', '1680', '1715', '1750', '1785', '1820', '1855', '1890', '1925', '1960', '1995', '2030', '2065', '2100', '2135', '2170', '2205', '2240', '2275', '2310', '2345', '2380', '2415', '2450', '2485', '2520', '2555', '2590', '2625', '2660', '2695']\n",
      "1505, 1540, 1575, 1610, 1645, 1680, 1715, 1750, 1785, 1820, 1855, 1890, 1925, 1960, 1995, 2030, 2065, 2100, 2135, 2170, 2205, 2240, 2275, 2310, 2345, 2380, 2415, 2450, 2485, 2520, 2555, 2590, 2625, 2660, 2695\n"
     ]
    }
   ],
   "source": [
    "'''Write a Python program to find those numbers which are divisible by 7 and multiple of 5, \n",
    "between 1500 and 2700 (both included).'''\n",
    "\n",
    "nl=[]\n",
    "\n",
    "for x in range(1500, 2701):\n",
    "    if (x%7==0) and (x%5==0):\n",
    "        nl.append(str(x))\n",
    "\n",
    "print(nl)\n",
    "\n",
    "\n",
    "print (', '.join(nl))"
   ]
  },
  {
   "cell_type": "code",
   "execution_count": null,
   "metadata": {},
   "outputs": [],
   "source": [
    "''' Write a Python program to convert temperatures to and from celsius, fahrenheit.\n",
    "[ Formula : c/5 = f-32/9 [ where c = temperature in celsius and f = temperature in fahrenheit ] \n",
    "Expected Output : \n",
    "60°C is 140 in Fahrenheit\n",
    "45°F is 7 in Celsius '''\n",
    "\n",
    "temp = input(\"Input the  temperature you like to convert? (e.g., 45F, 102C etc.) : \")\n",
    "print(temp)\n",
    "\n",
    "degree = int(temp[0:-1])\n",
    "print(degree)\n",
    "\n",
    "i_convention = temp[-1]\n",
    "print(i_convention)\n",
    "\n",
    "if i_convention.upper() == \"C\":\n",
    "    result = int(round((9 * degree) / 5 + 32))\n",
    "    o_convention = \"Fahrenheit\"\n",
    "    \n",
    "elif i_convention.upper() == \"F\":\n",
    "    result = int(round((degree - 32) * 5 / 9))\n",
    "    o_convention = \"Celsius\"\n",
    "else:\n",
    "    print(\"Input proper convention.\")\n",
    "    quit()\n",
    "    \n",
    "print(\"The temperature in\", o_convention, \"is\", result, \"degrees.\")"
   ]
  },
  {
   "cell_type": "code",
   "execution_count": null,
   "metadata": {},
   "outputs": [],
   "source": []
  }
 ],
 "metadata": {
  "hide_input": false,
  "kernelspec": {
   "display_name": "Python 3",
   "language": "python",
   "name": "python3"
  },
  "language_info": {
   "codemirror_mode": {
    "name": "ipython",
    "version": 3
   },
   "file_extension": ".py",
   "mimetype": "text/x-python",
   "name": "python",
   "nbconvert_exporter": "python",
   "pygments_lexer": "ipython3",
   "version": "3.7.3"
  }
 },
 "nbformat": 4,
 "nbformat_minor": 2
}
