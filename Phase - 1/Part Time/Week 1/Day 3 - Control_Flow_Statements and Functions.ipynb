{
 "cells": [
  {
   "cell_type": "markdown",
   "metadata": {},
   "source": [
    "## IF conditions"
   ]
  },
  {
   "cell_type": "markdown",
   "metadata": {},
   "source": [
    "Python Conditions and If statements\n",
    "\n",
    "Python supports the usual logical conditions from mathematics:\n",
    "\n",
    "    Equals: a == b\n",
    "\n",
    "    Not Equals: a != b\n",
    "\n",
    "    Less than: a < b\n",
    "\n",
    "    Less than or equal to: a <= b\n",
    "\n",
    "    Greater than: a > b\n",
    "\n",
    "    Greater than or equal to: a >= b\n",
    "\n",
    "    These conditions can be used in several ways, most commonly in \"if statements\" and loops.\n",
    "\n",
    "    An \"if statement\" is written by using the if keyword."
   ]
  },
  {
   "cell_type": "code",
   "execution_count": null,
   "metadata": {},
   "outputs": [],
   "source": [
    "'Syntax'\n",
    "\n",
    "# if condition:\n",
    "#     statements to be executed\n",
    "# elif condition:\n",
    "#     statements to be executed"
   ]
  },
  {
   "cell_type": "code",
   "execution_count": 4,
   "metadata": {},
   "outputs": [
    {
     "name": "stdout",
     "output_type": "stream",
     "text": [
      "hello\n",
      "\n"
     ]
    }
   ],
   "source": [
    "if 1>5:\n",
    "    print('hi')\n",
    "else:\n",
    "    print('hello')\n",
    "print()\n"
   ]
  },
  {
   "cell_type": "code",
   "execution_count": 6,
   "metadata": {},
   "outputs": [
    {
     "name": "stdout",
     "output_type": "stream",
     "text": [
      "enter first number 10\n",
      "enter second number 20\n",
      "b is greater\n"
     ]
    }
   ],
   "source": [
    "a = int(input(\"enter first number \"))\n",
    "b = int(input(\"enter second number \"))\n",
    "\n",
    "if (a>b):\n",
    "    print(\"a is greater\")  \n",
    "elif (b>a):\n",
    "    print(\"b is greater\")\n",
    "else:\n",
    "    print(\"a is equal to b\")"
   ]
  },
  {
   "cell_type": "code",
   "execution_count": 18,
   "metadata": {},
   "outputs": [
    {
     "name": "stdout",
     "output_type": "stream",
     "text": [
      "enter 1st number 10\n",
      "enter 2nd number 20\n",
      "enter 3rd number 30\n",
      "the greatest number is : 30\n"
     ]
    }
   ],
   "source": [
    "'''Input three numbers from the user and print out the greatest number'''\n",
    "\n",
    "a = int(input(\"enter 1st number \"))\n",
    "b = int(input('enter 2nd number '))\n",
    "c = int(input('enter 3rd number '))\n",
    "x = True\n",
    "\n",
    "\n",
    "if a>b and a>c:\n",
    "    print(\"the greatest number is :\", a)\n",
    "    if x==True:\n",
    "        print('x is true')\n",
    "    else:\n",
    "        print('x is false')\n",
    "\n",
    "elif b>a and b>c:\n",
    "    print(\"the greatest number is :\", b)\n",
    "\n",
    "elif c>a and c>b:\n",
    "    print(\"the greatest number is :\", c)\n",
    "\n",
    "elif a==b==c:\n",
    "    print('All are equal')\n",
    "    \n",
    "elif a==b or b==c or a==c:\n",
    "    print('Two numbers are equal')"
   ]
  },
  {
   "cell_type": "code",
   "execution_count": 11,
   "metadata": {},
   "outputs": [
    {
     "name": "stdout",
     "output_type": "stream",
     "text": [
      "b is equal to a\n"
     ]
    }
   ],
   "source": [
    "a = 4\n",
    "b = 4\n",
    "\n",
    "if a>b: print(\"a is greater than b\")\n",
    "    \n",
    "elif b>a: print('b greater than a')\n",
    "    \n",
    "else: print('b is equal to a')"
   ]
  },
  {
   "cell_type": "code",
   "execution_count": 12,
   "metadata": {},
   "outputs": [
    {
     "name": "stdout",
     "output_type": "stream",
     "text": [
      "B\n"
     ]
    }
   ],
   "source": [
    "print(\"A\") if a > b else print(\"B\")"
   ]
  },
  {
   "cell_type": "code",
   "execution_count": 14,
   "metadata": {},
   "outputs": [
    {
     "name": "stdout",
     "output_type": "stream",
     "text": [
      "=\n"
     ]
    }
   ],
   "source": [
    "print(\"A\") if a > b else print(\"=\") if a == b else print(\"B\")"
   ]
  },
  {
   "cell_type": "code",
   "execution_count": 16,
   "metadata": {},
   "outputs": [
    {
     "name": "stdout",
     "output_type": "stream",
     "text": [
      "element not present in list\n",
      "True\n"
     ]
    },
    {
     "data": {
      "text/plain": [
       "dict_items([(1, 10), (2, 20)])"
      ]
     },
     "execution_count": 16,
     "metadata": {},
     "output_type": "execute_result"
    }
   ],
   "source": [
    "l = [1,2,3,4]\n",
    "e = 10\n",
    "\n",
    "if e in l:\n",
    "    print('element present in list')\n",
    "else:\n",
    "    print('element not present in list')\n",
    "    \n",
    "d = {1:10, 2:20}\n",
    "\n",
    "if e in d.values():\n",
    "    print('True')"
   ]
  },
  {
   "cell_type": "markdown",
   "metadata": {},
   "source": [
    "# Loops"
   ]
  },
  {
   "cell_type": "markdown",
   "metadata": {},
   "source": [
    "## For Loops"
   ]
  },
  {
   "cell_type": "code",
   "execution_count": 28,
   "metadata": {},
   "outputs": [
    {
     "name": "stdout",
     "output_type": "stream",
     "text": [
      "0 1 2 3 4 "
     ]
    }
   ],
   "source": [
    "for i in range(5):\n",
    "    print(i, end=' ')\n"
   ]
  },
  {
   "cell_type": "code",
   "execution_count": 21,
   "metadata": {},
   "outputs": [
    {
     "name": "stdout",
     "output_type": "stream",
     "text": [
      "hi 0 hi 1 hi 2 hi 3 hi 4 "
     ]
    }
   ],
   "source": [
    "for num in range(5):\n",
    "    print(\"hi\", num, end=' ')"
   ]
  },
  {
   "cell_type": "code",
   "execution_count": 35,
   "metadata": {},
   "outputs": [
    {
     "name": "stdout",
     "output_type": "stream",
     "text": [
      "3 6 9 "
     ]
    }
   ],
   "source": [
    "a = [1,2,3,4,5,6,7,8,9,10]\n",
    "\n",
    "for i in range(len(a)):\n",
    "    if a[i]%3==0:\n",
    "        print(a[i], end = ' ')\n",
    "\n",
    "# for i in range(10):\n",
    "        \n",
    "# for i in a:\n",
    "#     if i%3==0:\n",
    "#         print(i, end=', ')"
   ]
  },
  {
   "cell_type": "code",
   "execution_count": 34,
   "metadata": {},
   "outputs": [
    {
     "name": "stdout",
     "output_type": "stream",
     "text": [
      "1 2 3 4 5 6 7 8 9 10 "
     ]
    }
   ],
   "source": [
    "a = [1,2,3,4,5,6,7,8,9,10]\n",
    "for j in a:\n",
    "    print(j, end=' ')"
   ]
  },
  {
   "cell_type": "code",
   "execution_count": 38,
   "metadata": {},
   "outputs": [
    {
     "name": "stdout",
     "output_type": "stream",
     "text": [
      "3 6 9 12 15 18 21 24 27 30 33 36 39 42 45 48 51 54 57 60 63 66 69 72 75 78 81 84 87 90 93 96 99 "
     ]
    }
   ],
   "source": [
    "for i in range(3, 100, 3):\n",
    "    print(i, end=' ')"
   ]
  },
  {
   "cell_type": "code",
   "execution_count": 39,
   "metadata": {},
   "outputs": [
    {
     "name": "stdout",
     "output_type": "stream",
     "text": [
      "100 95 90 85 80 75 70 65 60 55 50 45 40 35 30 25 20 15 10 5 "
     ]
    }
   ],
   "source": [
    "for i in range(100, 0, -5):\n",
    "    print(i, end=' ')"
   ]
  },
  {
   "cell_type": "code",
   "execution_count": 46,
   "metadata": {},
   "outputs": [
    {
     "name": "stdout",
     "output_type": "stream",
     "text": [
      "1\n",
      "2\n"
     ]
    }
   ],
   "source": [
    "l = [1,2,3,4,5,6,7]\n",
    "x = l[0:5]\n",
    "x\n",
    "d = {1:10, 2:20}\n",
    "for i in d.keys():\n",
    "    print(i)"
   ]
  },
  {
   "cell_type": "code",
   "execution_count": 35,
   "metadata": {},
   "outputs": [
    {
     "name": "stdout",
     "output_type": "stream",
     "text": [
      "12, 11, 10, 9, 8, 7, 6, 5, 4, 3, 2, 1, "
     ]
    }
   ],
   "source": [
    "# range - step\n",
    "\n",
    "for i in range(12, 0, -1):\n",
    "    print(i, end=', ')"
   ]
  },
  {
   "cell_type": "code",
   "execution_count": 36,
   "metadata": {},
   "outputs": [
    {
     "name": "stdout",
     "output_type": "stream",
     "text": [
      "0 1 4 9 16 25 36 49 64 81 100 "
     ]
    }
   ],
   "source": [
    "'''print the squares of numbers from 0 to 10'''\n",
    "\n",
    "for i in range(11):\n",
    "    print(i**2, end=' ')"
   ]
  },
  {
   "cell_type": "code",
   "execution_count": 28,
   "metadata": {},
   "outputs": [
    {
     "data": {
      "text/plain": [
       "[1, 4, 9, 16, 25, 36, 49, 64, 81, 100]"
      ]
     },
     "execution_count": 28,
     "metadata": {},
     "output_type": "execute_result"
    }
   ],
   "source": [
    "# List Comprehension\n",
    "\n",
    "sqlist=[]\n",
    "for x in range(1,11):\n",
    "    sqlist.append(x*x)\n",
    "\n",
    "sqlist"
   ]
  },
  {
   "cell_type": "code",
   "execution_count": 41,
   "metadata": {},
   "outputs": [
    {
     "data": {
      "text/plain": [
       "[1, 4, 9, 16, 25, 36, 49, 64, 81, 100]"
      ]
     },
     "execution_count": 41,
     "metadata": {},
     "output_type": "execute_result"
    }
   ],
   "source": [
    "sqlist = [x*x for x in range(1,11)]\n",
    "sqlist"
   ]
  },
  {
   "cell_type": "code",
   "execution_count": 49,
   "metadata": {},
   "outputs": [
    {
     "name": "stdout",
     "output_type": "stream",
     "text": [
      "I like katrina\n",
      "I like Karina\n",
      "I like deepika\n",
      "I like ranvir\n",
      "\n",
      "\n",
      "I like katrina\n",
      "I like Karina\n",
      "I like deepika\n",
      "I like ranvir\n"
     ]
    }
   ],
   "source": [
    "# looping through collective datatypes\n",
    "\n",
    "names = ['katrina','Karina','deepika','ranvir']\n",
    "\n",
    "# d = {1:'aditya', 2:'Ahad'}\n",
    "\n",
    "for x in range(len(names)):\n",
    "    print(\"I like\", names[x])\n",
    "    \n",
    "print('\\n')    \n",
    "for x in names:\n",
    "    print(\"I like\", x)"
   ]
  },
  {
   "cell_type": "code",
   "execution_count": 43,
   "metadata": {},
   "outputs": [
    {
     "name": "stdout",
     "output_type": "stream",
     "text": [
      "ariya2\n",
      "x-men\n",
      "KGF\n"
     ]
    }
   ],
   "source": [
    "movies=[\"ariya2\",\"x-men\",\"KGF\"]\n",
    "for x in movies:\n",
    "    print(x)"
   ]
  },
  {
   "cell_type": "markdown",
   "metadata": {},
   "source": [
    "# While Loops"
   ]
  },
  {
   "cell_type": "code",
   "execution_count": 50,
   "metadata": {},
   "outputs": [
    {
     "name": "stdout",
     "output_type": "stream",
     "text": [
      "hi hi hi hi "
     ]
    }
   ],
   "source": [
    "num = 1\n",
    "while (num<5):\n",
    "    print('hi', end = ' ')\n",
    "    num = num + 1"
   ]
  },
  {
   "cell_type": "code",
   "execution_count": 40,
   "metadata": {},
   "outputs": [
    {
     "name": "stdout",
     "output_type": "stream",
     "text": [
      "60 59 58 57 56 55 54 53 52 51 "
     ]
    }
   ],
   "source": [
    "num = 60\n",
    "while (num>50):\n",
    "    print(num, end = ' ')\n",
    "    num = num-1"
   ]
  },
  {
   "cell_type": "code",
   "execution_count": 56,
   "metadata": {},
   "outputs": [
    {
     "name": "stdout",
     "output_type": "stream",
     "text": [
      "20\n",
      "30\n",
      "40\n",
      "10\n",
      "50\n"
     ]
    }
   ],
   "source": [
    "l = [20,30,40,10,50]\n",
    "e = 10\n",
    "while e in l:\n",
    "    l.pop()\n",
    "    print(l, 'pop')"
   ]
  },
  {
   "cell_type": "code",
   "execution_count": 57,
   "metadata": {},
   "outputs": [
    {
     "name": "stdout",
     "output_type": "stream",
     "text": [
      "0 1 4 9 16 25 36 49 64 81 100 "
     ]
    }
   ],
   "source": [
    "x = 0\n",
    "while (x<=10):\n",
    "    print(x**2, end=' ')\n",
    "    x = x + 1"
   ]
  },
  {
   "cell_type": "code",
   "execution_count": 58,
   "metadata": {},
   "outputs": [
    {
     "name": "stdout",
     "output_type": "stream",
     "text": [
      "100 95 90 85 80 75 70 65 60 55 50 45 40 35 30 25 20 15 10 5 0 "
     ]
    }
   ],
   "source": [
    "# decrement in while loop\n",
    "\n",
    "num = 100\n",
    "while (num>=0):\n",
    "    print(num, end=' ')\n",
    "    num = num -  5"
   ]
  },
  {
   "cell_type": "code",
   "execution_count": 59,
   "metadata": {
    "code_folding": []
   },
   "outputs": [
    {
     "name": "stdout",
     "output_type": "stream",
     "text": [
      "10 9 8 7 6 \n",
      "\n",
      "10 9 8 7 6 "
     ]
    }
   ],
   "source": [
    "count = 10\n",
    "while count > 5:\n",
    "    print(count, end=' ')\n",
    "    count = count - 1\n",
    "print('\\n')\n",
    "for i in range(10, 5, -1):\n",
    "    print(i, end= ' ')"
   ]
  },
  {
   "cell_type": "code",
   "execution_count": 37,
   "metadata": {},
   "outputs": [
    {
     "name": "stdout",
     "output_type": "stream",
     "text": [
      "0\n",
      "1\n",
      "2\n",
      "3\n",
      "4\n",
      "exit value: 5\n"
     ]
    }
   ],
   "source": [
    "count=0\n",
    "while(count < 5):\n",
    "    print(count)\n",
    "    count = count + 1\n",
    "    \n",
    "print(\"exit value:\", count)"
   ]
  },
  {
   "cell_type": "code",
   "execution_count": 26,
   "metadata": {},
   "outputs": [
    {
     "name": "stdout",
     "output_type": "stream",
     "text": [
      "I like  katrina\n",
      "I like  karina\n",
      "I like  deepika\n",
      "I like  ranvir\n"
     ]
    }
   ],
   "source": [
    "actor_names = ['katrina', 'karina', 'deepika', 'ranvir']\n",
    "\n",
    "# print(actor_names[0])\n",
    "\n",
    "num = 0\n",
    "while num<len(actor_names):\n",
    "    print(\"I like \", actor_names[num])\n",
    "    num = num + 1"
   ]
  },
  {
   "cell_type": "code",
   "execution_count": 43,
   "metadata": {},
   "outputs": [
    {
     "name": "stdout",
     "output_type": "stream",
     "text": [
      "1  is odd\n",
      "2  is even\n",
      "3  is odd\n",
      "4  is even\n",
      "5  is odd\n",
      "6  is even\n",
      "7  is odd\n",
      "8  is even\n",
      "9  is odd\n",
      "10  is even\n"
     ]
    }
   ],
   "source": [
    "# print even and odd numbers from 1 to 10\n",
    "\n",
    "for i in range(1, 11):\n",
    "    if i%2==0:\n",
    "        print(i,\" is even\")\n",
    "    else:\n",
    "        print(i,\" is odd\")"
   ]
  },
  {
   "cell_type": "code",
   "execution_count": null,
   "metadata": {
    "collapsed": true
   },
   "outputs": [],
   "source": []
  },
  {
   "cell_type": "markdown",
   "metadata": {},
   "source": [
    "# Usage of for loops in strings"
   ]
  },
  {
   "cell_type": "code",
   "execution_count": 60,
   "metadata": {},
   "outputs": [
    {
     "name": "stdout",
     "output_type": "stream",
     "text": [
      "a r i y a "
     ]
    }
   ],
   "source": [
    "s = \"ariya\"\n",
    "\n",
    "for x in s:\n",
    "    print(x, end=' ')"
   ]
  },
  {
   "cell_type": "code",
   "execution_count": 61,
   "metadata": {},
   "outputs": [
    {
     "name": "stdout",
     "output_type": "stream",
     "text": [
      "no yes yes no yes yes no "
     ]
    }
   ],
   "source": [
    "s = \"1001001\"\n",
    "\n",
    "for i in s:\n",
    "    if i == \"0\":\n",
    "        print(\"yes\", end=' ')\n",
    "    else:\n",
    "        print('no', end=' ')\n"
   ]
  },
  {
   "cell_type": "markdown",
   "metadata": {},
   "source": [
    "## Break, continue and pass"
   ]
  },
  {
   "cell_type": "code",
   "execution_count": 63,
   "metadata": {},
   "outputs": [
    {
     "name": "stdout",
     "output_type": "stream",
     "text": [
      "a s h w i n "
     ]
    }
   ],
   "source": [
    "# Break Usage:\n",
    "\n",
    "for i in \"ashwin_kumar\":\n",
    "    if i=='_':\n",
    "        break\n",
    "    print(i, end=' ')"
   ]
  },
  {
   "cell_type": "code",
   "execution_count": 64,
   "metadata": {},
   "outputs": [
    {
     "name": "stdout",
     "output_type": "stream",
     "text": [
      "1 1 1 1 1 "
     ]
    }
   ],
   "source": [
    "# continue Usage:\n",
    "\n",
    "for i in \"1000100010001001\":\n",
    "    if i=='0':\n",
    "        continue\n",
    "    print(i, end=' ')"
   ]
  },
  {
   "cell_type": "code",
   "execution_count": 65,
   "metadata": {},
   "outputs": [
    {
     "name": "stdout",
     "output_type": "stream",
     "text": [
      "a s h w i n _ k u m a r "
     ]
    }
   ],
   "source": [
    "# pass\n",
    "\n",
    "for i in \"ashwin_kumar\":\n",
    "    if i=='k':\n",
    "        pass\n",
    "    print(i, end=' ')"
   ]
  },
  {
   "cell_type": "code",
   "execution_count": null,
   "metadata": {},
   "outputs": [],
   "source": []
  },
  {
   "cell_type": "code",
   "execution_count": null,
   "metadata": {},
   "outputs": [],
   "source": []
  },
  {
   "cell_type": "code",
   "execution_count": 67,
   "metadata": {},
   "outputs": [
    {
     "name": "stdout",
     "output_type": "stream",
     "text": [
      "<class 'str'>\n",
      "1505, 1540, 1575, 1610, 1645, 1680, 1715, 1750, 1785, 1820, 1855, 1890, 1925, 1960, 1995\n"
     ]
    }
   ],
   "source": [
    "'''#2. Write a Python program to find those numbers which are divisible by 7 and multiple of 5,\n",
    "between 1500 and 2000 (both included).'''\n",
    "\n",
    "a=[]\n",
    "b=[]\n",
    "for x in range(1500, 2001):\n",
    "    if (x%7==0) and (x%5==0):\n",
    "        a.append(str(x))\n",
    "    else:\n",
    "        b.append(x)\n",
    "        \n",
    "# print('A: ', a)\n",
    "# print('B: ', b)\n",
    "\n",
    "x = ', '.join(a)\n",
    "print(type(x))\n",
    "print(', '.join(a))                   # joining the elements of the list wit a ,(comma)"
   ]
  },
  {
   "cell_type": "code",
   "execution_count": 66,
   "metadata": {},
   "outputs": [
    {
     "name": "stdout",
     "output_type": "stream",
     "text": [
      "1505, 1540, 1575, 1610, 1645, 1680, 1715, 1750, 1785, 1820, 1855, 1890, 1925, 1960, 1995, "
     ]
    }
   ],
   "source": [
    "for x in range(1500, 2001):\n",
    "    if (x%7==0) and (x%5==0):\n",
    "        print(x, end=', ')"
   ]
  },
  {
   "cell_type": "markdown",
   "metadata": {},
   "source": [
    "# Functions"
   ]
  },
  {
   "cell_type": "markdown",
   "metadata": {},
   "source": [
    "Syntax:\n",
    "    \n",
    "    def function_name (argument1, argument2,...):\n",
    "        statement1\n",
    "        statement2\n",
    "\n",
    "Advantages of using Functions:\n",
    "\n",
    "    1. The functional code needs to be written only once\n",
    "    2. You can define the function once and you can call it anywhere inside the program.\n",
    "    3. Reusability\n",
    "    4. Helps follow better coding practices. (avoid repetition of code)\n",
    "\n",
    "\n"
   ]
  },
  {
   "cell_type": "code",
   "execution_count": 4,
   "metadata": {},
   "outputs": [
    {
     "name": "stdout",
     "output_type": "stream",
     "text": [
      "120\n"
     ]
    }
   ],
   "source": [
    "def add(x,y):\n",
    "    return (x+y)\n",
    "\n",
    "a = add(40,80)\n",
    "b = add(100,200)\n",
    "print(a)\n",
    "\n",
    "# # add(10, 20)"
   ]
  },
  {
   "cell_type": "code",
   "execution_count": 70,
   "metadata": {},
   "outputs": [
    {
     "name": "stdout",
     "output_type": "stream",
     "text": [
      "20\n",
      "None\n"
     ]
    }
   ],
   "source": [
    "# A simple addition fuction\n",
    "\n",
    "def xyz(n1, n2):       #function definition\n",
    "    c = n1 + n2                 #function statements to be executed\n",
    "    print(c)                    #function statements to be executed \n",
    "    return c \n",
    "\n",
    "sum1 = xyz(5, 15)\n",
    "print(sum1)\n",
    "\n",
    "def raise_to_2(x):\n",
    "    c = x**2\n",
    "    return c                   #instead of printing you can also return a variable\n",
    "   \n",
    "\n",
    "# a = raise_to_2(10)\n",
    "# print(a)"
   ]
  },
  {
   "cell_type": "code",
   "execution_count": 5,
   "metadata": {},
   "outputs": [
    {
     "name": "stdout",
     "output_type": "stream",
     "text": [
      "Enter the first number: 10\n",
      "Enter the second number: 20\n",
      "20 is greater than  10\n"
     ]
    }
   ],
   "source": [
    "def greater():\n",
    "    x = int(input(\"Enter the first number: \"))\n",
    "    y = int(input(\"Enter the second number: \"))\n",
    "    \n",
    "    if x>y:\n",
    "        print(x, \"is greater than \", y)\n",
    "    elif y>x:\n",
    "        print(y, \"is greater than \", x)\n",
    "    else:\n",
    "        print(\"Both are equal\")\n",
    "        \n",
    "greater()"
   ]
  },
  {
   "cell_type": "code",
   "execution_count": 12,
   "metadata": {},
   "outputs": [
    {
     "data": {
      "text/plain": [
       "30"
      ]
     },
     "execution_count": 12,
     "metadata": {},
     "output_type": "execute_result"
    }
   ],
   "source": [
    "# creating a function without arguments\n",
    "\n",
    "def addition():\n",
    "    a = 10\n",
    "    b = 20\n",
    "    c = a + b\n",
    "    return c\n",
    "    \n",
    "addition()"
   ]
  },
  {
   "cell_type": "markdown",
   "metadata": {},
   "source": [
    "# Lambda"
   ]
  },
  {
   "cell_type": "code",
   "execution_count": 27,
   "metadata": {},
   "outputs": [
    {
     "name": "stdout",
     "output_type": "stream",
     "text": [
      "23\n",
      "400\n"
     ]
    }
   ],
   "source": [
    "\n",
    "# Lambba\n",
    "\n",
    "# lambda\n",
    "# syntax - function_name = lambda {arguments} : {expression}\n",
    "# return - no return statement in lambda, the expression is automatically returned\n",
    "\n",
    "add4 = lambda a,b,c,d: a+b+c+d\n",
    "\n",
    "x = add4(2,6,7,8)\n",
    "print(x)\n",
    "\n",
    "multiply = lambda a, b, c, d: a*b*c*d\n",
    "\n",
    "print(multiply(10,5,2,4))"
   ]
  },
  {
   "cell_type": "code",
   "execution_count": 28,
   "metadata": {},
   "outputs": [
    {
     "name": "stdout",
     "output_type": "stream",
     "text": [
      "23\n"
     ]
    }
   ],
   "source": [
    "def add4(a,b,c,d):\n",
    "    return a+b+c+d \n",
    "\n",
    "print(add4(2,6,7,8))"
   ]
  },
  {
   "cell_type": "markdown",
   "metadata": {},
   "source": [
    "## Setting Default Values"
   ]
  },
  {
   "cell_type": "code",
   "execution_count": 3,
   "metadata": {},
   "outputs": [
    {
     "name": "stdout",
     "output_type": "stream",
     "text": [
      "30\n",
      "1020\n",
      "120\n"
     ]
    }
   ],
   "source": [
    "def add(a=10, b=20):\n",
    "    c = a+b\n",
    "    return c\n",
    "\n",
    "print(add())\n",
    "print(add(1000))\n",
    "print(add(40,80))"
   ]
  },
  {
   "cell_type": "markdown",
   "metadata": {},
   "source": [
    "# *args and **kwargs"
   ]
  },
  {
   "cell_type": "markdown",
   "metadata": {},
   "source": [
    "In Python, we can pass a variable number of arguments to a function using special symbols. There are two special symbols:\n",
    "\n",
    "    *args (Non Keyword Arguments)\n",
    "    **kwargs (Keyword Arguments)\n",
    "    \n",
    "    We use *args and **kwargs as an argument when we are unsure about the number of arguments to pass in the functions."
   ]
  },
  {
   "cell_type": "code",
   "execution_count": 44,
   "metadata": {},
   "outputs": [
    {
     "name": "stdout",
     "output_type": "stream",
     "text": [
      "Sum: 8\n",
      "Sum: 22\n",
      "Sum: 17\n"
     ]
    }
   ],
   "source": [
    "def adder(*num):\n",
    "    sum = 0\n",
    "    for n in num:\n",
    "        sum = sum + n\n",
    "    print(\"Sum:\",sum)\n",
    "    \n",
    "    \n",
    "adder(3,5)\n",
    "adder(4,5,6,7)\n",
    "adder(1,2,3,5,6)"
   ]
  },
  {
   "cell_type": "code",
   "execution_count": 1,
   "metadata": {},
   "outputs": [
    {
     "name": "stdout",
     "output_type": "stream",
     "text": [
      "first == Geeks\n",
      "mid == for\n",
      "last == Geeks\n"
     ]
    }
   ],
   "source": [
    "def myFun(**kwargs):  \n",
    "    for key, value in kwargs.items(): \n",
    "        print (\"%s == %s\" %(key, value))\n",
    "\n",
    "# Driver code \n",
    "myFun(first ='Geeks', mid ='for', last='Geeks')     "
   ]
  },
  {
   "cell_type": "code",
   "execution_count": null,
   "metadata": {},
   "outputs": [],
   "source": []
  },
  {
   "cell_type": "markdown",
   "metadata": {},
   "source": [
    "# Functions Problems"
   ]
  },
  {
   "cell_type": "code",
   "execution_count": 37,
   "metadata": {},
   "outputs": [
    {
     "name": "stdout",
     "output_type": "stream",
     "text": [
      "Enter a number to check whether it is prime or not: 7\n",
      "prime number\n"
     ]
    }
   ],
   "source": [
    "'''find if a number is prime:'''\n",
    "\n",
    "def prime(a):\n",
    "    for i in range(2, a):\n",
    "        if a%i == 0:\n",
    "            print(\"not prime number\")\n",
    "            break\n",
    "    else:\n",
    "        print(\"prime number\")\n",
    "            \n",
    "a = int(input('Enter a number to check whether it is prime or not: '))\n",
    "\n",
    "prime(a)"
   ]
  },
  {
   "cell_type": "code",
   "execution_count": 53,
   "metadata": {},
   "outputs": [
    {
     "name": "stdout",
     "output_type": "stream",
     "text": [
      "13\n"
     ]
    }
   ],
   "source": [
    "'''Write a Python program to sum all the items in a list.'''\n",
    "\n",
    "def sum_list(items):\n",
    "    sum_numbers = 0\n",
    "    for x in items:\n",
    "        sum_numbers = sum_numbers + x\n",
    "    return sum_numbers\n",
    "\n",
    "print(sum_list([1,5,7]))\n",
    "# print(sum_list([5,21,9]))"
   ]
  },
  {
   "cell_type": "code",
   "execution_count": 20,
   "metadata": {},
   "outputs": [
    {
     "name": "stdout",
     "output_type": "stream",
     "text": [
      "250\n"
     ]
    }
   ],
   "source": [
    "'''Write a Python program to multiply all the items in a list.'''\n",
    "\n",
    "def multiply_list(items):\n",
    "    tot = 1\n",
    "    for x in items:\n",
    "        tot = tot * x\n",
    "    return tot\n",
    "print(multiply_list([5,5,10]))\n"
   ]
  },
  {
   "cell_type": "code",
   "execution_count": 1,
   "metadata": {},
   "outputs": [
    {
     "name": "stdout",
     "output_type": "stream",
     "text": [
      "sum of even numbers and odd numbers in the list is 6 5 respectively.\n"
     ]
    }
   ],
   "source": [
    "'''write a python program to return the sum of even and odd numbers\n",
    "from a list seperately.'''\n",
    "\n",
    "def sum_even_odd(list1):\n",
    "    sum_o=0\n",
    "    sum_e=0\n",
    "    for i in list1:\n",
    "        if isinstance(i, int)!=True:\n",
    "            pass\n",
    "        elif i%2==0:\n",
    "            sum_e = sum_e+i\n",
    "        else:\n",
    "            sum_o = sum_o+i \n",
    "    return sum_e, sum_o\n",
    "\n",
    "sum_e, sum_o = sum_even_odd([1,2,3,4,True,'Hi',5.72])\n",
    "print('sum of even numbers and odd numbers in the list is', sum_e, sum_o, 'respectively.')"
   ]
  },
  {
   "cell_type": "code",
   "execution_count": 56,
   "metadata": {},
   "outputs": [
    {
     "name": "stdout",
     "output_type": "stream",
     "text": [
      "50\n"
     ]
    },
    {
     "data": {
      "text/plain": [
       "10"
      ]
     },
     "execution_count": 56,
     "metadata": {},
     "output_type": "execute_result"
    }
   ],
   "source": [
    "'''Write a Python program to get the largest number from a list.'''\n",
    "\n",
    "def max_num_in_list(l):\n",
    "    max1 = l[0]\n",
    "    for a in l:\n",
    "        if a > max1:\n",
    "            max1 = a\n",
    "    return max1\n",
    "\n",
    "print(max_num_in_list([20, 10, 40, 50]))\n",
    "\n",
    "a = [20, 10, 40, 50]\n",
    "min(a)"
   ]
  },
  {
   "cell_type": "code",
   "execution_count": 16,
   "metadata": {},
   "outputs": [
    {
     "name": "stdout",
     "output_type": "stream",
     "text": [
      "Key is present in the dictionary\n",
      "Key is not present in the dictionary\n"
     ]
    }
   ],
   "source": [
    "''' Write a Python program to check if a given key already exists in a dictionary.\n",
    "d = {1: 10, 2: 20, 3: 30, 4: 40, 5: 50, 6: 60}'''\n",
    "\n",
    "def is_key_present(x):\n",
    "    if x in d:\n",
    "        print('Key is present in the dictionary')\n",
    "    else:\n",
    "        print('Key is not present in the dictionary')\n",
    "\n",
    "d = {1: 10, 2: 20, 3: 30, 4: 40, 5: 50, 6: 60}\n",
    "is_key_present(5)\n",
    "is_key_present(10)"
   ]
  },
  {
   "cell_type": "code",
   "execution_count": 23,
   "metadata": {},
   "outputs": [
    {
     "name": "stdout",
     "output_type": "stream",
     "text": [
      "5 is max\n"
     ]
    },
    {
     "data": {
      "text/plain": [
       "'76'"
      ]
     },
     "execution_count": 23,
     "metadata": {},
     "output_type": "execute_result"
    }
   ],
   "source": [
    "#Max of three numbers\n",
    "\n",
    "def max3(a,b,c):\n",
    "    if a>b and a>c:\n",
    "        print(a, \" is max\")\n",
    "    elif b>a and b>c:\n",
    "        print(b, \"is max\")\n",
    "    elif c>a and c>b:\n",
    "        print(c, \"is max\")\n",
    "        \n",
    "max3(2,3,5)"
   ]
  },
  {
   "cell_type": "code",
   "execution_count": 38,
   "metadata": {},
   "outputs": [
    {
     "name": "stdout",
     "output_type": "stream",
     "text": [
      "7654321\n"
     ]
    }
   ],
   "source": [
    "'given a string, return the reverse of the string'\n",
    "\n",
    "def string_reverse(str1):\n",
    "    rstr1 = ''\n",
    "    x = len(str1) \n",
    "    while x > 0:\n",
    "        rstr1 = rstr1 + str1[x-1] \n",
    "        x = x - 1\n",
    "    return rstr1\n",
    "print(string_reverse('1234567'))"
   ]
  },
  {
   "cell_type": "code",
   "execution_count": 17,
   "metadata": {},
   "outputs": [
    {
     "data": {
      "text/plain": [
       "'7654321'"
      ]
     },
     "execution_count": 17,
     "metadata": {},
     "output_type": "execute_result"
    }
   ],
   "source": [
    "def string_reverse(str1):\n",
    "    return str1[::-1]\n",
    "string_reverse('1234567')"
   ]
  },
  {
   "cell_type": "code",
   "execution_count": 73,
   "metadata": {},
   "outputs": [
    {
     "data": {
      "text/plain": [
       "'7654321'"
      ]
     },
     "execution_count": 73,
     "metadata": {},
     "output_type": "execute_result"
    }
   ],
   "source": [
    "s = '1234567'\n",
    "s[::-1]"
   ]
  },
  {
   "cell_type": "code",
   "execution_count": 39,
   "metadata": {},
   "outputs": [
    {
     "data": {
      "text/plain": [
       "'d'"
      ]
     },
     "execution_count": 39,
     "metadata": {},
     "output_type": "execute_result"
    }
   ],
   "source": [
    "x=''\n",
    "y='d'\n",
    "x+y"
   ]
  },
  {
   "cell_type": "code",
   "execution_count": 25,
   "metadata": {},
   "outputs": [
    {
     "name": "stdout",
     "output_type": "stream",
     "text": [
      "8\n",
      "343\n",
      "1000\n"
     ]
    }
   ],
   "source": [
    "# define a function to get cube of a number\n",
    "\n",
    "def cube(a):\n",
    "    c = a*a*a\n",
    "    return c\n",
    "\n",
    "print(cube(2))\n",
    "print(cube(7))\n",
    "print(cube(10))\n"
   ]
  },
  {
   "cell_type": "code",
   "execution_count": 26,
   "metadata": {},
   "outputs": [
    {
     "name": "stdout",
     "output_type": "stream",
     "text": [
      "d\n",
      "dlroW olleH\n"
     ]
    }
   ],
   "source": [
    "def s_reverse(str1):\n",
    "    rstr = str1[::-1]\n",
    "    return rstr\n",
    "\n",
    "s_reverse(\"1234567\")\n",
    "\n",
    "str1 =\"abcd\"\n",
    "x = len(str1)\n",
    "\n",
    "print(str1[x-1])\n",
    "\n",
    "txt = \"Hello World\"[::-1]\n",
    "print(txt)"
   ]
  },
  {
   "cell_type": "code",
   "execution_count": 74,
   "metadata": {},
   "outputs": [
    {
     "name": "stdout",
     "output_type": "stream",
     "text": [
      "Original String :  The quick Brown Fox\n",
      "No. of Upper case characters :  3\n",
      "No. of Lower case Characters :  13\n"
     ]
    }
   ],
   "source": [
    "def string_test(s):\n",
    "    d={\"UPPER_CASE\":0, \"LOWER_CASE\":0}\n",
    "    for c in s:\n",
    "        if c.isupper():\n",
    "            d[\"UPPER_CASE\"]+=1\n",
    "        elif c.islower():\n",
    "            d[\"LOWER_CASE\"]+=1\n",
    "        else:\n",
    "            pass\n",
    "        #print(c, d[\"UPPER_CASE\"], d[\"LOWER_CASE\"])\n",
    "    print (\"Original String : \", s)\n",
    "    print (\"No. of Upper case characters : \", d[\"UPPER_CASE\"])\n",
    "    print (\"No. of Lower case Characters : \", d[\"LOWER_CASE\"])\n",
    "\n",
    "string_test('The quick Brown Fox')"
   ]
  },
  {
   "cell_type": "code",
   "execution_count": 42,
   "metadata": {},
   "outputs": [
    {
     "data": {
      "text/plain": [
       "True"
      ]
     },
     "execution_count": 42,
     "metadata": {},
     "output_type": "execute_result"
    }
   ],
   "source": [
    "s = 'a'\n",
    "s.islower()"
   ]
  },
  {
   "cell_type": "code",
   "execution_count": 75,
   "metadata": {},
   "outputs": [
    {
     "data": {
      "text/plain": [
       "[1, 2, 3, 4, 5]"
      ]
     },
     "execution_count": 75,
     "metadata": {},
     "output_type": "execute_result"
    }
   ],
   "source": [
    "def unique_list(l):\n",
    "    x = []\n",
    "    for a in l:\n",
    "        if a not in x:\n",
    "            x.append(a)\n",
    "#         print(x)\n",
    "    return x\n",
    "\n",
    "unique_list([1,2,3,3,3,3,4,4,5])"
   ]
  },
  {
   "cell_type": "code",
   "execution_count": 43,
   "metadata": {},
   "outputs": [
    {
     "data": {
      "text/plain": [
       "[1, 2, 3, 4, 5]"
      ]
     },
     "execution_count": 43,
     "metadata": {},
     "output_type": "execute_result"
    }
   ],
   "source": [
    "def unique (list1):\n",
    "    list2 = set(list1)\n",
    "    list3 = list(list2)\n",
    "    return list3\n",
    "unique([1,2,3,3,3,3,4,4,5])    "
   ]
  },
  {
   "cell_type": "code",
   "execution_count": 49,
   "metadata": {},
   "outputs": [
    {
     "name": "stdout",
     "output_type": "stream",
     "text": [
      "prime number\n"
     ]
    }
   ],
   "source": [
    "prime(13)"
   ]
  },
  {
   "cell_type": "code",
   "execution_count": null,
   "metadata": {},
   "outputs": [],
   "source": []
  }
 ],
 "metadata": {
  "hide_input": false,
  "kernelspec": {
   "display_name": "Python 3",
   "language": "python",
   "name": "python3"
  },
  "language_info": {
   "codemirror_mode": {
    "name": "ipython",
    "version": 3
   },
   "file_extension": ".py",
   "mimetype": "text/x-python",
   "name": "python",
   "nbconvert_exporter": "python",
   "pygments_lexer": "ipython3",
   "version": "3.7.3"
  }
 },
 "nbformat": 4,
 "nbformat_minor": 2
}
