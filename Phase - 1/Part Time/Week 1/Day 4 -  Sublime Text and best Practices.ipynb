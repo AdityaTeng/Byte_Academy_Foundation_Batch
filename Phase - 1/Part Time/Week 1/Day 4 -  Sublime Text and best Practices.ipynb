{
 "cells": [
  {
   "cell_type": "markdown",
   "metadata": {},
   "source": [
    "\n",
    "\n",
    "    CMD Commands   \n",
    "    Navigating through the terminal\n",
    "    Sublime / IDLE. \n",
    "    Best Practices: \n",
    "        1. Keeping it simple,\n",
    "        2. DRY code,\n",
    "        3. naming conventions,\n",
    "        4. comments and documentation.\n",
    "        "
   ]
  },
  {
   "cell_type": "code",
   "execution_count": 1,
   "metadata": {},
   "outputs": [],
   "source": [
    "def addition(num1, num2):\n",
    "    \"\"\"a function to add two numbers    \n",
    "    takes exactly 2 arguments.\n",
    "    \n",
    "    eg: addition(num1, num2):\n",
    "    Output : num1+num2\"\"\"\n",
    "    return num1+num2"
   ]
  },
  {
   "cell_type": "code",
   "execution_count": 2,
   "metadata": {},
   "outputs": [],
   "source": [
    "addition?"
   ]
  },
  {
   "cell_type": "code",
   "execution_count": 13,
   "metadata": {},
   "outputs": [],
   "source": [
    "a = 'abcd'"
   ]
  },
  {
   "cell_type": "code",
   "execution_count": 3,
   "metadata": {},
   "outputs": [
    {
     "name": "stdout",
     "output_type": "stream",
     "text": [
      "\n"
     ]
    }
   ],
   "source": [
    "# CMD Commands\n",
    "\n",
    "''' 1. cmd   : type cmd in addres bar of any folder to open command prompt in that folder\n",
    "    2. dir   : list directory content\n",
    "    3. tree  : Displays directory paths and (optionally) files in each subdirectory.\n",
    "    4. cd .. : previous directory\n",
    "    5. date  : display date\n",
    "\n",
    "    6. chdir : change directory\n",
    "    7. mkdir : make directory\n",
    "    8. del   : delete files/folders\n",
    "    9. exit  : exits the command prompt'''\n",
    "\n",
    "print()"
   ]
  },
  {
   "cell_type": "code",
   "execution_count": null,
   "metadata": {},
   "outputs": [
    {
     "name": "stdout",
     "output_type": "stream",
     "text": [
      "Let's play Battleship!\n",
      "Enter your name: Aditya\n",
      "Aditya  Get Ready!!!\n",
      "\n",
      "2 2\n",
      "4 4\n",
      "O O O O O\n",
      "O O O O O\n",
      "O O O O O\n",
      "O O O O O\n",
      "O O O O O\n",
      "\n",
      "Guess Row: (allowed values: 0-4) 2\n",
      "Guess Col: (allowed values: 0-4)2\n",
      "\n",
      "Congratulations! \n",
      "You sunk first battleship!\n",
      "\n",
      "O O O O O\n",
      "O O O O O\n",
      "O O * O O\n",
      "O O O O O\n",
      "O O O O O\n",
      "\n",
      "Guess Row: (allowed values: 0-4) 2\n",
      "Guess Col: (allowed values: 0-4)2\n",
      "You guessed that one already.\n",
      "\n",
      "O O O O O\n",
      "O O O O O\n",
      "O O * O O\n",
      "O O O O O\n",
      "O O O O O\n",
      "\n",
      "Guess Row: (allowed values: 0-4) 1\n",
      "Guess Col: (allowed values: 0-4)1\n",
      "You missed my battleship!\n",
      "\n",
      "3 turn\n",
      "O O O O O\n",
      "O X O O O\n",
      "O O * O O\n",
      "O O O O O\n",
      "O O O O O\n"
     ]
    }
   ],
   "source": [
    "# Battleship: in CMD\n",
    "    \n",
    "import random\n",
    "\n",
    "# -------------Setting the board, players and hiding battleships-------------\n",
    "\n",
    "\n",
    "# Board Ready!!\n",
    "\n",
    "board = []\n",
    "rc_number = 5\n",
    "\n",
    "for x in range(0, rc_number):\n",
    "    board.append([\"O\"] * rc_number)\n",
    "\n",
    "def print_board(board):\n",
    "    for row in board:\n",
    "        print (\" \".join(row))\n",
    "\n",
    "\n",
    "        \n",
    "# Player Ready!!\n",
    "\n",
    "print(\"Let's play Battleship!\")\n",
    "player_1 = input(\"Enter your name: \")\n",
    "print(player_1, \" Get Ready!!!\\n\")\n",
    "\n",
    "\n",
    " \n",
    "\n",
    "# Battleships Ready!!\n",
    "\n",
    "def random_row(board):\n",
    "    return random.randrange(0, len(board))\n",
    "\n",
    "def random_col(board):\n",
    "    return random.randrange(0, len(board))\n",
    "\n",
    "ship_row_1 = random_row(board)\n",
    "ship_col_1 = random_col(board)\n",
    "\n",
    "\n",
    "ship_row_2, ship_col_2 = ship_row_1, ship_col_1\n",
    "\n",
    "while ship_row_2==ship_row_1:\n",
    "    ship_row_2 = random_row(board)\n",
    "    \n",
    "while ship_col_2==ship_col_1:\n",
    "    ship_col_2 = random_col(board)\n",
    "\n",
    "print(ship_row_1, ship_col_1)\n",
    "print(ship_row_2, ship_col_2)\n",
    "\n",
    "print_board(board)\n",
    "\n",
    "\n",
    "# ----------------------------Playing the game----------------------------\n",
    "\n",
    "\n",
    "\n",
    "hit_count = 0\n",
    "\n",
    "for turn in range(10):\n",
    "    guess_row = int(input(\"\\nGuess Row: (allowed values: 0-4) \"))\n",
    "    guess_col = int(input(\"Guess Col: (allowed values: 0-4)\"))\n",
    "\n",
    "    if board[guess_row][guess_col] == \"*\":\n",
    "        print (\"You guessed that one already.\\n\")\n",
    "    \n",
    "    elif (guess_row == ship_row_1 and guess_col == ship_col_1) or (guess_row == ship_row_2 and guess_col == ship_col_2):\n",
    "            hit_count = hit_count + 1\n",
    "            board[guess_row][guess_col] = \"*\"\n",
    "            print (\"\\nCongratulations! \")\n",
    "            if hit_count == 1:\n",
    "                   print(\"You sunk first battleship!\\n\") \n",
    "            elif hit_count == 2:\n",
    "                print(\"You sunk second battleship!\\n\")\n",
    "                print_board(board)\n",
    "                break\n",
    "    else:\n",
    "        if (guess_row < 0 or guess_row > 4)  or (guess_col < 0 or guess_col > 4):\n",
    "                   print (\"Oops, that's not even in the ocean.\\n\")\n",
    "        elif(board[guess_row][guess_col] == \"X\"):\n",
    "                   print (\"You guessed that one already.\\n\")\n",
    "        else:\n",
    "            print (\"You missed my battleship!\\n\")\n",
    "            board[guess_row][guess_col] = \"X\"\n",
    "        print (turn + 1, \"turn\")\n",
    "    print_board(board)\n",
    "    \n",
    "if hit_count == 2:\n",
    "    print(\"Congratulations \", player_1,\" You Win!!\")\n",
    "else:\n",
    "    print(\"Sorry \", player_1,\" You Lose.\")\n",
    "print (\"Ship 1 is hidden:\")    \n",
    "print (ship_row_1)\n",
    "print (ship_col_1)\n",
    "\n",
    "print (\"Ship 2 is hidden:\")    \n",
    "print (ship_row_2)\n",
    "print (ship_col_2)    "
   ]
  },
  {
   "cell_type": "code",
   "execution_count": null,
   "metadata": {},
   "outputs": [],
   "source": [
    "DRY Code: Donot Repeat Yourself"
   ]
  },
  {
   "cell_type": "code",
   "execution_count": 12,
   "metadata": {},
   "outputs": [
    {
     "data": {
      "text/plain": [
       "'7654321'"
      ]
     },
     "execution_count": 12,
     "metadata": {},
     "output_type": "execute_result"
    }
   ],
   "source": [
    "def string_reverse(str1):\n",
    "    rstr = ''\n",
    "    x = len(str1)\n",
    "    while x>0:\n",
    "        rstr = rstr + str1[x-1]\n",
    "        x = x-1\n",
    "    return rstr\n",
    "string_reverse('1234567')"
   ]
  },
  {
   "cell_type": "code",
   "execution_count": 11,
   "metadata": {},
   "outputs": [
    {
     "name": "stdout",
     "output_type": "stream",
     "text": [
      "7\n",
      "hi friend\n"
     ]
    }
   ],
   "source": [
    "s = '1234567'\n",
    "\n",
    "print(len(s))\n",
    "\n",
    "# rstr = rstr + s[6]\n",
    "\n",
    "x = 'hi '\n",
    "y = 'friend'\n",
    "\n",
    "print(x + y)"
   ]
  },
  {
   "cell_type": "code",
   "execution_count": 8,
   "metadata": {},
   "outputs": [
    {
     "name": "stdout",
     "output_type": "stream",
     "text": [
      "O O O O O\n",
      "O O O O O\n",
      "O O O O O\n",
      "O O O O O\n",
      "O O O O O\n"
     ]
    }
   ],
   "source": [
    "board = []\n",
    "\n",
    "for x in range(0,5):\n",
    "    board.append([\"O\"] * 5)\n",
    "\n",
    "def print_board(board):\n",
    "    for row in board:\n",
    "        print (\" \".join(row))\n",
    "\n",
    "# print(board)\n",
    "\n",
    "print_board(board)"
   ]
  },
  {
   "cell_type": "code",
   "execution_count": 6,
   "metadata": {},
   "outputs": [
    {
     "name": "stdout",
     "output_type": "stream",
     "text": [
      "1 2 3 4\n",
      "1 2 3 4\n",
      "1 2 3 4\n",
      "1 2 3 4\n"
     ]
    }
   ],
   "source": [
    "l = ['1','2','3','4']\n",
    "\n",
    "for i in l:\n",
    "    print (\" \".join(l))"
   ]
  },
  {
   "cell_type": "code",
   "execution_count": null,
   "metadata": {},
   "outputs": [],
   "source": []
  }
 ],
 "metadata": {
  "hide_input": false,
  "kernelspec": {
   "display_name": "Python 3",
   "language": "python",
   "name": "python3"
  },
  "language_info": {
   "codemirror_mode": {
    "name": "ipython",
    "version": 3
   },
   "file_extension": ".py",
   "mimetype": "text/x-python",
   "name": "python",
   "nbconvert_exporter": "python",
   "pygments_lexer": "ipython3",
   "version": "3.7.3"
  }
 },
 "nbformat": 4,
 "nbformat_minor": 2
}
