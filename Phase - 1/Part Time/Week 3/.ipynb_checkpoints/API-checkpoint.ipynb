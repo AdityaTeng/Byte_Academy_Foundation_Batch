{
 "cells": [
  {
   "cell_type": "markdown",
   "metadata": {},
   "source": [
    "## What is an API?\n",
    "    An API, or Application Programming Interface, is a server that you can use to retrieve and send data to using code.\n",
    "    APIs are most commonly used to retrieve data.\n",
    "    \n",
    "    When we want to receive data from an API, we need to make a request.\n",
    "    Requests are used all over the web. For instance, when you visit a website,\n",
    "    your web browser made a request to that websites web server, which responds with the content of the web page.\n",
    "    \n",
    "    API requests work in exactly the same way – you make a request to an API server for data,\n",
    "    and it responds to your request."
   ]
  },
  {
   "cell_type": "markdown",
   "metadata": {},
   "source": [
    "## Making API Requests in Python\n",
    "\n",
    "    In order to work with APIs in Python, we need tools that will make those requests.\n",
    "    In Python, the most common library for making requests and working with APIs is the requests library.\n",
    "    The requests library isn’t part of the standard Python library, so you’ll need to install it to get started.\n",
    "    \n",
    "    pip install requests"
   ]
  },
  {
   "cell_type": "code",
   "execution_count": 2,
   "metadata": {},
   "outputs": [],
   "source": [
    "import requests\n",
    "import json"
   ]
  },
  {
   "cell_type": "markdown",
   "metadata": {},
   "source": [
    "## Making Our First API Request\n",
    "\n",
    "    There are many different types of requests. The most commonly used one, a GET request, is used to retrieve data.\n",
    "    Because we’ll just be working with retrieving data, our focus will be on making ‘get’ requests.\n",
    "\n",
    "    When we make a request, the response from the API comes with a response code which tells us whether\n",
    "    our request was successful.\n",
    "    Response codes are important because they immediately tell us if something went wrong.\n",
    "    \n",
    "   Response codes Link: https://www.tutorialspoint.com/http/http_status_codes.htm\n",
    "\n",
    "### API Documentation\n",
    "    In order to ensure we make a succesful request, when we work with APIs it’s important to consult\n",
    "    the documentation.\n",
    "    We’ll be working with the Open Notify API, which gives access to data about the international space station.\n",
    "    It’s a great API for learning because it has a very simple design, and doesn’t require authentication.\n",
    "   \n",
    "### Website: http://open-notify.org/\n",
    "### Api Link: http://api.open-notify.org/ \n",
    "    Often there will be multiple APIs available on a particular server.\n",
    "    Each of these APIs are commonly called endpoints.\n",
    "    The first endpoint we’ll use is http://api.open-notify.org/astros.json, \n",
    "    which returns data about astronauts currently in space."
   ]
  },
  {
   "cell_type": "code",
   "execution_count": 7,
   "metadata": {},
   "outputs": [
    {
     "name": "stdout",
     "output_type": "stream",
     "text": [
      "Status Code:  200\n",
      "JSON response: {'people': [{'name': 'Christina Koch', 'craft': 'ISS'}, {'name': 'Alexander Skvortsov', 'craft': 'ISS'}, {'name': 'Luca Parmitano', 'craft': 'ISS'}, {'name': 'Andrew Morgan', 'craft': 'ISS'}, {'name': 'Oleg Skripochka', 'craft': 'ISS'}, {'name': 'Jessica Meir', 'craft': 'ISS'}], 'number': 6, 'message': 'success'} \n",
      "\n",
      "Christina Koch\n",
      "Alexander Skvortsov\n",
      "Luca Parmitano\n",
      "Andrew Morgan\n",
      "Oleg Skripochka\n",
      "Jessica Meir\n",
      "\n",
      "Number of people outside space: 6\n"
     ]
    }
   ],
   "source": [
    "'We’ll start by making a GET request to the endpoint using the requests library'\n",
    "\n",
    "response = requests.get(\"http://api.open-notify.org/astros.json\")\n",
    "print('Status Code: ', response.status_code)\n",
    "print('JSON response:', response.json(),'\\n')\n",
    "\n",
    "# type(response.json())\n",
    "\n",
    "astros = response.json()\n",
    "\n",
    "for astronomer in astros['people']:\n",
    "    print(astronomer['name'])\n",
    "    \n",
    "print('\\nNumber of people outside space:', astros['number']) "
   ]
  },
  {
   "cell_type": "markdown",
   "metadata": {},
   "source": [
    "## Using an API with query parameters\n",
    "    The API endpoint that we used above does not take any parameters but it is very common to have an API endpoint\n",
    "    that requires us to specify parameters.\n",
    "    An example of this is http://api.open-notify.org/iss-pass.json endpoint.\n",
    "    This endpoint tells us the next times that the international space station will pass over a given location on the earth\n",
    "   \n",
    "    If we look at the documentation, it specifies required lat (latitude) and long (longitude) parameters.\n",
    "    \n",
    "    We can do this by adding an optional keyword argument, params, to our request.\n",
    "    We can make a dictionary with these parameters, and then pass them into the requests.get function.\n",
    "    \n",
    "   Link: http://api.open-notify.org/iss-pass.json"
   ]
  },
  {
   "cell_type": "code",
   "execution_count": 15,
   "metadata": {},
   "outputs": [
    {
     "name": "stdout",
     "output_type": "stream",
     "text": [
      "{'message': 'success', 'request': {'altitude': 100, 'datetime': 1570270649, 'latitude': 28.6139, 'longitude': 77.209, 'passes': 5}, 'response': [{'duration': 460, 'risetime': 1570283849}, {'duration': 645, 'risetime': 1570289591}, {'duration': 431, 'risetime': 1570295473}, {'duration': 175, 'risetime': 1570338122}, {'duration': 643, 'risetime': 1570343653}]}\n",
      "\n",
      " [1570283849, 1570289591, 1570295473, 1570338122, 1570343653]\n"
     ]
    }
   ],
   "source": [
    "parameters = {\n",
    "    \"lat\": 28.6139,\n",
    "    \"lon\": 77.2090\n",
    "}\n",
    "\n",
    "'''It’s almost always preferable to setup the parameters as a dictionary, \n",
    "because requests takes care of some things that come up, like properly formatting the query parameters,\n",
    "and we don’t need to worry about inserting the values into the URL string.'''\n",
    "\n",
    "response = requests.get(\"http://api.open-notify.org/iss-pass.json\", params=parameters)\n",
    "\n",
    "print(response.json())\n",
    "\n",
    "pass_times = response.json()['response']\n",
    "\n",
    "risetimes = []\n",
    "\n",
    "for d in pass_times:\n",
    "    time = d['risetime']\n",
    "    risetimes.append(time)\n",
    "\n",
    "print('\\n',risetimes)"
   ]
  },
  {
   "cell_type": "code",
   "execution_count": 16,
   "metadata": {},
   "outputs": [
    {
     "name": "stdout",
     "output_type": "stream",
     "text": [
      "2019-10-05 19:27:29\n",
      "2019-10-05 21:03:11\n",
      "2019-10-05 22:41:13\n",
      "2019-10-06 10:32:02\n",
      "2019-10-06 12:04:13\n"
     ]
    },
    {
     "data": {
      "text/plain": [
       "[datetime.datetime(2019, 10, 5, 19, 27, 29),\n",
       " datetime.datetime(2019, 10, 5, 21, 3, 11),\n",
       " datetime.datetime(2019, 10, 5, 22, 41, 13),\n",
       " datetime.datetime(2019, 10, 6, 10, 32, 2),\n",
       " datetime.datetime(2019, 10, 6, 12, 4, 13)]"
      ]
     },
     "execution_count": 16,
     "metadata": {},
     "output_type": "execute_result"
    }
   ],
   "source": [
    "from datetime import datetime\n",
    "\n",
    "times = []\n",
    "\n",
    "for rt in risetimes:\n",
    "    time = datetime.fromtimestamp(rt)\n",
    "    times.append(time)\n",
    "    print(time)\n",
    "\n",
    "times"
   ]
  },
  {
   "cell_type": "code",
   "execution_count": null,
   "metadata": {},
   "outputs": [],
   "source": []
  },
  {
   "cell_type": "markdown",
   "metadata": {},
   "source": [
    "## Weather API Call"
   ]
  },
  {
   "cell_type": "code",
   "execution_count": 25,
   "metadata": {},
   "outputs": [
    {
     "name": "stdout",
     "output_type": "stream",
     "text": [
      "New Delhi\n",
      "2019-10-05 12:00:00\n",
      "303.41\n",
      "303.41\n",
      "305.336\n",
      "32\n",
      "3.62\n"
     ]
    },
    {
     "data": {
      "text/plain": [
       "{'dt': 1570276800,\n",
       " 'main': {'temp': 303.41,\n",
       "  'temp_min': 303.41,\n",
       "  'temp_max': 305.336,\n",
       "  'pressure': 1006.8,\n",
       "  'sea_level': 1006.8,\n",
       "  'grnd_level': 981.85,\n",
       "  'humidity': 32,\n",
       "  'temp_kf': -1.93},\n",
       " 'weather': [{'id': 800,\n",
       "   'main': 'Clear',\n",
       "   'description': 'clear sky',\n",
       "   'icon': '01d'}],\n",
       " 'clouds': {'all': 0},\n",
       " 'wind': {'speed': 3.62, 'deg': 319.701},\n",
       " 'sys': {'pod': 'd'},\n",
       " 'dt_txt': '2019-10-05 12:00:00'}"
      ]
     },
     "execution_count": 25,
     "metadata": {},
     "output_type": "execute_result"
    }
   ],
   "source": [
    "import requests\n",
    "import json\n",
    "\n",
    "id='1261481'\n",
    "url='http://api.openweathermap.org/data/2.5/forecast?id='+id+'&APPID=1960401d79b51d8c3be286b9463a081b'\n",
    "source=requests.get(url)\n",
    "weather=json.loads(source.text)\n",
    "# print(weather)\n",
    "# weather=json.dumps(weather, indent=2)\n",
    "# print(weather)\n",
    "\n",
    "print(weather['city']['name'])\n",
    "\n",
    "dt_txt = weather['list'][0]['dt_txt']\n",
    "print(dt_txt)\n",
    "\n",
    "temp = weather['list'][0]['main']['temp']\n",
    "print(temp)\n",
    "\n",
    "min_temp = weather['list'][0]['main']['temp_min']\n",
    "print(min_temp)\n",
    "\n",
    "max_temp = weather['list'][0]['main']['temp_max']\n",
    "print(max_temp)\n",
    "\n",
    "humidity = weather['list'][0]['main']['humidity']\n",
    "print(humidity)\n",
    "\n",
    "wind_speed = weather['list'][0]['wind']['speed']\n",
    "print(wind_speed)\n",
    "\n",
    "weather['list'][0]"
   ]
  },
  {
   "cell_type": "code",
   "execution_count": null,
   "metadata": {},
   "outputs": [],
   "source": []
  },
  {
   "cell_type": "code",
   "execution_count": null,
   "metadata": {},
   "outputs": [],
   "source": []
  },
  {
   "cell_type": "code",
   "execution_count": null,
   "metadata": {},
   "outputs": [],
   "source": []
  },
  {
   "cell_type": "code",
   "execution_count": null,
   "metadata": {},
   "outputs": [],
   "source": []
  }
 ],
 "metadata": {
  "hide_input": false,
  "kernelspec": {
   "display_name": "Python 3",
   "language": "python",
   "name": "python3"
  },
  "language_info": {
   "codemirror_mode": {
    "name": "ipython",
    "version": 3
   },
   "file_extension": ".py",
   "mimetype": "text/x-python",
   "name": "python",
   "nbconvert_exporter": "python",
   "pygments_lexer": "ipython3",
   "version": "3.7.3"
  }
 },
 "nbformat": 4,
 "nbformat_minor": 2
}
