{
 "cells": [
  {
   "cell_type": "markdown",
   "metadata": {},
   "source": [
    "Why Classes?\n",
    "\n",
    "    They allow us to logically group our data and functions in a way that is easy to re-use and easy to build up on if need be.\n",
    "    \n",
    "    The data and functions that are associated with a specific class are called attributes and methods.\n",
    "    \n",
    "    Method - a function that is associated with a class."
   ]
  },
  {
   "cell_type": "markdown",
   "metadata": {},
   "source": [
    "# Classes"
   ]
  },
  {
   "cell_type": "markdown",
   "metadata": {},
   "source": [
    "Example: \n",
    "\n",
    "    Say we have an application for a company and we want to represent our employees in a python code.\n",
    "    Each employee will have specific attributes and methods. Each employee will have a name, email, pay etc.\n",
    "    \n",
    "    We want to build a class that acts as a blueprint to create each employee so that we dont have to do it manually each time from scratch."
   ]
  },
  {
   "cell_type": "code",
   "execution_count": 5,
   "metadata": {},
   "outputs": [
    {
     "name": "stdout",
     "output_type": "stream",
     "text": [
      "<__main__.Employee object at 0x0000023937ECF668> <__main__.Employee object at 0x0000023937ECF630>\n",
      "\n"
     ]
    }
   ],
   "source": [
    "# creating a class employee:\n",
    "\n",
    "class Employee:\n",
    "    pass          # leaving empty for now, if we dont say pass we will get an error\n",
    "\n",
    "'''difference between class and instance of a class:\n",
    " --- a class is basically a blueprint for creating instances and\n",
    "     each unique employee that we create using the class employee\n",
    "     will be an instance of that class'''\n",
    "\n",
    "'so when we say: '\n",
    "\n",
    "emp_1 = Employee()\n",
    "emp_2 = Employee()\n",
    "\n",
    "'emp_1 and emp_2 will be unique instances of the class Employee'\n",
    "\n",
    "print(emp_1, emp_2)\n",
    "\n",
    "'so we see that they are both unique objects with different memory locations'\n",
    "print()"
   ]
  },
  {
   "cell_type": "markdown",
   "metadata": {},
   "source": [
    "# Instance Variables\n",
    "\n",
    "    instance variables and contain data that is unique to each instance."
   ]
  },
  {
   "cell_type": "code",
   "execution_count": 8,
   "metadata": {},
   "outputs": [
    {
     "name": "stdout",
     "output_type": "stream",
     "text": [
      "Paramveer.Gupta@company.com and  Ahad.Khan@company.com\n"
     ]
    }
   ],
   "source": [
    "# manually creating instance attributes:\n",
    "\n",
    "emp_1.first = 'Paramveer'\n",
    "emp_1.last = 'Gupta'\n",
    "emp_1.email = 'Paramveer.Gupta@company.com'\n",
    "emp_1.pay = 50000\n",
    "\n",
    "emp_2.first = 'Ahad'\n",
    "emp_2.last = 'Khan'\n",
    "emp_2.email = 'Ahad.Khan@company.com'\n",
    "emp_2.pay = 60000\n",
    "\n",
    "'now each instance has attribute that is unique to them'\n",
    "\n",
    "print(emp_1.email, 'and ', emp_2.email)\n",
    "\n",
    "\n",
    "# the problem over here is that as the number of employees increases,\n",
    "# it will be a lot of code and also prone to mistakes\n",
    "# Also, we dont get much benefit of using classes if we do it this way\n",
    "\n",
    "# to create instance attributes automatically when we create the instances\n",
    "# we make use of the __init__ method"
   ]
  },
  {
   "cell_type": "markdown",
   "metadata": {},
   "source": [
    "## init method"
   ]
  },
  {
   "cell_type": "code",
   "execution_count": 13,
   "metadata": {},
   "outputs": [
    {
     "name": "stdout",
     "output_type": "stream",
     "text": [
      "Paramveer.Gupta@company.com and  Ahad.Khan@company.com\n"
     ]
    }
   ],
   "source": [
    "'''to make these instance attributes/variables set up automatically\n",
    "when we create the instances we are going to use special __init__ method\n",
    "\n",
    "you can think of this as initialize or a constructor'''\n",
    "\n",
    "class Employee:\n",
    "    \n",
    "    def __init__(self, first, last, pay):\n",
    "        '''self -- when we create methods in a class they recieve the instance \n",
    "        as the first argument automatically and by convention we should call the instance as self\n",
    "        next -- we have specified the other arguments we want for the instance'''\n",
    "        self.first = first\n",
    "        self.last = last\n",
    "        self.email = first + '.' + last + '@company.com'\n",
    "        self.pay = pay\n",
    "    \n",
    "emp_1 = Employee('Paramveer', 'Gupta', 50000)\n",
    "emp_2 = Employee('Ahad', 'Khan', 60000)\n",
    "\n",
    "'''when we create these instance variables, the __init__ variable will run automatically\n",
    "-- emp_1 will be passed in as self and then rest of the attributes will be set.'''\n",
    "\n",
    "\n",
    "print(emp_1.email, 'and ', emp_2.email)"
   ]
  },
  {
   "cell_type": "code",
   "execution_count": 22,
   "metadata": {},
   "outputs": [
    {
     "name": "stdout",
     "output_type": "stream",
     "text": [
      "Paramveer Gupta\n",
      "Ahad Khan\n",
      "Paramveer Gupta\n",
      "Ahad Khan\n"
     ]
    }
   ],
   "source": [
    "'''now lets say that we wanted the ability to perform some action\n",
    "-- to do that we can add some methods to our class\n",
    "-- lets say that i want the ability to display the full name of an employee'''\n",
    "\n",
    "class Employee:\n",
    "    \n",
    "    def __init__(self, first, last, pay):\n",
    "        self.first = first\n",
    "        self.last = last\n",
    "        self.email = first + '.' + last + '@company.com'\n",
    "        self.pay = pay\n",
    "        \n",
    "    def fullname(self):\n",
    "        return '{} {}'.format(self.first, self.last)\n",
    "    'common mistake - not passing the self argument in the method'\n",
    "\n",
    "    \n",
    "emp_1 = Employee('Paramveer', 'Gupta', 50000)\n",
    "emp_2 = Employee('Ahad', 'Khan', 60000)\n",
    "\n",
    "'calling the function fullname()'\n",
    "\n",
    "print(emp_1.fullname())           # notice that we need a () here coz this is a method \n",
    "print(emp_2.fullname())\n",
    "\n",
    "'another way of calling the function fullname()'\n",
    "'''we can also run these methods using the class name itself\n",
    "but in this case we have to pass in the instance as an argument\n",
    "into the menthod'''\n",
    "\n",
    "print(Employee.fullname(emp_1))\n",
    "print(Employee.fullname(emp_2))"
   ]
  },
  {
   "cell_type": "code",
   "execution_count": 14,
   "metadata": {},
   "outputs": [
    {
     "name": "stdout",
     "output_type": "stream",
     "text": [
      "Hello World !\n"
     ]
    }
   ],
   "source": [
    "a = 'Hello'\n",
    "b = 'World'\n",
    "\n",
    "print('{} {} !'.format(a,b))"
   ]
  },
  {
   "cell_type": "markdown",
   "metadata": {},
   "source": [
    "# Class Variables\n",
    "\n",
    "    class variables are variables that are shared among all instances of a class.\n",
    "    \n",
    "    So, while instance variables can be unique like name, email and pay \n",
    "    class variables should be the same for all the instances\n",
    "    \n",
    "    For this example lets say our company gives annual raises. \n",
    "    The raise percent can change year to year but whatever that raise percent is\n",
    "    its going to be same for all employees.\n",
    "    \n",
    "    Now, that is a good example for a class variable"
   ]
  },
  {
   "cell_type": "code",
   "execution_count": 23,
   "metadata": {},
   "outputs": [
    {
     "name": "stdout",
     "output_type": "stream",
     "text": [
      "50000\n",
      "55000\n"
     ]
    }
   ],
   "source": [
    "class Employee:\n",
    "    \n",
    "    def __init__(self, first, last, pay):\n",
    "        self.first = first\n",
    "        self.last = last\n",
    "        self.email = first + '.' + last + '@company.com'\n",
    "        self.pay = pay\n",
    "        \n",
    "    def fullname(self):\n",
    "        return '{} {}'.format(self.first, self.last)\n",
    "    \n",
    "    def apply_raise(self):\n",
    "        self.pay = int(self.pay * 1.10)\n",
    "    \n",
    "emp_1 = Employee('Paramveer', 'Gupta', 50000)\n",
    "emp_2 = Employee('Ahad', 'Khan', 60000)\n",
    "\n",
    "print(emp_1.pay)\n",
    "emp_1.apply_raise()\n",
    "print(emp_1.pay)\n",
    "\n",
    "# issues with this method\n",
    "'''1. we are not able to access the raise percent\n",
    "   2. we can not easily update the raise percent\n",
    "'''\n"
   ]
  },
  {
   "cell_type": "code",
   "execution_count": 60,
   "metadata": {},
   "outputs": [
    {
     "name": "stdout",
     "output_type": "stream",
     "text": [
      "1.1\n",
      "1.1\n",
      "1.1\n",
      "\n",
      "Employee 1 dictionary:  {'first': 'Paramveer', 'last': 'Gupta', 'email': 'Paramveer.Gupta@company.com', 'pay': 50000} \n",
      "\n",
      "Employee Class: \n",
      " {'__module__': '__main__', 'raise_percent': 1.1, '__init__': <function Employee.__init__ at 0x0000023938034158>, 'fullname': <function Employee.fullname at 0x0000023938034B70>, 'apply_raise': <function Employee.apply_raise at 0x0000023938034EA0>, '__dict__': <attribute '__dict__' of 'Employee' objects>, '__weakref__': <attribute '__weakref__' of 'Employee' objects>, '__doc__': None} \n",
      "\n",
      "1.05\n",
      "1.05\n",
      "1.05 \n",
      "\n",
      "1.05\n",
      "1.2\n",
      "1.05 \n",
      "\n",
      "50000\n",
      "60000 \n",
      "\n",
      "60000\n",
      "63000\n"
     ]
    }
   ],
   "source": [
    "class Employee:\n",
    "    \n",
    "    raise_percent = 1.10\n",
    "    \n",
    "    def __init__(self, first, last, pay):\n",
    "        self.first = first\n",
    "        self.last = last\n",
    "        self.email = first + '.' + last + '@company.com'\n",
    "        self.pay = pay\n",
    "        \n",
    "    def fullname(self):\n",
    "        return '{} {}'.format(self.first, self.last)\n",
    "    \n",
    "    def apply_raise(self):\n",
    "        self.pay = int(self.pay * self.raise_percent)            # Employee.raise_percent\n",
    "        '''accessing the class variable:\n",
    "        we need to either access them through the class itself\n",
    "        or an instance of the class\n",
    "        So, we can either say Employee.raise_percent or self.raise_percent'''\n",
    "    \n",
    "emp_1 = Employee('Paramveer', 'Gupta', 50000)\n",
    "emp_2 = Employee('Ahad', 'Khan', 60000)\n",
    "\n",
    "'''Now we can access the class variable using either the employee class or instances'''\n",
    "\n",
    "print(Employee.raise_percent)\n",
    "print(emp_1.raise_percent)\n",
    "print(emp_2.raise_percent)\n",
    "\n",
    "'''Now we can see that we can access the class variable from both the class itself and \n",
    "as well as from both instances.\n",
    "\n",
    "---- print(emp_1.raise_percent)\n",
    "\n",
    "When we try to access an attribute from an instance, it will first check if\n",
    "that attribute belongs to that instance and if it doesnt it will see if the class\n",
    "or any class that it inherits from contains that attribute.  '''\n",
    "\n",
    "\n",
    "\n",
    "print('\\nEmployee 1 dictionary: ', emp_1.__dict__,'\\n')      # printing out the emp_1 dictionary\n",
    "'we see that there is no raise_percent in the dictionary'\n",
    "\n",
    "'but if we check Employee Class dictionary we see the raise_percent attribute/variable in the dictionary'\n",
    "print('Employee Class: \\n', Employee.__dict__,'\\n')\n",
    "\n",
    "\n",
    "# important concept\n",
    "'now we can change the raise for each employee from outside the class'\n",
    "Employee.raise_percent = 1.05\n",
    "print(Employee.raise_percent)\n",
    "print(emp_1.raise_percent)\n",
    "print(emp_2.raise_percent,'\\n')\n",
    "\n",
    "'''also we can change the raise for a particular employee from outside the class\n",
    "but this wont be possible if we had used Employee.raise_percent to access the class variable\n",
    "Lets see the difference'''\n",
    "\n",
    "emp_1.raise_percent = 1.20\n",
    "print(Employee.raise_percent)\n",
    "print(emp_1.raise_percent)\n",
    "print(emp_2.raise_percent,'\\n')\n",
    "\n",
    "\n",
    "print(emp_1.pay)\n",
    "emp_1.apply_raise()\n",
    "print(emp_1.pay,'\\n')\n",
    "\n",
    "print(emp_2.pay)\n",
    "emp_2.apply_raise()\n",
    "print(emp_2.pay)\n",
    "\n",
    "'''so if we want to be able to change the class variable for each instance\n",
    "we should access it using self'''\n",
    "print()"
   ]
  },
  {
   "cell_type": "code",
   "execution_count": 69,
   "metadata": {},
   "outputs": [
    {
     "name": "stdout",
     "output_type": "stream",
     "text": [
      "2\n",
      "2\n",
      "2\n"
     ]
    }
   ],
   "source": [
    "'now lets see a case in which we should access the class variable using the class'\n",
    "\n",
    "class Employee:\n",
    "    \n",
    "    emp_count = 0\n",
    "    raise_percent = 1.10\n",
    "    \n",
    "    def __init__(self, first, last, pay):\n",
    "        self.first = first\n",
    "        self.last = last\n",
    "        self.email = first + '.' + last + '@company.com'\n",
    "        self.pay = pay\n",
    "        Employee.emp_count += 1             #self.emp_count\n",
    "        \n",
    "    def fullname(self):\n",
    "        return '{} {}'.format(self.first, self.last)\n",
    "    \n",
    "    def apply_raise(self):\n",
    "        self.pay = int(self.pay * self.raise_percent)\n",
    "\n",
    "emp_1 = Employee('Paramveer', 'Gupta', 50000)\n",
    "emp_2 = Employee('Ahad', 'Khan', 60000)\n",
    "\n",
    "print(Employee.emp_count)\n",
    "print(emp_1.emp_count)\n",
    "print(emp_2.emp_count)"
   ]
  },
  {
   "cell_type": "markdown",
   "metadata": {},
   "source": [
    "# Instance Methods, Class methods and Static Methods\n",
    "\n",
    "    Instance methods - automatically pass the instance as the first argument and by convention we call it self\n",
    "    \n",
    "    Class methods - automatically pass the class as the first argument and by convention we call it cls\n",
    "    \n",
    "    Static methods - dont pass anything automatically, behave just like regular functions"
   ]
  },
  {
   "cell_type": "code",
   "execution_count": 12,
   "metadata": {},
   "outputs": [
    {
     "name": "stdout",
     "output_type": "stream",
     "text": [
      "1.1\n",
      "1.1\n",
      "1.1 \n",
      "\n",
      "1.2\n",
      "1.2\n",
      "1.2 \n",
      "\n",
      "\n"
     ]
    }
   ],
   "source": [
    "class Employee:\n",
    "    \n",
    "    emp_count = 0\n",
    "    raise_percent = 1.10\n",
    "    \n",
    "    def __init__(self, first, last, pay):\n",
    "        self.first = first\n",
    "        self.last = last\n",
    "        self.email = first + '.' + last + '@company.com'\n",
    "        self.pay = pay\n",
    "        Employee.emp_count += 1             #self.emp_count\n",
    "        \n",
    "    def fullname(self):\n",
    "        return '{} {}'.format(self.first, self.last)\n",
    "    \n",
    "    def apply_raise(self):\n",
    "        self.pay = int(self.pay * self.raise_percent)\n",
    "    \n",
    "    \n",
    "    '''to turn a regular method into a class method is as \n",
    "    easy as adding a decorator to the top called classmethod'''\n",
    "    @classmethod \n",
    "    def set_raise_percent(cls, percent):             # change cls to self, the variable name changes \n",
    "            cls.raise_percent = percent              # but we will still be passing the class as an argument ---- 2\n",
    "    \n",
    "    \n",
    "#     '''we want to create a simple function which takes in \n",
    "#     a date as an argument and returns whether or not that was a workday'''    \n",
    "#     @staticmethod\n",
    "#     def is_workday(day):\n",
    "#         if day.weekday() == 5 or day.weekday() == 6:\n",
    "#             return False\n",
    "#         else:\n",
    "#             return True\n",
    "\n",
    "emp_1 = Employee('Paramveer', 'Gupta', 50000)\n",
    "emp_2 = Employee('Ahad', 'Khan', 60000)\n",
    "\n",
    "\n",
    "print(Employee.raise_percent)\n",
    "print(emp_1.raise_percent)\n",
    "print(emp_2.raise_percent,'\\n')\n",
    "\n",
    "Employee.set_raise_percent(1.2)         # emp_1.set_raise_percent(1.2) ---- 1\n",
    "\n",
    "print(Employee.raise_percent)\n",
    "print(emp_1.raise_percent)\n",
    "print(emp_2.raise_percent,'\\n')\n",
    "\n",
    "# static method\n",
    "\n",
    "# import datetime\n",
    "\n",
    "# my_date = datetime.date(2019, 9, 14)     # creating new date as my_date\n",
    "# print(Employee.is_workday(my_date))      # passing my_date into the is_workday method\n",
    "\n",
    "\n",
    "'''Note: If we dont access an instance or a class anywhere\n",
    "within the function, we should be making use of static methods'''\n",
    "print()"
   ]
  },
  {
   "cell_type": "markdown",
   "metadata": {},
   "source": [
    "# Python Class Inheritance\n",
    "\n",
    "    Inheritance allows us to inherit attributes and methods from a parent class. \n",
    "    \n",
    "    This is useful because:\n",
    "        \n",
    "        We can create sub-classes and get all the functionality of the parent class\n",
    "        \n",
    "        We can overwrite or add completely new functionality in the sub-class \n",
    "        without affecting the parent class in any way  "
   ]
  },
  {
   "cell_type": "code",
   "execution_count": null,
   "metadata": {},
   "outputs": [],
   "source": [
    "'''Lets say that we want to get a bit specific and create different types of employees. \n",
    "\n",
    "For example, we want to create Developers and Managers. \n",
    "\n",
    "These will be good candidates for sub classes because both Developers and Managers will have \n",
    "names, email addesses and pay. These are the attributes/variables that our Employee class \n",
    "already has.'''"
   ]
  },
  {
   "cell_type": "code",
   "execution_count": 2,
   "metadata": {},
   "outputs": [
    {
     "name": "stdout",
     "output_type": "stream",
     "text": [
      "Paramveer.Gupta@company.com\n",
      "Ahad.Khan@company.com\n",
      "Help on class Developer in module __main__:\n",
      "\n",
      "class Developer(Employee)\n",
      " |  Developer(first, last, pay)\n",
      " |  \n",
      " |  In the () we specify what class we want to inherit from\n",
      " |  \n",
      " |  Method resolution order:\n",
      " |      Developer\n",
      " |      Employee\n",
      " |      builtins.object\n",
      " |  \n",
      " |  Methods inherited from Employee:\n",
      " |  \n",
      " |  __init__(self, first, last, pay)\n",
      " |      Initialize self.  See help(type(self)) for accurate signature.\n",
      " |  \n",
      " |  apply_raise(self)\n",
      " |  \n",
      " |  fullname(self)\n",
      " |  \n",
      " |  ----------------------------------------------------------------------\n",
      " |  Data descriptors inherited from Employee:\n",
      " |  \n",
      " |  __dict__\n",
      " |      dictionary for instance variables (if defined)\n",
      " |  \n",
      " |  __weakref__\n",
      " |      list of weak references to the object (if defined)\n",
      " |  \n",
      " |  ----------------------------------------------------------------------\n",
      " |  Data and other attributes inherited from Employee:\n",
      " |  \n",
      " |  emp_count = 2\n",
      " |  \n",
      " |  raise_percent = 1.1\n",
      "\n",
      "None\n",
      "\n"
     ]
    }
   ],
   "source": [
    "class Employee:\n",
    "    \n",
    "    emp_count = 0\n",
    "    raise_percent = 1.10\n",
    "    \n",
    "    def __init__(self, first, last, pay):\n",
    "        self.first = first\n",
    "        self.last = last\n",
    "        self.email = first + '.' + last + '@company.com'\n",
    "        self.pay = pay\n",
    "        Employee.emp_count += 1             #self.emp_count\n",
    "        \n",
    "    def fullname(self):\n",
    "        return '{} {}'.format(self.first, self.last)\n",
    "    \n",
    "    def apply_raise(self):\n",
    "        self.pay = int(self.pay * self.raise_percent)\n",
    "\n",
    "class Developer(Employee):\n",
    "    '''In the () we specify what class we want to inherit from'''\n",
    "    pass\n",
    "\n",
    "emp_1 = Developer('Paramveer', 'Gupta', 50000)\n",
    "emp_2 = Developer('Ahad', 'Khan', 60000)\n",
    "\n",
    "print(emp_1.email)\n",
    "print(emp_2.email)\n",
    "\n",
    "'''What happened here is that when we instantiated our developers,\n",
    "it first looked in our Developer class for the __init method. \n",
    "But it did not find it in the Developer class because it is currently  empty.\n",
    "So what python is going to do next is it will walk up this chain of inheritance\n",
    "untill it finds what it is looking for. This chain is called Method Resolution Order.'''\n",
    "\n",
    "'to get a better understanding lets checkout this help function'\n",
    "\n",
    "print(help(Developer))\n",
    "\n",
    "'''So we see that the Method Resolution Order is one of the first things that is printed out.\n",
    "And it mentions the places where python will search for attributes and methods.\n",
    "i.e. Developer\n",
    "     Employee\n",
    "     builtins.object\n",
    "    \n",
    "So, when we created two new developers, it first looked in our Developer Class for the __init__ method,\n",
    "and when it didnt find it there it looked up to the Employee Class and it found it there.\n",
    "\n",
    "And, if it did not find it in the Employee Class, the last place that it would look is the Object Class.\n",
    "Every Class in python inherits from this base object class.\n",
    "\n",
    "And, if we look further it shows the methods and attributes inherited from Employee''' \n",
    "print()"
   ]
  },
  {
   "cell_type": "code",
   "execution_count": 8,
   "metadata": {},
   "outputs": [
    {
     "name": "stdout",
     "output_type": "stream",
     "text": [
      "50000 60000\n",
      "60000 60000\n",
      "email:  Paramveer.Gupta@company.com \n",
      "language:  Python\n"
     ]
    }
   ],
   "source": [
    "class Employee:\n",
    "    \n",
    "    emp_count = 0\n",
    "    raise_percent = 1.10\n",
    "    \n",
    "    def __init__(self, first, last, pay):\n",
    "        self.first = first\n",
    "        self.last = last\n",
    "        self.email = first + '.' + last + '@company.com'\n",
    "        self.pay = pay\n",
    "        Employee.emp_count += 1             #self.emp_count\n",
    "        \n",
    "    def fullname(self):\n",
    "        return '{} {}'.format(self.first, self.last)\n",
    "    \n",
    "    def apply_raise(self):\n",
    "        self.pay = int(self.pay * self.raise_percent)\n",
    "\n",
    "class Developer(Employee):\n",
    "    raise_percent = 1.20\n",
    "#     '''Sometimes we want to initiate our sub class with more information than our parent class can handle:\n",
    "#     Example: lets say when we create our developers we want pass in their main programming language as an attribute, but\n",
    "#     currently our employee class only accepts first name, last name and pay. \n",
    "    \n",
    "#     For this we need to give the developer class its own __init__ method'''\n",
    "#     def __init__(self, first, last, pay, prog_lang):\n",
    "#         '''What we might be tempted to do here is copy the code from our Employee class __init__ method and \n",
    "#         paste it over here for the self, first, last and pay attributes. But instead what we can do is: '''\n",
    "#         super().__init__(first, last, pay)\n",
    "#         '''super().__init__ is going to pass first, last and pay to our Employee class __init__ method and \n",
    "#         let that class handle those arguments. Another way of applying the same logic is:'''\n",
    "#         # Employee.__init__(self, first, last, pay)\n",
    "#         '''These are two ways of calling parent class __init__ method. But recommended way is super()'''\n",
    "         \n",
    "#         '''Now we can handle the prog_lang argument just like we would handle in any other class.'''\n",
    "#         self.prog_lang = prog_lang\n",
    "        \n",
    "emp_1 = Developer('Paramveer', 'Gupta', 50000)              # emp_1 = Developer('Paramveer', 'Gupta', 50000, 'Python')\n",
    "emp_2 = Employee('Ahad', 'Khan', 60000)\n",
    "\n",
    "print(emp_1.pay, emp_2.pay)\n",
    "emp_1.apply_raise()\n",
    "print(emp_1.pay, emp_2.pay)\n",
    "\n",
    "# print('email: ', emp_1.email, '\\nlanguage: ', emp_1.prog_lang)"
   ]
  },
  {
   "cell_type": "markdown",
   "metadata": {},
   "source": [
    "## Adding Class Manager\n",
    "\n",
    "    Just so we get a really good understanding of this,\n",
    "    lets go through the process of creating another sub class called manager"
   ]
  },
  {
   "cell_type": "code",
   "execution_count": 26,
   "metadata": {},
   "outputs": [
    {
     "name": "stdout",
     "output_type": "stream",
     "text": [
      "----> Paramveer Gupta\n",
      "----> Ahad Khan\n",
      "Paramveer Gupta is already supervised by Sundar Pichai\n",
      "Ahad Khan is already supervised by Sundar Pichai\n",
      "\n",
      "\n",
      "Aditya Teng is now supervised by Sundar Pichai\n",
      "----> Paramveer Gupta\n",
      "----> Ahad Khan\n",
      "----> Aditya Teng\n",
      "\n",
      "\n",
      "Aditya Teng is no longer supervised by Sundar Pichai\n",
      "----> Paramveer Gupta\n",
      "----> Ahad Khan\n"
     ]
    }
   ],
   "source": [
    "class Employee:\n",
    "    \n",
    "    emp_count = 0\n",
    "    raise_percent = 1.10\n",
    "    \n",
    "    def __init__(self, first, last, pay):\n",
    "        self.first = first\n",
    "        self.last = last\n",
    "        self.email = first + '.' + last + '@company.com'\n",
    "        self.pay = pay\n",
    "        Employee.emp_count += 1             #self.emp_count\n",
    "        \n",
    "    def fullname(self):\n",
    "        return '{} {}'.format(self.first, self.last)\n",
    "    \n",
    "    def apply_raise(self):\n",
    "        self.pay = int(self.pay * self.raise_percent)\n",
    "\n",
    "class Developer(Employee):\n",
    "    raise_percent = 1.20\n",
    "    def __init__(self, first, last, pay, prog_lang):\n",
    "        super().__init__(first, last, pay)\n",
    "        self.prog_lang = prog_lang\n",
    "        \n",
    "class Manager(Employee):\n",
    "    '''Additional attribute: employee_list\n",
    "    we are going to give the option of passing in a list of employees\n",
    "    that the manager supervises.'''\n",
    "    def __init__(self, first, last, pay, employee_list=None):        #setting the default value\n",
    "        super().__init__(first, last, pay)\n",
    "        if employee_list == None:\n",
    "            self.employee_list = []\n",
    "        else:\n",
    "            self.employee_list = employee_list\n",
    "        \n",
    "    def add_emp(self, emp):\n",
    "        if emp not in self.employee_list:\n",
    "            self.employee_list.append(emp)\n",
    "            print(emp.fullname(), 'is now supervised by', self.fullname())\n",
    "        else:\n",
    "            print(emp.fullname(), 'is already supervised by', self.fullname())\n",
    "            \n",
    "    def remove_emp(self, emp):\n",
    "        if emp in self.employee_list:\n",
    "            self.employee_list.remove(emp)\n",
    "            print(emp.fullname(), 'is no longer supervised by', self.fullname())\n",
    "        else:\n",
    "            print(self.fullname(), 'does not supervise', emp.fullname())\n",
    "            \n",
    "    def print_emps(self):\n",
    "        for emp in self.employee_list:\n",
    "            print('---->', emp.fullname())\n",
    "        \n",
    "emp_1 = Developer('Paramveer', 'Gupta', 50000, 'Python')\n",
    "emp_2 = Developer('Ahad', 'Khan', 60000, 'Java')\n",
    "emp_3 = Employee('Aditya', 'Teng', 50000)\n",
    "\n",
    "# initializing first manager\n",
    "mgr_1 = Manager('Sundar', 'Pichai', 100000, [emp_1, emp_2])\n",
    "\n",
    "# Printing Employees\n",
    "mgr_1.print_emps()\n",
    "\n",
    "# Adding Employees \n",
    "mgr_1.add_emp(emp_1)\n",
    "mgr_1.add_emp(emp_2)\n",
    "print('\\n')\n",
    "mgr_1.add_emp(emp_3)\n",
    "mgr_1.print_emps()\n",
    "print('\\n')\n",
    "\n",
    "# Removing employees\n",
    "mgr_1.remove_emp(emp_3)\n",
    "mgr_1.print_emps()"
   ]
  },
  {
   "cell_type": "code",
   "execution_count": 11,
   "metadata": {},
   "outputs": [
    {
     "data": {
      "text/plain": [
       "15"
      ]
     },
     "execution_count": 11,
     "metadata": {},
     "output_type": "execute_result"
    }
   ],
   "source": [
    "def addition(a=5, b=10):\n",
    "    return a+b\n",
    "\n",
    "addition()"
   ]
  },
  {
   "cell_type": "markdown",
   "metadata": {},
   "source": [
    "# isinstance() and issubclass()"
   ]
  },
  {
   "cell_type": "code",
   "execution_count": 30,
   "metadata": {},
   "outputs": [
    {
     "name": "stdout",
     "output_type": "stream",
     "text": [
      "True\n",
      "True\n",
      "False\n",
      "\n",
      "\n",
      "True\n",
      "True\n",
      "False\n"
     ]
    }
   ],
   "source": [
    "print(isinstance(mgr_1, Manager))\n",
    "print(isinstance(mgr_1, Employee))\n",
    "print(isinstance(mgr_1, Developer))\n",
    "print('\\n')\n",
    "print(issubclass(Developer, Employee))\n",
    "print(issubclass(Manager, Employee))\n",
    "print(issubclass(Developer, Manager))"
   ]
  },
  {
   "cell_type": "code",
   "execution_count": null,
   "metadata": {},
   "outputs": [],
   "source": []
  },
  {
   "cell_type": "code",
   "execution_count": null,
   "metadata": {},
   "outputs": [],
   "source": []
  },
  {
   "cell_type": "code",
   "execution_count": null,
   "metadata": {},
   "outputs": [],
   "source": []
  },
  {
   "cell_type": "code",
   "execution_count": null,
   "metadata": {},
   "outputs": [],
   "source": []
  },
  {
   "cell_type": "code",
   "execution_count": null,
   "metadata": {},
   "outputs": [],
   "source": []
  },
  {
   "cell_type": "code",
   "execution_count": null,
   "metadata": {},
   "outputs": [],
   "source": []
  },
  {
   "cell_type": "code",
   "execution_count": null,
   "metadata": {},
   "outputs": [],
   "source": []
  }
 ],
 "metadata": {
  "hide_input": false,
  "kernelspec": {
   "display_name": "Python 3",
   "language": "python",
   "name": "python3"
  },
  "language_info": {
   "codemirror_mode": {
    "name": "ipython",
    "version": 3
   },
   "file_extension": ".py",
   "mimetype": "text/x-python",
   "name": "python",
   "nbconvert_exporter": "python",
   "pygments_lexer": "ipython3",
   "version": "3.7.3"
  }
 },
 "nbformat": 4,
 "nbformat_minor": 2
}
