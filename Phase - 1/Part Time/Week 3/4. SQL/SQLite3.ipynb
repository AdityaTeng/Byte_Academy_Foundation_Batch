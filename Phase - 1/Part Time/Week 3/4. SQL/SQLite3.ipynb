{
 "cells": [
  {
   "cell_type": "markdown",
   "metadata": {},
   "source": [
    "# SQLite\n",
    "\n",
    "SQLite is a C library that provides a lightweight disk-based database that doesn’t require a separate server process and\n",
    "allows accessing the database using a nonstandard variant of the SQL query language.\n",
    "    \n",
    "    Some applications can use SQLite for internal data storage.\n",
    "\n",
    "    It’s also possible to prototype an application using SQLite and\n",
    "    then port the code to a larger database such as PostgreSQL or Oracle."
   ]
  },
  {
   "cell_type": "markdown",
   "metadata": {},
   "source": [
    "### Create Connection\n",
    "    To use SQLite3 in Python, first of all, you will have to import the sqlite3 module and\n",
    "    then create a connection object which will connect us to the database and will let us execute the SQL statements.\n",
    "    A connection object is created using the connect() function:"
   ]
  },
  {
   "cell_type": "code",
   "execution_count": 1,
   "metadata": {},
   "outputs": [],
   "source": [
    "import sqlite3\n",
    " \n",
    "con = sqlite3.connect('mydatabase.db')"
   ]
  },
  {
   "cell_type": "markdown",
   "metadata": {},
   "source": [
    "### SQLite3 Cursor\n",
    "    To execute SQLite statements in Python, you need a cursor object. You can create it using the cursor() method.\n",
    "    The SQLite3 cursor is a method of the connection object.\n",
    "    To execute the SQLite3 statements, a connection is established at first and then an object of the cursor is created using the connection object as follows:"
   ]
  },
  {
   "cell_type": "code",
   "execution_count": null,
   "metadata": {},
   "outputs": [],
   "source": [
    "cursorObj = con.cursor()"
   ]
  },
  {
   "cell_type": "markdown",
   "metadata": {},
   "source": [
    "### Create Database\n",
    "    When you create a connection with SQLite, a database file is automatically created if it doesn’t already exist.\n",
    "    This database file is created on disk.\n",
    "\n",
    "    Consider the code below in which we have created a database with a try and except blocks to handle any exceptions:"
   ]
  },
  {
   "cell_type": "code",
   "execution_count": 3,
   "metadata": {},
   "outputs": [
    {
     "data": {
      "text/plain": [
       "<sqlite3.Connection at 0x21d34c5c030>"
      ]
     },
     "execution_count": 3,
     "metadata": {},
     "output_type": "execute_result"
    }
   ],
   "source": [
    "import sqlite3 \n",
    "from sqlite3 import Error\n",
    " \n",
    "def sql_connection():\n",
    "    try:\n",
    "        con = sqlite3.connect('mydatabase.db')\n",
    "        return con\n",
    " \n",
    "    except Error:\n",
    "        print(Error)\n",
    "    \n",
    "sql_connection()"
   ]
  },
  {
   "cell_type": "markdown",
   "metadata": {},
   "source": [
    "### Create Table\n",
    "    To create a table in SQLite3, you can use the Create Table query in the execute() method. Consider the following steps:\n",
    "   - The connection object is created\n",
    "   - Cursor object is created using the connection object\n",
    "   - Using cursor object, execute method is called with create table query as the parameter\n",
    "\n",
    "    Let’s create employees with the following attributes:\n",
    "    employees (id, name, salary, department, position, hireDate)"
   ]
  },
  {
   "cell_type": "code",
   "execution_count": 4,
   "metadata": {},
   "outputs": [],
   "source": [
    "import sqlite3\n",
    " \n",
    "from sqlite3 import Error\n",
    " \n",
    "def sql_connection():\n",
    "    try:\n",
    "        con = sqlite3.connect('mydatabase.db')\n",
    "        return con\n",
    "    \n",
    "    except Error:\n",
    "        print(Error)\n",
    "        \n",
    "def sql_table(con):\n",
    "    cursorObj = con.cursor()\n",
    "    cursorObj.execute(\"CREATE TABLE employees(id integer PRIMARY KEY, name text, salary real, department text, position text, hireDate text)\")\n",
    "    cursorObj.execute(\"INSERT INTO employees VALUES(1, 'John', 700, 'HR', 'Manager', '2017-01-04')\")\n",
    "    \n",
    "    con.commit()\n",
    "\n",
    "con = sql_connection() \n",
    "sql_table(con)"
   ]
  },
  {
   "cell_type": "markdown",
   "metadata": {},
   "source": [
    "Link: https://likegeeks.com/python-sqlite3-tutorial/#Create-Connection"
   ]
  },
  {
   "cell_type": "code",
   "execution_count": null,
   "metadata": {},
   "outputs": [],
   "source": []
  },
  {
   "cell_type": "code",
   "execution_count": null,
   "metadata": {},
   "outputs": [],
   "source": []
  },
  {
   "cell_type": "code",
   "execution_count": null,
   "metadata": {},
   "outputs": [],
   "source": []
  },
  {
   "cell_type": "code",
   "execution_count": null,
   "metadata": {},
   "outputs": [],
   "source": []
  },
  {
   "cell_type": "code",
   "execution_count": null,
   "metadata": {},
   "outputs": [],
   "source": []
  },
  {
   "cell_type": "code",
   "execution_count": null,
   "metadata": {},
   "outputs": [],
   "source": []
  }
 ],
 "metadata": {
  "hide_input": false,
  "kernelspec": {
   "display_name": "Python 3",
   "language": "python",
   "name": "python3"
  },
  "language_info": {
   "codemirror_mode": {
    "name": "ipython",
    "version": 3
   },
   "file_extension": ".py",
   "mimetype": "text/x-python",
   "name": "python",
   "nbconvert_exporter": "python",
   "pygments_lexer": "ipython3",
   "version": "3.7.3"
  }
 },
 "nbformat": 4,
 "nbformat_minor": 2
}
