{
 "cells": [
  {
   "cell_type": "markdown",
   "metadata": {},
   "source": [
    "# SQLite\n",
    "\n",
    "SQLite is a C library that provides a lightweight disk-based database that doesn’t require a separate server process and\n",
    "allows accessing the database using a nonstandard variant of the SQL query language.\n",
    "    \n",
    "    Some applications can use SQLite for internal data storage.\n",
    "\n",
    "    It’s also possible to prototype an application using SQLite and\n",
    "    then port the code to a larger database such as PostgreSQL or Oracle."
   ]
  },
  {
   "cell_type": "markdown",
   "metadata": {},
   "source": [
    "### Create Connection\n",
    "    To use SQLite3 in Python, first of all, you will have to import the sqlite3 module and\n",
    "    then create a connection object which will connect us to the database and will let us execute the SQL statements.\n",
    "    A connection object is created using the connect() function:"
   ]
  },
  {
   "cell_type": "code",
   "execution_count": 1,
   "metadata": {},
   "outputs": [],
   "source": [
    "import sqlite3\n",
    " \n",
    "con = sqlite3.connect('mydatabase.db')"
   ]
  },
  {
   "cell_type": "markdown",
   "metadata": {},
   "source": [
    "### SQLite3 Cursor\n",
    "    To execute SQLite statements in Python, you need a cursor object. You can create it using the cursor() method.\n",
    "    The SQLite3 cursor is a method of the connection object.\n",
    "    To execute the SQLite3 statements, a connection is established at first and then an object of the cursor is created using the connection object as follows:"
   ]
  },
  {
   "cell_type": "code",
   "execution_count": null,
   "metadata": {},
   "outputs": [],
   "source": [
    "cursorObj = con.cursor()"
   ]
  },
  {
   "cell_type": "markdown",
   "metadata": {},
   "source": [
    "### Create Database\n",
    "    When you create a connection with SQLite, a database file is automatically created if it doesn’t already exist.\n",
    "    This database file is created on disk.\n",
    "\n",
    "    Consider the code below in which we have created a database with a try and except blocks to handle any exceptions:"
   ]
  },
  {
   "cell_type": "code",
   "execution_count": 4,
   "metadata": {},
   "outputs": [
    {
     "name": "stdout",
     "output_type": "stream",
     "text": [
      "Connection is established: Database is created in memory\n",
      "connection closed\n"
     ]
    }
   ],
   "source": [
    "import sqlite3 \n",
    "from sqlite3 import Error\n",
    " \n",
    "def sql_connection():\n",
    "    try:\n",
    "        con = sqlite3.connect('mydatabase.db')\n",
    "        return con\n",
    " \n",
    "    except Error:\n",
    " \n",
    "        print(Error)\n",
    "    \n",
    "sql_connection()"
   ]
  },
  {
   "cell_type": "markdown",
   "metadata": {},
   "source": [
    "### Create Table\n",
    "    To create a table in SQLite3, you can use the Create Table query in the execute() method. Consider the following steps:\n",
    "   - The connection object is created\n",
    "   - Cursor object is created using the connection object\n",
    "   - Using cursor object, execute method is called with create table query as the parameter\n",
    "\n",
    "    Let’s create employees with the following attributes:\n",
    "    employees (id, name, salary, department, position, hireDate)"
   ]
  },
  {
   "cell_type": "code",
   "execution_count": 5,
   "metadata": {},
   "outputs": [],
   "source": [
    "import sqlite3\n",
    " \n",
    "from sqlite3 import Error\n",
    " \n",
    "def sql_connection():\n",
    "    try:\n",
    "        con = sqlite3.connect('mydatabase.db')\n",
    "        return con\n",
    "    \n",
    "    except Error:\n",
    "        print(Error)\n",
    "        \n",
    "def sql_table(con):\n",
    "    cursorObj = con.cursor()\n",
    "    cursorObj.execute(\"CREATE TABLE employees(id integer PRIMARY KEY, name text, salary real, department text, position text, hireDate text)\")\n",
    "    cursorObj.execute(\"INSERT INTO employees VALUES(1, 'John', 700, 'HR', 'Manager', '2017-01-04')\")\n",
    "    \n",
    "    con.commit()\n",
    "\n",
    "con = sql_connection() \n",
    "sql_table(con)"
   ]
  },
  {
   "cell_type": "markdown",
   "metadata": {},
   "source": [
    "### Insert in Table"
   ]
  },
  {
   "cell_type": "code",
   "execution_count": 6,
   "metadata": {},
   "outputs": [
    {
     "ename": "NameError",
     "evalue": "name 'cursorObj' is not defined",
     "output_type": "error",
     "traceback": [
      "\u001b[1;31m---------------------------------------------------------------------------\u001b[0m",
      "\u001b[1;31mNameError\u001b[0m                                 Traceback (most recent call last)",
      "\u001b[1;32m<ipython-input-6-47491f5ea615>\u001b[0m in \u001b[0;36m<module>\u001b[1;34m\u001b[0m\n\u001b[1;32m----> 1\u001b[1;33m \u001b[0mcursorObj\u001b[0m\u001b[1;33m.\u001b[0m\u001b[0mexecute\u001b[0m\u001b[1;33m(\u001b[0m\u001b[1;34m\"INSERT INTO employees VALUES(1, 'John', 700, 'HR', 'Manager', '2017-01-04')\"\u001b[0m\u001b[1;33m)\u001b[0m\u001b[1;33m\u001b[0m\u001b[1;33m\u001b[0m\u001b[0m\n\u001b[0m\u001b[0;32m      2\u001b[0m \u001b[1;33m\u001b[0m\u001b[0m\n\u001b[0;32m      3\u001b[0m \u001b[0mcon\u001b[0m\u001b[1;33m.\u001b[0m\u001b[0mcommit\u001b[0m\u001b[1;33m(\u001b[0m\u001b[1;33m)\u001b[0m\u001b[1;33m\u001b[0m\u001b[1;33m\u001b[0m\u001b[0m\n",
      "\u001b[1;31mNameError\u001b[0m: name 'cursorObj' is not defined"
     ]
    }
   ],
   "source": [
    "\n",
    " \n",
    "con.commit()"
   ]
  },
  {
   "cell_type": "code",
   "execution_count": null,
   "metadata": {},
   "outputs": [],
   "source": []
  },
  {
   "cell_type": "code",
   "execution_count": null,
   "metadata": {},
   "outputs": [],
   "source": []
  },
  {
   "cell_type": "code",
   "execution_count": null,
   "metadata": {},
   "outputs": [],
   "source": []
  },
  {
   "cell_type": "code",
   "execution_count": null,
   "metadata": {},
   "outputs": [],
   "source": []
  },
  {
   "cell_type": "code",
   "execution_count": null,
   "metadata": {},
   "outputs": [],
   "source": []
  },
  {
   "cell_type": "code",
   "execution_count": null,
   "metadata": {},
   "outputs": [],
   "source": []
  },
  {
   "cell_type": "code",
   "execution_count": null,
   "metadata": {},
   "outputs": [],
   "source": []
  },
  {
   "cell_type": "markdown",
   "metadata": {},
   "source": [
    "## CREATE"
   ]
  },
  {
   "cell_type": "markdown",
   "metadata": {},
   "source": [
    "To use SQLite3 in Python, first of all, you will have to import the sqlite3 module and\n",
    "then create a connection object which will connect us to the database and will let us execute the SQL statements."
   ]
  },
  {
   "cell_type": "code",
   "execution_count": null,
   "metadata": {},
   "outputs": [],
   "source": [
    "import sqlite3\n",
    "\n",
    "# Lets check if a db was created. Next step, create a table. \n",
    "conn = sqlite3.connect('test_again.db')\n",
    "print (\"Created database successfully\")\n",
    "\n",
    "# CREATE table with given schema\n",
    "\n",
    "conn.execute('''CREATE TABLE COMPANY\n",
    "         (ID INTEGER PRIMARY KEY AUTOINCREMENT NOT NULL,\n",
    "         NAME           TEXT    NOT NULL,\n",
    "         AGE            INT     NOT NULL,\n",
    "         ADDRESS        VARCHAR,\n",
    "         SALARY         REAL);''')\n",
    "\n",
    "print (\"Table COMPANY created successfully\")\n",
    "\n",
    "# NOT NULL are the constraints showing that these fields cannot be \n",
    "# NULL while creating records in this table.\n",
    "\n",
    "# Lets create another table so we can test out joins\n",
    "\n",
    "conn.execute('''CREATE TABLE DEPARTMENT\n",
    "   (ID INTEGER PRIMARY KEY AUTOINCREMENT NOT NULL,\n",
    "   DEPT           CHAR(50) NOT NULL,\n",
    "   EMP_ID         INT      NOT NULL);''')\n",
    "print(\"Table DEPARTMENT created successfully\")\n",
    "\n",
    "# Lets see if these tables are present \n",
    "# YES\n",
    "\n",
    "\n",
    "conn.close()\n"
   ]
  },
  {
   "cell_type": "markdown",
   "metadata": {},
   "source": [
    "## INSERT"
   ]
  },
  {
   "cell_type": "code",
   "execution_count": null,
   "metadata": {},
   "outputs": [],
   "source": [
    "import sqlite3\n",
    "\n",
    "conn = sqlite3.connect('test_again.db')\n",
    "print (\"Opened database successfully\")\n",
    "\n",
    "# insert command _ table name _ columns to insert into _ \n",
    "conn.execute(\"INSERT INTO COMPANY (NAME,AGE,ADDRESS,SALARY) \\\n",
    "      VALUES ('Paul', 32, 'California', 20000.00 )\");\n",
    "\n",
    "conn.execute(\"INSERT INTO COMPANY (NAME,AGE,ADDRESS,SALARY) \\\n",
    "      VALUES ('Allen', 25, 'Texas', 15000.00 )\");\n",
    "\n",
    "conn.execute(\"INSERT INTO COMPANY (NAME,AGE,ADDRESS,SALARY) \\\n",
    "      VALUES ('Teddy', 23, 'Norway', 20000.00 )\");\n",
    "\n",
    "conn.execute(\"INSERT INTO COMPANY (NAME,AGE,ADDRESS,SALARY) \\\n",
    "      VALUES ('Mark', 25, 'Rich-Mond ', 65000.00 )\");\n",
    "\n",
    "conn.execute(\"INSERT INTO DEPARTMENT (DEPT,EMP_ID)\\\n",
    "      VALUES('Finance',9976)\");\n",
    "\n",
    "conn.execute(\"INSERT INTO DEPARTMENT (DEPT,EMP_ID)\\\n",
    "      VALUES('HR',1100)\");\n",
    "\n",
    "conn.execute(\"INSERT INTO DEPARTMENT (DEPT,EMP_ID)\\\n",
    "      VALUES('Business Development',7652)\");\n",
    "\n",
    "conn.execute(\"INSERT INTO DEPARTMENT (DEPT,EMP_ID)\\\n",
    "      VALUES('Business Development',7120)\");\n",
    "\n",
    "conn.commit()\n",
    "print (\"Records created successfully\")\n",
    "conn.close()"
   ]
  },
  {
   "cell_type": "code",
   "execution_count": 2,
   "metadata": {},
   "outputs": [
    {
     "name": "stdout",
     "output_type": "stream",
     "text": [
      "hellohello\n"
     ]
    }
   ],
   "source": [
    "print('hello\\\n",
    "hello')"
   ]
  },
  {
   "cell_type": "code",
   "execution_count": null,
   "metadata": {},
   "outputs": [],
   "source": [
    "## SELECT"
   ]
  },
  {
   "cell_type": "code",
   "execution_count": null,
   "metadata": {},
   "outputs": [],
   "source": [
    "import sqlite3\n",
    "\n",
    "conn = sqlite3.connect('test_again.db')\n",
    "print (\"Opened database successfully\")\n",
    "\n",
    "conn.execute(\"UPDATE COMPANY set SALARY = 25000.00 where AGE >= 25\")\n",
    "conn.commit()\n",
    "print (\"Total number of rows updated :\", conn.total_changes)\n",
    "\n",
    "\n",
    "\n",
    "#cursor = conn.execute(\"SELECT id, name, address, salary from COMPANY WHERE SALARY >= 10000 AND AGE >=25\")\n",
    "#cursor = conn.execute(\"SELECT id, name, address, salary from COMPANY WHERE SALARY >= 10000 OR AGE >=25\")\n",
    "\n",
    "cursor = conn.execute(\"SELECT id, name, address, salary from COMPANY WHERE SALARY >= 10000\")\n",
    "for row in cursor:\n",
    "    print (\"ID = \", row[0])\n",
    "    print (\"NAME = \", row[1])\n",
    "    print (\"ADDRESS = \", row[2])\n",
    "    print (\"SALARY = \", row[3], \"\\n\")\n",
    "\n",
    "print (\"Operation done successfully\")\n",
    "\n",
    "conn.close()"
   ]
  },
  {
   "cell_type": "code",
   "execution_count": null,
   "metadata": {},
   "outputs": [],
   "source": []
  },
  {
   "cell_type": "code",
   "execution_count": null,
   "metadata": {},
   "outputs": [],
   "source": []
  }
 ],
 "metadata": {
  "hide_input": false,
  "kernelspec": {
   "display_name": "Python 3",
   "language": "python",
   "name": "python3"
  },
  "language_info": {
   "codemirror_mode": {
    "name": "ipython",
    "version": 3
   },
   "file_extension": ".py",
   "mimetype": "text/x-python",
   "name": "python",
   "nbconvert_exporter": "python",
   "pygments_lexer": "ipython3",
   "version": "3.7.3"
  }
 },
 "nbformat": 4,
 "nbformat_minor": 2
}
