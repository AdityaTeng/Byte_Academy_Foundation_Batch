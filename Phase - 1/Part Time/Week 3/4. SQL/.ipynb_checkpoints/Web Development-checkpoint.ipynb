{
 "cells": [
  {
   "cell_type": "markdown",
   "metadata": {},
   "source": [
    "# Web Development"
   ]
  },
  {
   "cell_type": "markdown",
   "metadata": {},
   "source": [
    "## Fullstack Roadmap\n",
    "__Step 1: Learn the basics__\n",
    "   \n",
    "   _Every Web Developer must have a basic understanding of:_\n",
    "   - HTML - HTML, HTTP/HXR\n",
    "   - CSS - CSS, CSS Responsive and\n",
    "   - JavaScript - JavaScript, ECMAScript5\n",
    "   \n",
    "__Step 2: Dig Deeper__\n",
    " \n",
    " _When you feel comfortable with HTML and CSS, it is time to dig deeper._\n",
    " - HTML - HTML DOM, Google Maps, Google Fonts and Google Charts\n",
    " - CSS - CSS Icons\n",
    " - JavaScript - XML, JSON and AJAX\n",
    " \n",
    "__Step 3: Choose Frameworks__\n",
    " \n",
    " _Now it is time to look at some Frameworks._\n",
    " - CSS - Bootstrap, W3.CSS\n",
    " - JavaScript - JQuery, React.js, Angular.js, Vue.js, W3.JS\n",
    " - XML - XSLT, XPath, XQuery\n",
    " \n",
    "__Step 4: Back End Roadmap__\n",
    "    \n",
    "_Fullstack:\n",
    "   - Python, SQL, PHP, ASP\n",
    "   - Python Frameworks - Flask and Django.\n",
    "   \n",
    "_Fullstack JS:\n",
    "   - SQL, Node.js, MySQL, Mongo.db\n"
   ]
  },
  {
   "cell_type": "markdown",
   "metadata": {},
   "source": [
    "## Links to read\n",
    "\n",
    "__Difference between Front-End, Back-End and Fullstack:__\n",
    "\n",
    "Link: https://conceptainc.com/blog/difference-front-end-back-end-development/\n",
    "\n",
    "__Mozzilla Development Network: Learn Web Development__\n",
    "\n",
    "Link: https://developer.mozilla.org/en-US/docs/Learn"
   ]
  },
  {
   "cell_type": "code",
   "execution_count": null,
   "metadata": {},
   "outputs": [],
   "source": []
  }
 ],
 "metadata": {
  "hide_input": false,
  "kernelspec": {
   "display_name": "Python 3",
   "language": "python",
   "name": "python3"
  },
  "language_info": {
   "codemirror_mode": {
    "name": "ipython",
    "version": 3
   },
   "file_extension": ".py",
   "mimetype": "text/x-python",
   "name": "python",
   "nbconvert_exporter": "python",
   "pygments_lexer": "ipython3",
   "version": "3.7.3"
  }
 },
 "nbformat": 4,
 "nbformat_minor": 2
}
