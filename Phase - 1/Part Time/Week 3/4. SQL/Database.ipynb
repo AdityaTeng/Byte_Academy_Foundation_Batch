{
 "cells": [
  {
   "cell_type": "markdown",
   "metadata": {},
   "source": [
    "## What is a Database?\n",
    "    Database is a systematic collection of data.\n",
    "    Databases support storage and  manipulation of data.\n",
    "    Databases make data management easy.\n",
    "\n",
    "#### Some examples:\n",
    "    \n",
    "- An online telephone directory would definitely use database to store data pertaining to people, phone numbers, other contact details, etc.\n",
    "- Your electricity service provider is obviously using a database to manage billing , client related issues, to handle fault data, etc.\n",
    "- Let's also consider the facebook. It needs to store, manipulate and present data related to members, their friends, member activities, messages, advertisements and lot more.\n",
    "- We can provide countless number of examples for usage of databases ."
   ]
  },
  {
   "cell_type": "markdown",
   "metadata": {},
   "source": [
    "## What is a Database Management System (DBMS)?\n",
    "\n",
    "    Database Management System (DBMS) is a collection of programs which enables its users to:\n",
    "   - access database,\n",
    "   - manipulate data,\n",
    "   - report / represent data .\n",
    "\n",
    "It also helps to control access to the  database.\n",
    "\n",
    "   _Database Management Systems are not a new concept and as such had been first implemented in 1960s.\n",
    "    Charles Bachmen's Integrated Data Store (IDS) is said to be the first DBMS in history.\n",
    "    With time database technologies evolved a lot while usage and expected functionalities of databases have been increased immensely._"
   ]
  },
  {
   "cell_type": "markdown",
   "metadata": {},
   "source": [
    "## Types of DBMS\n",
    "\n",
    "There are 4 major types of DBMS. Let's look into them in detail.\n",
    "\n",
    "#### Hierarchical -\n",
    "    this type of DBMS employs the \"parent-child\" relationship of storing data. This type of DBMS is rarely used nowadays.\n",
    "    Its structure is like a tree with nodes representing records and branches representing fields. The windows registry used\n",
    "    in Windows XP is an example of a hierarchical database. Configuration settings are stored as tree structures with nodes.\n",
    "\n",
    "#### Network DBMS -\n",
    "    this type of DBMS supports many-to many relations. This usually results in complex database structures.\n",
    "    RDM Server is an example of a database management system that implements the network model.\n",
    "   Link: https://en.wikipedia.org/wiki/RDM_Server\n",
    "\n",
    "#### Relational DBMS -\n",
    "    this type of DBMS defines database relationships in form of tables, also known as relations. Unlike network DBMS,\n",
    "    RDBMS does not support many to many relationships. Relational DBMS usually have pre-defined data types that they\n",
    "    can support. This is the most popular DBMS type in the market. Examples of relational database management systems\n",
    "    include MySQL, Oracle, and Microsoft SQL Server database.\n",
    "\n",
    "#### Object Oriented Relation DBMS - \n",
    "    this type supports storage of new data types. The data to be stored is in form of objects. The objects to be stored in\n",
    "    the database have attributes (i.e. gender, age) and methods that define what to do with the data. PostgreSQL is an \n",
    "    example of an object oriented relational DBMS.\n"
   ]
  },
  {
   "cell_type": "markdown",
   "metadata": {},
   "source": [
    "## What is SQL?\n",
    "    Structured Query language (SQL) pronounced as \"S-Q-L\" or sometimes as \"See-Quel\"is actually the \n",
    "    standard language for dealing with Relational Databases.\n",
    "\n",
    "    SQL programming can be effectively used to insert, search, update, delete database records.\n",
    "\n",
    "_That doesn't mean SQL cannot do things beyond that._\n",
    "_In fact it can do lot of things including, but not limited to, optimizing and maintenance of databases._ \n",
    "_Relational databases like MySQL Database, Oracle, Ms SQL server, Sybase, etc uses SQL !_"
   ]
  },
  {
   "cell_type": "markdown",
   "metadata": {},
   "source": [
    "## SQL | DDL, DQL, DML, DCL and TCL Commands\n",
    "\n",
    "Link: https://www.geeksforgeeks.org/sql-ddl-dql-dml-dcl-tcl-commands/\n",
    "\n",
    "Practice: https://sqlzoo.net/"
   ]
  },
  {
   "cell_type": "code",
   "execution_count": null,
   "metadata": {},
   "outputs": [],
   "source": []
  }
 ],
 "metadata": {
  "hide_input": false,
  "kernelspec": {
   "display_name": "Python 3",
   "language": "python",
   "name": "python3"
  },
  "language_info": {
   "codemirror_mode": {
    "name": "ipython",
    "version": 3
   },
   "file_extension": ".py",
   "mimetype": "text/x-python",
   "name": "python",
   "nbconvert_exporter": "python",
   "pygments_lexer": "ipython3",
   "version": "3.7.3"
  }
 },
 "nbformat": 4,
 "nbformat_minor": 2
}
