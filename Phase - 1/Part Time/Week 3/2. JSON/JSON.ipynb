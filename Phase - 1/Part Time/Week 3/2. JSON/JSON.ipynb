{
 "cells": [
  {
   "cell_type": "markdown",
   "metadata": {},
   "source": [
    "## JSON:\n",
    "    JSON stands for JavaScript Object Notation\n",
    "        ---- inspired by JS but is now independent of any one language\n",
    "            every language these days has libraries for parsing and generating JSON data\n",
    "        ---- a lightweight format for storing and transporting data\n",
    "        ---- often used when data is sent from a server to a web page\n",
    "\n",
    "#### Exchanging Data\n",
    "   - When exchanging data between a browser and a server, the data can only be text.\n",
    "   - JSON is text, and we can convert any JavaScript object into JSON, and send JSON to the server.\n",
    "   - We can also convert any JSON received from the server into JavaScript objects.\n",
    "   - This way we can work with the data as JavaScript objects, with no complicated parsing and translations.\n",
    "    \n",
    "#### JSON Syntax Rules:\n",
    "    Data is in name/value pairs\n",
    "    Data is separated by commas\n",
    "    Curly braces hold objects\n",
    "    Square brackets hold arrays\n",
    "    \n",
    "#### JSON example:\n",
    "    {\n",
    "    \"employees\":[\n",
    "        {\"firstName\":\"John\", \"lastName\":\"Doe\"},\n",
    "        {\"firstName\":\"Anna\", \"lastName\":\"Smith\"},\n",
    "        {\"firstName\":\"Peter\", \"lastName\":\"Jones\"}\n",
    "        ]\n",
    "    }\n",
    "- In the example above, the object \"employees\" is an array. It contains three objects.\n",
    "- Each object is a record of a person (with a first name and a last name)."
   ]
  },
  {
   "cell_type": "markdown",
   "metadata": {},
   "source": [
    "## JSON in Python\n",
    "    Python has a built-in package called json, which can be used to work with JSON data."
   ]
  },
  {
   "cell_type": "code",
   "execution_count": 2,
   "metadata": {},
   "outputs": [],
   "source": [
    "import json"
   ]
  },
  {
   "cell_type": "markdown",
   "metadata": {},
   "source": [
    "### json.loads() - Convert from JSON to Python\n",
    "    If you have a JSON string, you can parse it by using the json.loads() method."
   ]
  },
  {
   "cell_type": "code",
   "execution_count": 14,
   "metadata": {},
   "outputs": [
    {
     "name": "stdout",
     "output_type": "stream",
     "text": [
      "{'people': [{'name': 'John Smith', 'phone': '615-555-7164', 'emails': ['johnsmith@gmail.com', 'johnsmith@workplace.com'], 'has_license': False}, {'name': 'Jane Doe', 'phone': '560-555-5153', 'emails': None, 'has_license': True}]}\n",
      "\n",
      " <class 'dict'>\n",
      "John Smith 615-555-7164\n",
      "Jane Doe 560-555-5153\n"
     ]
    }
   ],
   "source": [
    "import json\n",
    "\n",
    "# multi-line string which is a valid JSON which almost looks like a python dictionary\n",
    "# this JSON has a key called people and value of this key is an array of two more objects\n",
    "# right now this is just a string which happens to be a valid JSON.\n",
    "people_string = '''\n",
    "{\n",
    "    \"people\": [\n",
    "        {\n",
    "            \"name\" : \"John Smith\",\n",
    "            \"phone\" : \"615-555-7164\",\n",
    "            \"emails\" : [\"johnsmith@gmail.com\", \"johnsmith@workplace.com\"],\n",
    "            \"has_license\" : false\n",
    "        },\n",
    "        {\n",
    "            \"name\" : \"Jane Doe\",\n",
    "            \"phone\" : \"560-555-5153\",\n",
    "            \"emails\" : null,\n",
    "            \"has_license\" : true\n",
    "        }\n",
    "    ]\n",
    "}\n",
    "'''\n",
    "\n",
    "#how to load this string into python object\n",
    "data = json.loads(people_string) \n",
    "print(data)\n",
    "'looks like a python dictionary'\n",
    "print('\\n', type(data))\n",
    "\n",
    "for i in range(2):\n",
    "    print(data['people'][i]['name'], data['people'][i]['phone'] )\n",
    "#     print(data['people'][i]['name'])"
   ]
  },
  {
   "cell_type": "markdown",
   "metadata": {},
   "source": [
    "#### JSON>>>>Python conversion table\n",
    "    When we load JSON into a python object it uses the following conversion table:\n",
    "    \n",
    "    object        >>>>      dict\n",
    "    array         >>>>      list\n",
    "    string        >>>>      str\n",
    "    number(int)   >>>>      int\n",
    "    number(real)  >>>>      float\n",
    "    true          >>>>      True\n",
    "    false         >>>>      False\n",
    "    null          >>>>      None\n",
    "    \n",
    "   - Link: https://docs.python.org/3/library/json.html"
   ]
  },
  {
   "cell_type": "code",
   "execution_count": 15,
   "metadata": {},
   "outputs": [
    {
     "name": "stdout",
     "output_type": "stream",
     "text": [
      "<class 'list'> \n",
      "\n",
      "{'name': 'John Smith', 'phone': '615-555-7164', 'emails': ['johnsmith@gmail.com', 'johnsmith@workplace.com'], 'has_license': False}\n",
      "John Smith \n",
      "\n",
      "{'name': 'Jane Doe', 'phone': '560-555-5153', 'emails': None, 'has_license': True}\n",
      "Jane Doe \n",
      "\n"
     ]
    }
   ],
   "source": [
    "print(type(data['people']),'\\n')\n",
    "\n",
    "'''Now that we have converted the JSON data into a python object,\n",
    "it is going to be a lot easier to work with this data.\n",
    "Now we can loop through this dictionary and access each person individually'''\n",
    "\n",
    "for person in data['people']:\n",
    "    print(person)\n",
    "    print(person['name'],'\\n')"
   ]
  },
  {
   "cell_type": "markdown",
   "metadata": {},
   "source": [
    "### json.dumps() - Convert Python object to JSON\n",
    "    If you have a python object, you can convert it to JSON by using the json.dumps() method."
   ]
  },
  {
   "cell_type": "code",
   "execution_count": 18,
   "metadata": {},
   "outputs": [
    {
     "name": "stdout",
     "output_type": "stream",
     "text": [
      "{\n",
      "  \"people\": [\n",
      "    {\n",
      "      \"emails\": [\n",
      "        \"johnsmith@gmail.com\",\n",
      "        \"johnsmith@workplace.com\"\n",
      "      ],\n",
      "      \"has_license\": false,\n",
      "      \"name\": \"John Smith\"\n",
      "    },\n",
      "    {\n",
      "      \"emails\": null,\n",
      "      \"has_license\": true,\n",
      "      \"name\": \"Jane Doe\"\n",
      "    }\n",
      "  ]\n",
      "}\n"
     ]
    },
    {
     "data": {
      "text/plain": [
       "str"
      ]
     },
     "execution_count": 18,
     "metadata": {},
     "output_type": "execute_result"
    }
   ],
   "source": [
    "# for person in data['people']:\n",
    "#     del person['phone']\n",
    "\n",
    "people_string_2 = json.dumps(data, indent=2, sort_keys=True)     # , indent=2, sort_keys=True\n",
    "print(people_string_2)\n",
    "type(people_string_2)\n",
    "\n",
    "# for person in data['people']:\n",
    "#     print(person)"
   ]
  },
  {
   "cell_type": "markdown",
   "metadata": {},
   "source": [
    "### How to load JSON files to python object - load()\n",
    "    file used: states_and_districts.json - Indian States and Districts data"
   ]
  },
  {
   "cell_type": "code",
   "execution_count": 35,
   "metadata": {},
   "outputs": [
    {
     "name": "stdout",
     "output_type": "stream",
     "text": [
      "Assam ['Baksa', 'Barpeta', 'Biswanath', 'Bongaigaon', 'Cachar']\n"
     ]
    }
   ],
   "source": [
    "import json\n",
    "\n",
    "with open('states_and_districts.json') as f:\n",
    "    data = json.load(f)\n",
    "\n",
    "# print(type(data))    \n",
    "\n",
    "\n",
    "print(data['states'][2]['state'], data['states'][2]['districts'][:5])\n",
    "\n",
    "\n",
    "\n",
    "# for state in data['states']:\n",
    "#     print(state['state'])\n",
    "#     print(state['state'], '\\nfirst 5 district: ', state['districts'][0:5],'\\n')"
   ]
  },
  {
   "cell_type": "markdown",
   "metadata": {},
   "source": [
    "### How to convert data to JSON file - dump()"
   ]
  },
  {
   "cell_type": "code",
   "execution_count": 36,
   "metadata": {},
   "outputs": [],
   "source": [
    "with open('states_and_districts.json') as f:\n",
    "    data = json.load(f)\n",
    "\n",
    "'we are deleting the districts from the data'\n",
    "for state in  data['states']:\n",
    "    del state['districts']\n",
    "    \n",
    "'saving it into another file'\n",
    "with open('states.json', 'w') as f:\n",
    "    json.dump(data, f, indent=2)"
   ]
  },
  {
   "cell_type": "code",
   "execution_count": null,
   "metadata": {},
   "outputs": [],
   "source": []
  },
  {
   "cell_type": "code",
   "execution_count": null,
   "metadata": {},
   "outputs": [],
   "source": []
  }
 ],
 "metadata": {
  "hide_input": false,
  "kernelspec": {
   "display_name": "Python 3",
   "language": "python",
   "name": "python3"
  },
  "language_info": {
   "codemirror_mode": {
    "name": "ipython",
    "version": 3
   },
   "file_extension": ".py",
   "mimetype": "text/x-python",
   "name": "python",
   "nbconvert_exporter": "python",
   "pygments_lexer": "ipython3",
   "version": "3.7.3"
  }
 },
 "nbformat": 4,
 "nbformat_minor": 2
}
