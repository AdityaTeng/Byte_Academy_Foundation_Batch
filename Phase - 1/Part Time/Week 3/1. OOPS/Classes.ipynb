{
 "cells": [
  {
   "cell_type": "markdown",
   "metadata": {},
   "source": [
    "Why Classes?\n",
    "\n",
    "    They allow us to logically group our data and functions in a way that is easy to re-use and easy to build up on if need be.\n",
    "    \n",
    "    The data and functions that are associated with a specific class are called attributes and methods.\n",
    "    \n",
    "    Method - a function that is associated with a class."
   ]
  },
  {
   "cell_type": "markdown",
   "metadata": {},
   "source": [
    "# Classes"
   ]
  },
  {
   "cell_type": "markdown",
   "metadata": {},
   "source": [
    "Example: \n",
    "\n",
    "    Say we have an application for a company and we want to represent our employees in a python code.\n",
    "    Each employee will have specific attributes and methods. Each employee will have a name, email, pay etc.\n",
    "    \n",
    "    We want to build a class that acts as a blueprint to create each employee so that we dont have to do it manually each time from scratch."
   ]
  },
  {
   "cell_type": "code",
   "execution_count": 19,
   "metadata": {},
   "outputs": [
    {
     "name": "stdout",
     "output_type": "stream",
     "text": [
      "<__main__.Employee object at 0x000002195B629CC0> <__main__.Employee object at 0x000002195B629F60>\n",
      "\n"
     ]
    }
   ],
   "source": [
    "# creating a class employee:\n",
    "\n",
    "class Employee:\n",
    "    pass          # leaving empty for now, if we dont say pass we will get an error\n",
    "\n",
    "'''difference between class and instance of a class:\n",
    " --- a class is basically a blueprint for creating instances and\n",
    "     each unique employee that we create using the class employee\n",
    "     will be an instance of that class'''\n",
    "\n",
    "'so when we say: '\n",
    "\n",
    "emp_1 = Employee()\n",
    "emp_2 = Employee()\n",
    "\n",
    "'emp_1 and emp_2 will be unique instances of the class Employee'\n",
    "\n",
    "print(emp_1, emp_2)\n",
    "\n",
    "'so we see that they are both unique objects with different memory locations'\n",
    "print()"
   ]
  },
  {
   "cell_type": "markdown",
   "metadata": {},
   "source": [
    "# Instance Variables\n",
    "\n",
    "    instance variables and contain data that is unique to each instance."
   ]
  },
  {
   "cell_type": "code",
   "execution_count": 20,
   "metadata": {},
   "outputs": [
    {
     "name": "stdout",
     "output_type": "stream",
     "text": [
      "Paramveer.Gupta@company.com and  Ahad.Khan@company.com\n"
     ]
    }
   ],
   "source": [
    "# manually creating instance attributes:\n",
    "\n",
    "emp_1.first = 'Paramveer'\n",
    "emp_1.last = 'Gupta'\n",
    "emp_1.email = 'Paramveer.Gupta@company.com'\n",
    "emp_1.pay = 50000\n",
    "\n",
    "emp_2.first = 'Ahad'\n",
    "emp_2.last = 'Khan'\n",
    "emp_2.email = 'Ahad.Khan@company.com'\n",
    "emp_2.pay = 60000\n",
    "\n",
    "'now each instance has attribute that is unique to them'\n",
    "\n",
    "print(emp_1.email, 'and ', emp_2.email)\n",
    "\n",
    "\n",
    "# the problem over here is that as the number of employees increases,\n",
    "# it will be a lot of code and also prone to mistakes\n",
    "# Also, we dont get much benefit of using classes if we do it this way\n",
    "\n",
    "# to create instance attributes automatically when we create the instances\n",
    "# we make use of the __init__ method"
   ]
  },
  {
   "cell_type": "markdown",
   "metadata": {},
   "source": [
    "## init method"
   ]
  },
  {
   "cell_type": "code",
   "execution_count": 23,
   "metadata": {},
   "outputs": [
    {
     "name": "stdout",
     "output_type": "stream",
     "text": [
      "Paramveer Ahad\n"
     ]
    }
   ],
   "source": [
    "'''to make these instance attributes/variables set up automatically when\n",
    "we create the instances we are going to use special __init__ method\n",
    "\n",
    "you can think of this as initialize or a constructor'''\n",
    "\n",
    "class Employee:\n",
    "    \n",
    "    def __init__(self, first, last, pay):\n",
    "        '''self -- when we create methods in a class they recieve the instance \n",
    "        as the first argument automatically and by convention we should call the instance as self\n",
    "        next -- we have specified the other arguments we want for the instance'''\n",
    "        self.first = first\n",
    "        self.last = last\n",
    "        self.email = first + '.' + last + '@company.com'\n",
    "        self.pay = pay\n",
    "\n",
    "emp_1 = Employee('Paramveer', 'Gupta', 50000)\n",
    "emp_2 = Employee('Ahad', 'Khan', 60000)\n",
    "\n",
    "'''when we create these instances, the __init__ method will run automatically\n",
    "-- emp_1 will be passed in as self and then rest of the attributes will be set.'''\n",
    "\n",
    "print(emp_1.first, emp_2.first)"
   ]
  },
  {
   "cell_type": "code",
   "execution_count": 25,
   "metadata": {},
   "outputs": [
    {
     "name": "stdout",
     "output_type": "stream",
     "text": [
      "Paramveer Gupta\n",
      "Ahad Khan\n",
      "Paramveer Gupta\n",
      "Ahad Khan\n"
     ]
    }
   ],
   "source": [
    "'''now lets say that we wanted the ability to perform some action\n",
    "-- to do that we can add some methods to our class\n",
    "-- lets say that i want the ability to display the full name of an employee'''\n",
    "\n",
    "class Employee:\n",
    "    \n",
    "    def __init__(self, first, last, pay):\n",
    "        self.first = first\n",
    "        self.last = last\n",
    "        self.email = first + '.' + last + '@company.com'\n",
    "        self.pay = pay\n",
    "        \n",
    "    def fullname(self):\n",
    "        return '{} {}'.format(self.first, self.last)\n",
    "    'common mistake - not passing the self argument in the method'\n",
    "    \n",
    "emp_1 = Employee('Paramveer', 'Gupta', 50000)\n",
    "emp_2 = Employee('Ahad', 'Khan', 60000)\n",
    "\n",
    "'calling the function fullname()'\n",
    "\n",
    "print(emp_1.fullname())           # notice that we need a () here coz this is a method \n",
    "print(emp_2.fullname())\n",
    "\n",
    "'another way of calling the function fullname()'\n",
    "'''we can also run these methods using the class name itself\n",
    "but in this case we have to pass in the instance as an argument\n",
    "into the menthod'''\n",
    "\n",
    "print(Employee.fullname(emp_1))\n",
    "print(Employee.fullname(emp_2))"
   ]
  },
  {
   "cell_type": "code",
   "execution_count": 26,
   "metadata": {},
   "outputs": [
    {
     "name": "stdout",
     "output_type": "stream",
     "text": [
      "Hello World !\n"
     ]
    }
   ],
   "source": [
    "a = 'Hello'\n",
    "b = 'World'\n",
    "\n",
    "print('{} {} !'.format(a,b))\n",
    "# print('{} '.format(a,b))"
   ]
  },
  {
   "cell_type": "markdown",
   "metadata": {},
   "source": [
    "# Class Variables\n",
    "\n",
    "    class variables are variables that are shared among all instances of a class.\n",
    "    \n",
    "    So, while instance variables can be unique like name, email and pay \n",
    "    class variables should be the same for all the instances\n",
    "    \n",
    "    For this example lets say our company gives annual raises. \n",
    "    The raise percent can change year to year but whatever that raise percent is\n",
    "    its going to be same for all employees.\n",
    "    \n",
    "    Now, that is a good example for a class variable"
   ]
  },
  {
   "cell_type": "code",
   "execution_count": 23,
   "metadata": {},
   "outputs": [
    {
     "name": "stdout",
     "output_type": "stream",
     "text": [
      "50000\n",
      "55000\n"
     ]
    }
   ],
   "source": [
    "class Employee:\n",
    "    \n",
    "    def __init__(self, first, last, pay):\n",
    "        self.first = first\n",
    "        self.last = last\n",
    "        self.email = first + '.' + last + '@company.com'\n",
    "        self.pay = pay\n",
    "        \n",
    "    def fullname(self):\n",
    "        return '{} {}'.format(self.first, self.last)\n",
    "    \n",
    "    def apply_raise(self):\n",
    "        self.pay = int(self.pay * 1.10)\n",
    "    \n",
    "emp_1 = Employee('Paramveer', 'Gupta', 50000)\n",
    "emp_2 = Employee('Ahad', 'Khan', 60000)\n",
    "\n",
    "print(emp_1.pay)\n",
    "emp_1.apply_raise()\n",
    "print(emp_1.pay)\n",
    "\n",
    "# issues with this method\n",
    "'''1. we are not able to access the raise percent\n",
    "   2. we can not easily update the raise percent\n",
    "'''\n"
   ]
  },
  {
   "cell_type": "code",
   "execution_count": 41,
   "metadata": {},
   "outputs": [
    {
     "name": "stdout",
     "output_type": "stream",
     "text": [
      "1.0\n",
      "1.0\n",
      "1.0 \n",
      "\n",
      "50000\n",
      "50000 \n",
      "\n",
      "\n"
     ]
    }
   ],
   "source": [
    "class Employee:\n",
    "    \n",
    "    raise_percent = 1.10\n",
    "    \n",
    "    def __init__(self, first, last, pay):\n",
    "        self.first = first\n",
    "        self.last = last\n",
    "        self.email = first + '.' + last + '@company.com'\n",
    "        self.pay = pay\n",
    "        \n",
    "    def fullname(self):\n",
    "        return '{} {}'.format(self.first, self.last)\n",
    "    \n",
    "    def apply_raise(self):\n",
    "        self.pay = int(self.pay * Employee.raise_percent)            # Employee.raise_percent\n",
    "        '''accessing the class variable:\n",
    "        we need to either access them through the class itself\n",
    "        or an instance of the class\n",
    "        So, we can either say Employee.raise_percent or self.raise_percent'''\n",
    "    \n",
    "emp_1 = Employee('Paramveer', 'Gupta', 50000)\n",
    "emp_2 = Employee('Ahad', 'Khan', 60000)\n",
    "\n",
    "'''Now we can access the class variable using either the employee class or instances'''\n",
    "\n",
    "# print(Employee.raise_percent)\n",
    "# print(emp_1.raise_percent)\n",
    "# print(emp_2.raise_percent)\n",
    "\n",
    "'''Now we can see that we can access the class variable from both the class itself and \n",
    "as well as from both instances.\n",
    "\n",
    "---- print(emp_1.raise_percent)\n",
    "\n",
    "When we try to access an attribute from an instance, it will first check if\n",
    "that attribute belongs to that instance and if it doesnt it will see if the class\n",
    "or any class that it inherits from contains that attribute.  '''\n",
    "\n",
    "\n",
    "\n",
    "# print('\\nEmployee 1 dictionary: ', emp_1.__dict__,'\\n')      # printing out the emp_1 dictionary\n",
    "'we see that there is no raise_percent in the dictionary'\n",
    "\n",
    "'but if we check Employee Class dictionary we see the raise_percent attribute/variable in the dictionary'\n",
    "# print('Employee Class: \\n', Employee.__dict__,'\\n')\n",
    "\n",
    "\n",
    "# important concept\n",
    "'now we can change the raise for each employee from outside the class'\n",
    "# Employee.raise_percent = 1.05\n",
    "# print(Employee.raise_percent)\n",
    "# print(emp_1.raise_percent)\n",
    "# print(emp_2.raise_percent,'\\n')\n",
    "\n",
    "'''also we can change the raise for a particular employee from outside the class\n",
    "but this wont be possible if we had used Employee.raise_percent to access the class variable\n",
    "Lets see the difference'''\n",
    "\n",
    "# Employee.raise_percent = 1.00\n",
    "# print(Employee.raise_percent)\n",
    "# print(emp_1.raise_percent)\n",
    "# print(emp_2.raise_percent,'\\n')\n",
    "\n",
    "# print(emp_1.pay)\n",
    "# emp_1.apply_raise()\n",
    "# print(emp_1.pay,'\\n')\n",
    "\n",
    "'''so if we want to be able to change the class variable for each instance\n",
    "we should access it using self'''\n",
    "print()"
   ]
  },
  {
   "cell_type": "code",
   "execution_count": 42,
   "metadata": {},
   "outputs": [
    {
     "name": "stdout",
     "output_type": "stream",
     "text": [
      "2\n"
     ]
    }
   ],
   "source": [
    "'now lets see a case in which we should access the class variable using the class'\n",
    "\n",
    "class Employee:\n",
    "    \n",
    "    emp_count = 0\n",
    "    raise_percent = 1.10\n",
    "    \n",
    "    def __init__(self, first, last, pay):\n",
    "        self.first = first\n",
    "        self.last = last\n",
    "        self.email = first + '.' + last + '@company.com'\n",
    "        self.pay = pay\n",
    "        Employee.emp_count += 1             #self.emp_count             x = x + 1   ,    x += 1 \n",
    "        \n",
    "    def fullname(self):\n",
    "        return '{} {}'.format(self.first, self.last)\n",
    "    \n",
    "    def apply_raise(self):\n",
    "        self.pay = int(self.pay * self.raise_percent)        \n",
    "\n",
    "emp_1 = Employee('Paramveer', 'Gupta', 50000)\n",
    "emp_2 = Employee('Ahad', 'Khan', 60000)\n",
    "\n",
    "print(Employee.emp_count)"
   ]
  },
  {
   "cell_type": "markdown",
   "metadata": {},
   "source": [
    "## Instance Methods, Class methods and Static Methods\n",
    "\n",
    "    Instance methods - automatically pass the instance as the first argument and by convention we call it self\n",
    "    \n",
    "    Class methods - automatically pass the class as the first argument and by convention we call it cls\n",
    "    \n",
    "    Static methods - dont pass anything automatically, behave just like regular functions"
   ]
  },
  {
   "cell_type": "code",
   "execution_count": 49,
   "metadata": {},
   "outputs": [
    {
     "name": "stdout",
     "output_type": "stream",
     "text": [
      "1.1\n",
      "1.1\n",
      "1.1 \n",
      "\n",
      "1.2\n",
      "1.2\n",
      "1.2 \n",
      "\n",
      "False\n",
      "\n"
     ]
    }
   ],
   "source": [
    "class Employee:\n",
    "    \n",
    "    emp_count = 0\n",
    "    raise_percent = 1.1\n",
    "    \n",
    "    def __init__(self, first, last, pay):\n",
    "        self.first = first\n",
    "        self.last = last\n",
    "        self.email = first + '.' + last + '@company.com'\n",
    "        self.pay = pay\n",
    "        Employee.emp_count += 1             #self.emp_count\n",
    "        \n",
    "    def fullname(self):\n",
    "        return '{} {}'.format(self.first, self.last)\n",
    "    \n",
    "    def apply_raise(self):\n",
    "        self.pay = int(self.pay * self.raise_percent)\n",
    "    \n",
    "    \n",
    "    '''to turn a regular method into a class method is as \n",
    "    easy as adding a decorator to the top called classmethod'''\n",
    "    @classmethod \n",
    "    def set_raise_percent(cls, percent):             # change cls to self, the variable name changes \n",
    "            cls.raise_percent = percent              # but we will still be passing the class as an argument ---- 2\n",
    "    \n",
    "    \n",
    "    '''we want to create a simple function which takes in \n",
    "    a date as an argument and returns whether or not that was a workday'''    \n",
    "    @staticmethod\n",
    "    def is_workday(day):\n",
    "        if day.weekday() == 5 or day.weekday() == 6:\n",
    "            return False\n",
    "        else:\n",
    "            return True\n",
    "\n",
    "emp_1 = Employee('Paramveer', 'Gupta', 50000)\n",
    "emp_2 = Employee('Ahad', 'Khan', 60000)\n",
    "\n",
    "\n",
    "print(Employee.raise_percent)\n",
    "print(emp_1.raise_percent)\n",
    "print(emp_2.raise_percent,'\\n')\n",
    "\n",
    "Employee.set_raise_percent(1.2)         # emp_1.set_raise_percent(1.2) ---- 1\n",
    "\n",
    "print(Employee.raise_percent)\n",
    "print(emp_1.raise_percent)\n",
    "print(emp_2.raise_percent,'\\n')\n",
    "\n",
    "#static method\n",
    "\n",
    "import datetime\n",
    "\n",
    "my_date = datetime.date(2019, 9, 14)     # creating new date as my_date\n",
    "print(Employee.is_workday(my_date))      # passing my_date into the is_workday method\n",
    "\n",
    "\n",
    "'''Note: If we dont access an instance or a class anywhere\n",
    "within the function, we should be making use of static methods'''\n",
    "print()"
   ]
  },
  {
   "cell_type": "code",
   "execution_count": 46,
   "metadata": {},
   "outputs": [
    {
     "data": {
      "text/plain": [
       "5"
      ]
     },
     "execution_count": 46,
     "metadata": {},
     "output_type": "execute_result"
    }
   ],
   "source": [
    "import datetime\n",
    "\n",
    "my_date = datetime.date(2019, 9, 14)     # creating new date as my_date\n",
    "my_date.weekday()"
   ]
  },
  {
   "cell_type": "markdown",
   "metadata": {},
   "source": [
    "# Python Class Inheritance\n",
    "\n",
    "    Inheritance allows us to inherit attributes and methods from a parent class. \n",
    "    \n",
    "    This is useful because:\n",
    "        \n",
    "        We can create sub-classes and get all the functionality of the parent class\n",
    "        \n",
    "        We can overwrite or add completely new functionality in the sub-class \n",
    "        without affecting the parent class in any way  "
   ]
  },
  {
   "cell_type": "code",
   "execution_count": null,
   "metadata": {},
   "outputs": [],
   "source": [
    "'''Lets say that we want to get a bit specific and create different types of employees. \n",
    "\n",
    "For example, we want to create Developers and Managers. \n",
    "\n",
    "These will be good candidates for sub classes because both Developers and Managers will have \n",
    "names, email addesses and pay. These are the attributes/variables that our Employee class \n",
    "already has.'''"
   ]
  },
  {
   "cell_type": "code",
   "execution_count": 48,
   "metadata": {},
   "outputs": [
    {
     "name": "stdout",
     "output_type": "stream",
     "text": [
      "1.1\n",
      "1.1\n",
      "Help on class Developer in module __main__:\n",
      "\n",
      "class Developer(Employee)\n",
      " |  Developer(first, last, pay)\n",
      " |  \n",
      " |  In the () we specify what class we want to inherit from\n",
      " |  \n",
      " |  Method resolution order:\n",
      " |      Developer\n",
      " |      Employee\n",
      " |      builtins.object\n",
      " |  \n",
      " |  Methods inherited from Employee:\n",
      " |  \n",
      " |  __init__(self, first, last, pay)\n",
      " |      Initialize self.  See help(type(self)) for accurate signature.\n",
      " |  \n",
      " |  apply_raise(self)\n",
      " |  \n",
      " |  fullname(self)\n",
      " |  \n",
      " |  ----------------------------------------------------------------------\n",
      " |  Data descriptors inherited from Employee:\n",
      " |  \n",
      " |  __dict__\n",
      " |      dictionary for instance variables (if defined)\n",
      " |  \n",
      " |  __weakref__\n",
      " |      list of weak references to the object (if defined)\n",
      " |  \n",
      " |  ----------------------------------------------------------------------\n",
      " |  Data and other attributes inherited from Employee:\n",
      " |  \n",
      " |  emp_count = 2\n",
      " |  \n",
      " |  raise_percent = 1.1\n",
      "\n",
      "None\n",
      "\n"
     ]
    }
   ],
   "source": [
    "class Employee:\n",
    "    \n",
    "    emp_count = 0\n",
    "    raise_percent = 1.10\n",
    "    \n",
    "    def __init__(self, first, last, pay):\n",
    "        self.first = first\n",
    "        self.last = last\n",
    "        self.email = first + '.' + last + '@company.com'\n",
    "        self.pay = pay\n",
    "        Employee.emp_count += 1             #self.emp_count\n",
    "        \n",
    "    def fullname(self):\n",
    "        return '{} {}'.format(self.first, self.last)\n",
    "    \n",
    "    def apply_raise(self):\n",
    "        self.pay = int(self.pay * self.raise_percent)\n",
    "\n",
    "class Developer(Employee):\n",
    "    '''In the () we specify what class we want to inherit from'''\n",
    "    pass\n",
    "\n",
    "emp_1 = Developer('Paramveer', 'Gupta', 50000)\n",
    "emp_2 = Developer('Ahad', 'Khan', 60000)\n",
    "\n",
    "print(emp_1.raise_percent)\n",
    "print(emp_2.raise_percent)\n",
    "\n",
    "'''What happened here is that when we instantiated our developers,\n",
    "it first looked in our Developer class for the __init__ method. \n",
    "But it did not find it in the Developer class because it is currently  empty.\n",
    "So what python is going to do next is it will walk up this chain of inheritance\n",
    "untill it finds what it is looking for. This chain is called Method Resolution Order.'''\n",
    "\n",
    "'to get a better understanding lets checkout this help function'\n",
    "\n",
    "# print(help(Developer))\n",
    "\n",
    "'''So we see that the Method Resolution Order is one of the first things that is printed out.\n",
    "And it mentions the places where python will search for attributes and methods.\n",
    "i.e. Developer\n",
    "     Employee\n",
    "     builtins.object\n",
    "    \n",
    "So, when we created two new developers, it first looked in our Developer Class for the __init__ method,\n",
    "and when it didnt find it there it looked up to the Employee Class and it found it there.\n",
    "\n",
    "And, if it did not find it in the Employee Class, the last place that it would look is the Object Class.\n",
    "Every Class in python inherits from this base object class.\n",
    "\n",
    "And, if we look further it shows the methods and attributes inherited from Employee''' \n",
    "print()"
   ]
  },
  {
   "cell_type": "code",
   "execution_count": 51,
   "metadata": {},
   "outputs": [
    {
     "name": "stdout",
     "output_type": "stream",
     "text": [
      "email:  Paramveer.Gupta@company.com \n",
      "language:  Python\n"
     ]
    }
   ],
   "source": [
    "class Employee:\n",
    "    \n",
    "    emp_count = 0\n",
    "    raise_percent = 1.10\n",
    "    \n",
    "    def __init__(self, first, last, pay):\n",
    "        self.first = first\n",
    "        self.last = last\n",
    "        self.email = first + '.' + last + '@company.com'\n",
    "        self.pay = pay\n",
    "        Employee.emp_count += 1             #self.emp_count\n",
    "        \n",
    "    def fullname(self):\n",
    "        return '{} {}'.format(self.first, self.last)\n",
    "    \n",
    "    def apply_raise(self):\n",
    "        self.pay = int(self.pay * self.raise_percent)\n",
    "\n",
    "class Developer(Employee):\n",
    "    raise_percent = 1.20\n",
    "    '''Sometimes we want to initiate our sub class with more information than our parent class can handle:\n",
    "    Example: lets say when we create our developers we want pass in their main programming language as an attribute, but\n",
    "    currently our employee class only accepts first name, last name and pay. \n",
    "    \n",
    "    For this we need to give the developer class its own __init__ method'''\n",
    "    def __init__(self, first, last, pay, prog_lang):\n",
    "        '''What we might be tempted to do here is copy the code from our Employee class __init__ method and \n",
    "        paste it over here for the self, first, last and pay attributes. But instead what we can do is: '''\n",
    "        super().__init__(first, last, pay)\n",
    "        '''super().__init__ is going to pass first, last and pay to our Employee class __init__ method and \n",
    "        let that class handle those arguments. Another way of applying the same logic is:'''\n",
    "#         Employee.__init__(self, first, last, pay)\n",
    "        '''These are two ways of calling parent class __init__ method. But recommended way is super()'''\n",
    "         \n",
    "        '''Now we can handle the prog_lang argument just like we would handle in any other class.'''\n",
    "        self.prog_lang = prog_lang\n",
    "        \n",
    "emp_1 = Developer('Paramveer', 'Gupta', 50000, 'Python')              # emp_1 = Developer('Paramveer', 'Gupta', 50000, 'Python')\n",
    "emp_2 = Employee('Ahad', 'Khan', 60000)\n",
    "\n",
    "# print(emp_1.pay, emp_2.pay)\n",
    "# emp_1.apply_raise()\n",
    "# emp_2.apply_raise()\n",
    "# print(emp_1.pay, emp_2.pay)\n",
    "\n",
    "print('email: ', emp_1.email, '\\nlanguage: ', emp_1.prog_lang)"
   ]
  },
  {
   "cell_type": "markdown",
   "metadata": {},
   "source": [
    "## Adding Class Manager\n",
    "\n",
    "    Just so we get a really good understanding of this,\n",
    "    lets go through the process of creating another sub class called manager"
   ]
  },
  {
   "cell_type": "code",
   "execution_count": 66,
   "metadata": {
    "scrolled": true
   },
   "outputs": [
    {
     "name": "stdout",
     "output_type": "stream",
     "text": [
      "----> Paramveer Gupta\n",
      "----> Ahad Khan\n",
      "Paramveer Gupta is already supervised by Sundar Pichai\n",
      "Ahad Khan is already supervised by Sundar Pichai\n",
      "\n",
      "\n",
      "Aditya Teng is now supervised by Sundar Pichai\n",
      "----> Paramveer Gupta\n",
      "----> Ahad Khan\n",
      "----> Aditya Teng\n",
      "\n",
      "\n",
      "Aditya Teng is no longer supervised by Sundar Pichai\n",
      "----> Paramveer Gupta\n",
      "----> Ahad Khan\n"
     ]
    }
   ],
   "source": [
    "class Employee:\n",
    "    \n",
    "    emp_count = 0\n",
    "    raise_percent = 1.10\n",
    "    \n",
    "    def __init__(self, first, last, pay):\n",
    "        self.first = first\n",
    "        self.last = last\n",
    "        self.email = first + '.' + last + '@company.com'\n",
    "        self.pay = pay\n",
    "        Employee.emp_count += 1             #self.emp_count\n",
    "        \n",
    "    def fullname(self):\n",
    "        return '{} {}'.format(self.first, self.last)\n",
    "    \n",
    "    def apply_raise(self):\n",
    "        self.pay = int(self.pay * self.raise_percent)\n",
    "\n",
    "class Developer(Employee):\n",
    "    raise_percent = 1.20\n",
    "    def __init__(self, first, last, pay, prog_lang):\n",
    "        super().__init__(first, last, pay)\n",
    "        self.prog_lang = prog_lang\n",
    "        \n",
    "class Manager(Employee):\n",
    "    '''Additional attribute: employee_list\n",
    "    we are going to give the option of passing in a list of employees\n",
    "    that the manager supervises.'''\n",
    "    def __init__(self, first, last, pay, employee_list=None):        #setting the default value\n",
    "        super().__init__(first, last, pay)\n",
    "        if employee_list == None:\n",
    "            self.employee_list = []\n",
    "        else:\n",
    "            self.employee_list = employee_list\n",
    "        \n",
    "    def add_emp(self, emp):\n",
    "        if emp not in self.employee_list:\n",
    "            self.employee_list.append(emp)\n",
    "            print(emp.fullname(), 'is now supervised by', self.fullname())\n",
    "        else:\n",
    "            print(emp.fullname(), 'is already supervised by', self.fullname())\n",
    "            \n",
    "    def remove_emp(self, emp):\n",
    "        if emp in self.employee_list:\n",
    "            self.employee_list.remove(emp)\n",
    "            print(emp.fullname(), 'is no longer supervised by', self.fullname())\n",
    "        else:\n",
    "            print(self.fullname(), 'does not supervise', emp.fullname())\n",
    "            \n",
    "    def print_emps(self):\n",
    "        for emp in self.employee_list:\n",
    "            print('---->', emp.fullname())\n",
    "        \n",
    "emp_1 = Developer('Paramveer', 'Gupta', 50000, 'Python')\n",
    "emp_2 = Developer('Ahad', 'Khan', 60000, 'Java')\n",
    "emp_3 = Employee('Aditya', 'Teng', 50000)\n",
    "\n",
    "# initializing first manager\n",
    "mgr_1 = Manager('Sundar', 'Pichai', 100000, [emp_1, emp_2])\n",
    "\n",
    "# Printing Employees\n",
    "mgr_1.print_emps()\n",
    "\n",
    "# Adding Employees \n",
    "mgr_1.add_emp(emp_1)\n",
    "mgr_1.add_emp(emp_2)\n",
    "print('\\n')\n",
    "mgr_1.add_emp(emp_3)\n",
    "mgr_1.print_emps()\n",
    "print('\\n')\n",
    "\n",
    "# Removing employees\n",
    "mgr_1.remove_emp(emp_3)\n",
    "mgr_1.print_emps()"
   ]
  },
  {
   "cell_type": "code",
   "execution_count": 62,
   "metadata": {},
   "outputs": [
    {
     "data": {
      "text/plain": [
       "110"
      ]
     },
     "execution_count": 62,
     "metadata": {},
     "output_type": "execute_result"
    }
   ],
   "source": [
    "def addition(a=5, b=10):\n",
    "    return a+b\n",
    "\n",
    "addition(100)"
   ]
  },
  {
   "cell_type": "markdown",
   "metadata": {},
   "source": [
    "## Polymorphism\n",
    "    \n",
    "    The word polymorphism means having many forms. In programming, polymorphism means same function name but different\n",
    "    signatures being uses for different types."
   ]
  },
  {
   "cell_type": "code",
   "execution_count": 67,
   "metadata": {},
   "outputs": [
    {
     "name": "stdout",
     "output_type": "stream",
     "text": [
      "5\n",
      "3\n"
     ]
    }
   ],
   "source": [
    "# example of built in polymorphic functions\n",
    "\n",
    "print(len(\"Hello\")) \n",
    "  \n",
    "# len() being used for a list\n",
    "\n",
    "print(len([10, 20, 30])) "
   ]
  },
  {
   "cell_type": "code",
   "execution_count": 1,
   "metadata": {},
   "outputs": [
    {
     "name": "stdout",
     "output_type": "stream",
     "text": [
      "5\n",
      "9\n"
     ]
    }
   ],
   "source": [
    "def add(x, y, z = 0):  \n",
    "    return x + y + z \n",
    "  \n",
    "# Driver code  \n",
    "print(add(2, 3)) \n",
    "print(add(2, 3, 4)) "
   ]
  },
  {
   "cell_type": "markdown",
   "metadata": {},
   "source": [
    "## Polymorphism with class methods:"
   ]
  },
  {
   "cell_type": "code",
   "execution_count": 4,
   "metadata": {},
   "outputs": [
    {
     "name": "stdout",
     "output_type": "stream",
     "text": [
      "New Delhi is the capital of India.\n",
      "Hindi the primary language of India.\n",
      "India is a developing country.\n",
      "\n",
      "\n",
      "Washington, D.C. is the capital of USA.\n",
      "English is the primary language of USA.\n",
      "USA is a developed country.\n",
      "\n",
      "\n"
     ]
    }
   ],
   "source": [
    "class India(): \n",
    "    def capital(self): \n",
    "        print(\"New Delhi is the capital of India.\") \n",
    "  \n",
    "    def language(self): \n",
    "        print(\"Hindi the primary language of India.\") \n",
    "  \n",
    "    def type(self): \n",
    "        print(\"India is a developing country.\")\n",
    "\n",
    "class USA(): \n",
    "    def capital(self): \n",
    "        print(\"Washington, D.C. is the capital of USA.\") \n",
    "  \n",
    "    def language(self): \n",
    "        print(\"English is the primary language of USA.\") \n",
    "  \n",
    "    def type(self): \n",
    "        print(\"USA is a developed country.\")\n",
    "        \n",
    "obj_ind = India() \n",
    "obj_usa = USA()\n",
    "\n",
    "for country in (obj_ind, obj_usa): \n",
    "    country.capital() \n",
    "    country.language() \n",
    "    country.type()\n",
    "    print('\\n')"
   ]
  },
  {
   "cell_type": "markdown",
   "metadata": {},
   "source": [
    "## Polymorphism with Inheritance:\n",
    "\n",
    "    In Python, Polymorphism lets us define methods in the child class that\n",
    "    have the same name as the methods in the parent class. \n",
    "    \n",
    "    In inheritance, the child class inherits the methods from the parent class.\n",
    "    However, it is possible to modify a method in a child class that it has inherited from the parent class.\n",
    "    \n",
    "    This is particularly useful in cases where the method inherited from the parent class doesn’t quite fit the child class.\n",
    "    In such cases, we re-implement the method in the child class.\n",
    "    \n",
    "    This process of re-implementing a method in the child class is known as Method Overriding."
   ]
  },
  {
   "cell_type": "code",
   "execution_count": 71,
   "metadata": {},
   "outputs": [
    {
     "name": "stdout",
     "output_type": "stream",
     "text": [
      "There are many types of birds.\n",
      "Most of the birds can fly but some cannot.\n",
      "\n",
      "\n",
      "There are many types of birds.\n",
      "Sparrows can fly.\n",
      "\n",
      "\n",
      "There are many types of birds.\n",
      "Ostriches cannot fly.\n"
     ]
    }
   ],
   "source": [
    "class Bird:\n",
    "    def intro(self): \n",
    "        print(\"There are many types of birds.\") \n",
    "        \n",
    "    def flight(self): \n",
    "        print(\"Most of the birds can fly but some cannot.\")\n",
    "        \n",
    "class sparrow(Bird):\n",
    "    def flight(self): \n",
    "        print(\"Sparrows can fly.\")\n",
    "        \n",
    "class ostrich(Bird):\n",
    "    def flight(self): \n",
    "        print(\"Ostriches cannot fly.\")\n",
    "        \n",
    "bird_1 = Bird() \n",
    "spr_1 = sparrow() \n",
    "ost_1 = ostrich() \n",
    "  \n",
    "bird_1.intro() \n",
    "bird_1.flight()\n",
    "print('\\n')\n",
    "  \n",
    "spr_1.intro() \n",
    "spr_1.flight()\n",
    "print('\\n')\n",
    "  \n",
    "ost_1.intro() \n",
    "ost_1.flight() "
   ]
  },
  {
   "cell_type": "markdown",
   "metadata": {},
   "source": [
    "## Encapsulation\n",
    "\n",
    "    Encapsulation is defined as the wrapping up of data under a single unit.\n",
    "    \n",
    "    It is the mechanism that binds together code and the data it manipulates. \n",
    "    Other way to think about encapsulation is, \n",
    "        \n",
    "        >> it is a protective shield that prevents the data from being accessed by the code outside this shield.\n",
    "        \n",
    "        >> As in encapsulation, the data in a class is hidden from other classes, so it is also known as data-hiding.\n",
    "    \n",
    "    This can prevent the data from being modified by accident and is known as encapsulation.\n",
    "    Let’s start with an example."
   ]
  },
  {
   "cell_type": "code",
   "execution_count": 73,
   "metadata": {},
   "outputs": [],
   "source": [
    "class Car:\n",
    "\n",
    "    def drive(self):\n",
    "        self.__updateSoftware()\n",
    "        print('driving')\n",
    "        \n",
    "    def __updateSoftware(self):\n",
    "        print('updating software')\n",
    "\n",
    "redcar = Car()"
   ]
  },
  {
   "cell_type": "code",
   "execution_count": 75,
   "metadata": {},
   "outputs": [
    {
     "name": "stdout",
     "output_type": "stream",
     "text": [
      "updating software\n",
      "driving\n"
     ]
    },
    {
     "ename": "AttributeError",
     "evalue": "'Car' object has no attribute '__updateSoftware'",
     "output_type": "error",
     "traceback": [
      "\u001b[1;31m---------------------------------------------------------------------------\u001b[0m",
      "\u001b[1;31mAttributeError\u001b[0m                            Traceback (most recent call last)",
      "\u001b[1;32m<ipython-input-75-4a402ce77cf7>\u001b[0m in \u001b[0;36m<module>\u001b[1;34m\u001b[0m\n\u001b[0;32m      1\u001b[0m \u001b[0mredcar\u001b[0m\u001b[1;33m.\u001b[0m\u001b[0mdrive\u001b[0m\u001b[1;33m(\u001b[0m\u001b[1;33m)\u001b[0m\u001b[1;33m\u001b[0m\u001b[1;33m\u001b[0m\u001b[0m\n\u001b[1;32m----> 2\u001b[1;33m \u001b[0mredcar\u001b[0m\u001b[1;33m.\u001b[0m\u001b[0m__updateSoftware\u001b[0m\u001b[1;33m(\u001b[0m\u001b[1;33m)\u001b[0m    \u001b[1;31m# will give an error\u001b[0m\u001b[1;33m\u001b[0m\u001b[1;33m\u001b[0m\u001b[0m\n\u001b[0m\u001b[0;32m      3\u001b[0m \u001b[1;33m\u001b[0m\u001b[0m\n\u001b[0;32m      4\u001b[0m \u001b[1;31m#This function cannot be called on the object directly, only from within the class.\u001b[0m\u001b[1;33m\u001b[0m\u001b[1;33m\u001b[0m\u001b[1;33m\u001b[0m\u001b[0m\n",
      "\u001b[1;31mAttributeError\u001b[0m: 'Car' object has no attribute '__updateSoftware'"
     ]
    }
   ],
   "source": [
    "redcar.drive()\n",
    "redcar.__updateSoftware()    # will give an error\n",
    "\n",
    "#This function cannot be called on the object directly, only from within the class."
   ]
  },
  {
   "cell_type": "code",
   "execution_count": 76,
   "metadata": {},
   "outputs": [
    {
     "name": "stdout",
     "output_type": "stream",
     "text": [
      "driving. maxspeed 200\n",
      "driving. maxspeed 200\n"
     ]
    }
   ],
   "source": [
    "class Car:\n",
    "\n",
    "    __maxspeed = 0\n",
    "    __name = \"\"\n",
    "    \n",
    "    def __init__(self):\n",
    "        self.__maxspeed = 200\n",
    "        self.__name = \"Supercar\"\n",
    "    \n",
    "    def drive(self):\n",
    "        print('driving. maxspeed ' + str(self.__maxspeed))\n",
    "\n",
    "redcar = Car()\n",
    "redcar.drive()\n",
    "redcar.__maxspeed = 10  # will not change variable because its private\n",
    "redcar.drive()"
   ]
  },
  {
   "cell_type": "code",
   "execution_count": null,
   "metadata": {},
   "outputs": [],
   "source": []
  },
  {
   "cell_type": "code",
   "execution_count": null,
   "metadata": {},
   "outputs": [],
   "source": []
  },
  {
   "cell_type": "code",
   "execution_count": null,
   "metadata": {},
   "outputs": [],
   "source": []
  },
  {
   "cell_type": "code",
   "execution_count": null,
   "metadata": {},
   "outputs": [],
   "source": []
  },
  {
   "cell_type": "markdown",
   "metadata": {},
   "source": [
    "# isinstance() and issubclass()"
   ]
  },
  {
   "cell_type": "code",
   "execution_count": 30,
   "metadata": {},
   "outputs": [
    {
     "name": "stdout",
     "output_type": "stream",
     "text": [
      "True\n",
      "True\n",
      "False\n",
      "\n",
      "\n",
      "True\n",
      "True\n",
      "False\n"
     ]
    }
   ],
   "source": [
    "print(isinstance(mgr_1, Manager))\n",
    "print(isinstance(mgr_1, Employee))\n",
    "print(isinstance(mgr_1, Developer))\n",
    "print('\\n')\n",
    "print(issubclass(Developer, Employee))\n",
    "print(issubclass(Manager, Employee))\n",
    "print(issubclass(Developer, Manager))"
   ]
  },
  {
   "cell_type": "markdown",
   "metadata": {},
   "source": [
    "## Data Hiding"
   ]
  },
  {
   "cell_type": "code",
   "execution_count": 77,
   "metadata": {},
   "outputs": [
    {
     "name": "stdout",
     "output_type": "stream",
     "text": [
      "2\n",
      "7\n"
     ]
    },
    {
     "ename": "AttributeError",
     "evalue": "'MyClass' object has no attribute '__hiddenVariable'",
     "output_type": "error",
     "traceback": [
      "\u001b[1;31m---------------------------------------------------------------------------\u001b[0m",
      "\u001b[1;31mAttributeError\u001b[0m                            Traceback (most recent call last)",
      "\u001b[1;32m<ipython-input-77-defb2e7d8b05>\u001b[0m in \u001b[0;36m<module>\u001b[1;34m\u001b[0m\n\u001b[0;32m     16\u001b[0m \u001b[1;33m\u001b[0m\u001b[0m\n\u001b[0;32m     17\u001b[0m \u001b[1;31m# This line causes error\u001b[0m\u001b[1;33m\u001b[0m\u001b[1;33m\u001b[0m\u001b[1;33m\u001b[0m\u001b[0m\n\u001b[1;32m---> 18\u001b[1;33m \u001b[0mprint\u001b[0m\u001b[1;33m(\u001b[0m\u001b[0mmyObject\u001b[0m\u001b[1;33m.\u001b[0m\u001b[0m__hiddenVariable\u001b[0m\u001b[1;33m)\u001b[0m\u001b[1;33m\u001b[0m\u001b[1;33m\u001b[0m\u001b[0m\n\u001b[0m",
      "\u001b[1;31mAttributeError\u001b[0m: 'MyClass' object has no attribute '__hiddenVariable'"
     ]
    }
   ],
   "source": [
    "class MyClass: \n",
    "  \n",
    "    # Hidden member of MyClass \n",
    "    __hiddenVariable = 0\n",
    "    \n",
    "    # A member method that changes  \n",
    "    # __hiddenVariable  \n",
    "    def add(self, increment): \n",
    "        self.__hiddenVariable += increment \n",
    "        print (self.__hiddenVariable)\n",
    "\n",
    "\n",
    "# Driver code \n",
    "myObject = MyClass()      \n",
    "myObject.add(2) \n",
    "myObject.add(5) \n",
    "  \n",
    "# This line causes error \n",
    "print(myObject.__hiddenVariable)"
   ]
  },
  {
   "cell_type": "code",
   "execution_count": null,
   "metadata": {},
   "outputs": [],
   "source": []
  },
  {
   "cell_type": "code",
   "execution_count": null,
   "metadata": {},
   "outputs": [],
   "source": []
  },
  {
   "cell_type": "code",
   "execution_count": null,
   "metadata": {},
   "outputs": [],
   "source": []
  },
  {
   "cell_type": "code",
   "execution_count": null,
   "metadata": {},
   "outputs": [],
   "source": []
  },
  {
   "cell_type": "code",
   "execution_count": null,
   "metadata": {},
   "outputs": [],
   "source": []
  },
  {
   "cell_type": "code",
   "execution_count": null,
   "metadata": {},
   "outputs": [],
   "source": []
  },
  {
   "cell_type": "code",
   "execution_count": null,
   "metadata": {},
   "outputs": [],
   "source": []
  },
  {
   "cell_type": "code",
   "execution_count": null,
   "metadata": {},
   "outputs": [],
   "source": []
  },
  {
   "cell_type": "code",
   "execution_count": null,
   "metadata": {},
   "outputs": [],
   "source": []
  },
  {
   "cell_type": "code",
   "execution_count": null,
   "metadata": {},
   "outputs": [],
   "source": []
  },
  {
   "cell_type": "code",
   "execution_count": null,
   "metadata": {},
   "outputs": [],
   "source": []
  },
  {
   "cell_type": "code",
   "execution_count": null,
   "metadata": {},
   "outputs": [],
   "source": []
  },
  {
   "cell_type": "code",
   "execution_count": null,
   "metadata": {},
   "outputs": [],
   "source": []
  },
  {
   "cell_type": "code",
   "execution_count": null,
   "metadata": {},
   "outputs": [],
   "source": []
  },
  {
   "cell_type": "code",
   "execution_count": null,
   "metadata": {},
   "outputs": [],
   "source": []
  },
  {
   "cell_type": "code",
   "execution_count": null,
   "metadata": {},
   "outputs": [],
   "source": []
  },
  {
   "cell_type": "code",
   "execution_count": null,
   "metadata": {},
   "outputs": [],
   "source": []
  },
  {
   "cell_type": "code",
   "execution_count": null,
   "metadata": {},
   "outputs": [],
   "source": []
  },
  {
   "cell_type": "code",
   "execution_count": null,
   "metadata": {},
   "outputs": [],
   "source": []
  },
  {
   "cell_type": "code",
   "execution_count": null,
   "metadata": {},
   "outputs": [],
   "source": []
  },
  {
   "cell_type": "code",
   "execution_count": null,
   "metadata": {},
   "outputs": [],
   "source": []
  },
  {
   "cell_type": "code",
   "execution_count": null,
   "metadata": {},
   "outputs": [],
   "source": []
  },
  {
   "cell_type": "code",
   "execution_count": null,
   "metadata": {},
   "outputs": [],
   "source": []
  },
  {
   "cell_type": "code",
   "execution_count": null,
   "metadata": {},
   "outputs": [],
   "source": []
  },
  {
   "cell_type": "code",
   "execution_count": null,
   "metadata": {},
   "outputs": [],
   "source": []
  },
  {
   "cell_type": "code",
   "execution_count": null,
   "metadata": {},
   "outputs": [],
   "source": []
  },
  {
   "cell_type": "code",
   "execution_count": null,
   "metadata": {},
   "outputs": [],
   "source": []
  },
  {
   "cell_type": "code",
   "execution_count": null,
   "metadata": {},
   "outputs": [],
   "source": []
  },
  {
   "cell_type": "code",
   "execution_count": null,
   "metadata": {},
   "outputs": [],
   "source": []
  },
  {
   "cell_type": "code",
   "execution_count": null,
   "metadata": {},
   "outputs": [],
   "source": []
  },
  {
   "cell_type": "code",
   "execution_count": null,
   "metadata": {},
   "outputs": [],
   "source": []
  },
  {
   "cell_type": "code",
   "execution_count": null,
   "metadata": {},
   "outputs": [],
   "source": []
  },
  {
   "cell_type": "code",
   "execution_count": null,
   "metadata": {},
   "outputs": [],
   "source": []
  },
  {
   "cell_type": "code",
   "execution_count": null,
   "metadata": {},
   "outputs": [],
   "source": []
  },
  {
   "cell_type": "markdown",
   "metadata": {},
   "source": [
    "## Printing Objects\n",
    "\n",
    "    Printing objects gives us information about objects we are working with.\n",
    "    \n",
    "    In C++, we can do this by adding a friend ostream& operator << (ostream&, const Foobar&) method for the class.\n",
    "    \n",
    "    In Java, we use toString() method.\n",
    "    \n",
    "    In python this can be achieved by using __str__ and __reprmethods."
   ]
  },
  {
   "cell_type": "code",
   "execution_count": 24,
   "metadata": {},
   "outputs": [
    {
     "name": "stdout",
     "output_type": "stream",
     "text": [
      "<__main__.Test object at 0x000001AE58DFFAC8>\n"
     ]
    }
   ],
   "source": [
    "class Test: \n",
    "    def __init__(self, total_marks, passing_marks): \n",
    "        self.total_marks = total_marks \n",
    "        self.passing_marks = passing_marks\n",
    "\n",
    "#     def __repr__(self): \n",
    "#         return \"Cannot share the info about this test\"\n",
    "    \n",
    "#     def __str__(self):\n",
    "#         return \"Total marks: \"+str(self.total_marks)+\"\\nPassing marks: \"+str(self.passing_marks) \n",
    "    \n",
    "# Driver Code         \n",
    "test1 = Test(100, 35) \n",
    "print(test1) # This calls __str__()  \n",
    "\n",
    "\n",
    "# also called magic methods or dunder methods\n"
   ]
  },
  {
   "cell_type": "code",
   "execution_count": 11,
   "metadata": {},
   "outputs": [
    {
     "name": "stdout",
     "output_type": "stream",
     "text": [
      "Test a:1234 b:5678\n"
     ]
    }
   ],
   "source": []
  },
  {
   "cell_type": "code",
   "execution_count": null,
   "metadata": {},
   "outputs": [],
   "source": []
  },
  {
   "cell_type": "code",
   "execution_count": null,
   "metadata": {},
   "outputs": [],
   "source": []
  },
  {
   "cell_type": "code",
   "execution_count": null,
   "metadata": {},
   "outputs": [],
   "source": []
  },
  {
   "cell_type": "code",
   "execution_count": null,
   "metadata": {},
   "outputs": [],
   "source": []
  }
 ],
 "metadata": {
  "hide_input": false,
  "kernelspec": {
   "display_name": "Python 3",
   "language": "python",
   "name": "python3"
  },
  "language_info": {
   "codemirror_mode": {
    "name": "ipython",
    "version": 3
   },
   "file_extension": ".py",
   "mimetype": "text/x-python",
   "name": "python",
   "nbconvert_exporter": "python",
   "pygments_lexer": "ipython3",
   "version": "3.7.3"
  }
 },
 "nbformat": 4,
 "nbformat_minor": 2
}
