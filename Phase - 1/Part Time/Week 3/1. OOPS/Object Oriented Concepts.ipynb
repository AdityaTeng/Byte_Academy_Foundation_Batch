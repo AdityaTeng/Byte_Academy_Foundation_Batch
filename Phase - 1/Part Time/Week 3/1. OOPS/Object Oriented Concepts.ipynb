{
 "cells": [
  {
   "cell_type": "markdown",
   "metadata": {},
   "source": [
    "# Classes\n",
    "\n",
    "Just like every other Object Oriented Programming language Python supports classes. Let’s look at some points on Python classes.\n",
    "\n",
    "    Classes are created by keyword class.\n",
    "    Attributes are the variables that belong to class.\n",
    "    Attributes are always public and can be accessed using dot (.) operator. Eg.: Myclass.Myattribute"
   ]
  },
  {
   "cell_type": "code",
   "execution_count": 3,
   "metadata": {},
   "outputs": [
    {
     "name": "stdout",
     "output_type": "stream",
     "text": [
      "Aditya 100\n"
     ]
    }
   ],
   "source": [
    "class MyClass:   \n",
    "        # assign the values to the MyClass attributes \n",
    "        number = 0       \n",
    "        name = \"noname\"\n",
    "        \n",
    "def Main(): \n",
    "        # Creating an object of the MyClass.  \n",
    "        # Here, 'me' is the object \n",
    "        me = MyClass()  \n",
    "  \n",
    "        # Accessing the attributes of MyClass \n",
    "        # using the dot(.) operator    \n",
    "        me.number = 100    \n",
    "        me.name = \"Aditya\"\n",
    "  \n",
    "        # str is an build-in function that  \n",
    "        # creates an string \n",
    "        print(me.name + \" \" + str(me.number))\n",
    "        \n",
    "# telling python that there is main in the program. \n",
    "if __name__=='__main__':   \n",
    "        Main() "
   ]
  },
  {
   "cell_type": "markdown",
   "metadata": {},
   "source": [
    "# Methods\n",
    "\n",
    "Method is a bunch of code that is intended to perform a particular task in your Python’s code.\n",
    "\n",
    "    Function that belongs to a class is called an Method.\n",
    "    \n",
    "    All methods require ‘self’ parameter. If you have coded in other OOP language you can think\n",
    "    of ‘self’ as the ‘this’ keyword which is used for the the current object. It unhides the\n",
    "    current instance variable. ’self’ mostly works like ‘this’.\n",
    "    \n",
    "    ‘def’ keyword is used to create a new method."
   ]
  },
  {
   "cell_type": "code",
   "execution_count": 4,
   "metadata": {},
   "outputs": [
    {
     "name": "stdout",
     "output_type": "stream",
     "text": [
      "X: 5, Y: 6\n"
     ]
    }
   ],
   "source": [
    "# methods \n",
    "  \n",
    "class Vector2D: \n",
    "        x = 0.0\n",
    "        y = 0.0\n",
    "  \n",
    "        # Creating a method named Set \n",
    "        def Set(self, x, y):      \n",
    "                self.x = x \n",
    "                self.y = y\n",
    "                \n",
    "def Main(): \n",
    "        # vec is an object of class Vector2D \n",
    "        vec = Vector2D()    \n",
    "         \n",
    "        # Passing values to the function Set \n",
    "        # by using dot(.) operator. \n",
    "        vec.Set(5, 6)        \n",
    "        print(\"X: \" + str(vec.x) + \", Y: \" + str(vec.y)) \n",
    "\n",
    "if __name__=='__main__': \n",
    "        Main() "
   ]
  },
  {
   "cell_type": "markdown",
   "metadata": {},
   "source": [
    "# Inheritance \n",
    "\n",
    "    Inheritance is defined as a way in which a particular class inherits features from its base class.\n",
    "    \n",
    "    Base class is also known as ‘Superclass’ and \n",
    "    the class which inherits from the Superclass is knows as ‘Subclass’# "
   ]
  },
  {
   "cell_type": "code",
   "execution_count": 6,
   "metadata": {},
   "outputs": [
    {
     "name": "stdout",
     "output_type": "stream",
     "text": [
      "Is jess a cat? True\n",
      "Is jess a pet? True\n",
      "Is the pet a cat? False\n",
      "Is thePet a Pet? True\n",
      "Jess\n"
     ]
    }
   ],
   "source": [
    "# Syntax for inheritance \n",
    "# class derived-classname(superclass-name) \n",
    "\n",
    "# A Python program to demonstrate working of inheritance \n",
    "class Pet: \n",
    "        #__init__ is a constructor in Python \n",
    "        def __init__(self, name, age):      \n",
    "                self.name = name \n",
    "                self.age = age \n",
    "\n",
    "# Class Cat inheriting from the class Pet \n",
    "class Cat(Pet):          \n",
    "        def __init__(self, name, age): \n",
    "                # calling the super-class function __init__  \n",
    "                # using the super() function \n",
    "                super().__init__(name, age)  \n",
    "\n",
    "def Main(): \n",
    "        thePet = Pet(\"Pet\", 1) \n",
    "        jess = Cat(\"Jess\", 3) \n",
    "          \n",
    "        # isinstance() function to check whether a class is  \n",
    "        # inherited from another class \n",
    "        print(\"Is jess a cat? \" +str(isinstance(jess, Cat))) \n",
    "        print(\"Is jess a pet? \" +str(isinstance(jess, Pet))) \n",
    "        print(\"Is the pet a cat? \"+str(isinstance(thePet, Cat))) \n",
    "        print(\"Is thePet a Pet? \" +str(isinstance(thePet, Pet))) \n",
    "        print(jess.name) \n",
    "\n",
    "if __name__=='__main__': \n",
    "        Main() "
   ]
  },
  {
   "cell_type": "markdown",
   "metadata": {},
   "source": [
    "# Iterators \n",
    "Iterators are objects that can be iterated upon.\n",
    "\n",
    "    Python uses the __iter__() method to return an iterator object of the class.\n",
    "    The iterator object then uses the __next__() method to get the next item.\n",
    "    for loops stops when StopIteration Exception is raised."
   ]
  },
  {
   "cell_type": "code",
   "execution_count": 8,
   "metadata": {},
   "outputs": [
    {
     "name": "stdout",
     "output_type": "stream",
     "text": [
      "m\n",
      "a\n",
      "l\n",
      "a\n",
      "y\n",
      "a\n",
      "l\n",
      "a\n",
      "m\n"
     ]
    }
   ],
   "source": [
    "# This program will reverse the string that is passed \n",
    "# to it from the main function \n",
    "class Reverse: \n",
    "    def __init__(self, data): \n",
    "        self.data = data \n",
    "        self.index = len(data)         \n",
    "  \n",
    "    def __iter__(self): \n",
    "        return self\n",
    "      \n",
    "    def __next__(self): \n",
    "        if self.index == 0: \n",
    "            raise StopIteration     \n",
    "        self.index-= 1\n",
    "        return self.data[self.index] \n",
    "\n",
    "def Main(): \n",
    "    rev = Reverse('malayalam') \n",
    "    for char in rev: \n",
    "        print(char) \n",
    "\n",
    "if __name__=='__main__': \n",
    "    Main() "
   ]
  },
  {
   "cell_type": "markdown",
   "metadata": {},
   "source": [
    "# Generators\n",
    "Another way of creating iterators.\n",
    "\n",
    "    Uses a function rather than a separate class\n",
    "    \n",
    "    Generates the background code for the next() and iter() methods\n",
    "    \n",
    "    Uses a special statement called yield which saves the state of\n",
    "    the generator and set a resume point for when next() is called again."
   ]
  },
  {
   "cell_type": "code",
   "execution_count": null,
   "metadata": {},
   "outputs": [],
   "source": [
    "# A Python program to demonstrate working of Generators \n",
    "def Reverse(data): \n",
    "    # this is like counting from 100 to 1 by taking one(-1)  \n",
    "    # step backward. \n",
    "    for index in range(len(data)-1, -1, -1): \n",
    "        yield data[index] \n",
    "\n",
    "def Main(): \n",
    "    rev = Reverse('Harssh') \n",
    "    for char in rev: \n",
    "        print(char) \n",
    "    data ='Harssh'\n",
    "    print(list(data[i] for i in range(len(data)-1, -1, -1))) \n",
    "\n",
    "if __name__==\"__main__\": \n",
    "    Main() "
   ]
  },
  {
   "cell_type": "code",
   "execution_count": null,
   "metadata": {},
   "outputs": [],
   "source": []
  },
  {
   "cell_type": "code",
   "execution_count": 29,
   "metadata": {},
   "outputs": [
    {
     "name": "stdout",
     "output_type": "stream",
     "text": [
      "10\n"
     ]
    }
   ],
   "source": [
    "class Transport:\n",
    "    def __init__(self, regno, licno, month):      \n",
    "        self.regno = regno \n",
    "        self.licno = licno\n",
    "        self.month = month\n",
    "\n",
    "    def Reg_M(self, regno):\n",
    "        if regno%7==0:\n",
    "            self.month = 'January'\n",
    "        elif regno%5==0:\n",
    "            self.month = 'February'\n",
    "        elif regno%3==0:\n",
    "            self.month = 'March'\n",
    "        else:\n",
    "            self.month = 'Unknown'\n",
    "            \n",
    "class Bicycle:\n",
    "    def __init__(self):      \n",
    "        self.age_limit = 10\n",
    "            \n",
    "class Bike(Transport):\n",
    "    def __init__(self):      \n",
    "        self.age_limit = 18\n",
    "        \n",
    "class Car(Transport):\n",
    "    def __init__(self):      \n",
    "        self.age_limit = 21\n",
    "\n",
    "class Bus(Transport):\n",
    "    def __init__(self):      \n",
    "        self.age_limit = 24\n",
    "\n",
    "        \n",
    "def Main():\n",
    "    bike1 = Bike()\n",
    "    bike2 = Bicycle()\n",
    "    bike1.Reg_M(2)\n",
    "    print(bike2.age_limit)\n",
    "\n",
    "if __name__ == '__main__':\n",
    "    Main()"
   ]
  },
  {
   "cell_type": "code",
   "execution_count": 8,
   "metadata": {},
   "outputs": [
    {
     "name": "stdout",
     "output_type": "stream",
     "text": [
      "30\n"
     ]
    }
   ],
   "source": [
    "class Calc:\n",
    "    \n",
    "    def Addition(x, y):\n",
    "        print(x+y)\n",
    "        \n",
    "    def Subtraction(x, y):\n",
    "        print(x-y)\n",
    "    \n",
    "def Main():\n",
    "    Calc.Addition(10,20)\n",
    "    \n",
    "\n",
    "if __name__=='__main__':   \n",
    "        Main() "
   ]
  },
  {
   "cell_type": "code",
   "execution_count": null,
   "metadata": {},
   "outputs": [],
   "source": [
    "class passenger:\n",
    "    "
   ]
  }
 ],
 "metadata": {
  "hide_input": false,
  "kernelspec": {
   "display_name": "Python 3",
   "language": "python",
   "name": "python3"
  },
  "language_info": {
   "codemirror_mode": {
    "name": "ipython",
    "version": 3
   },
   "file_extension": ".py",
   "mimetype": "text/x-python",
   "name": "python",
   "nbconvert_exporter": "python",
   "pygments_lexer": "ipython3",
   "version": "3.7.3"
  }
 },
 "nbformat": 4,
 "nbformat_minor": 2
}
