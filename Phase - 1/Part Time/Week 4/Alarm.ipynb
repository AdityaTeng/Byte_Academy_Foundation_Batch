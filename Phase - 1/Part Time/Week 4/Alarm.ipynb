{
 "cells": [
  {
   "cell_type": "code",
   "execution_count": 1,
   "metadata": {},
   "outputs": [
    {
     "data": {
      "text/plain": [
       "'C:\\\\Users\\\\adity\\\\Downloads\\\\ipynb\\\\Phase - 1\\\\Part Time\\\\Week 4'"
      ]
     },
     "execution_count": 1,
     "metadata": {},
     "output_type": "execute_result"
    }
   ],
   "source": [
    "import os\n",
    "import time\n",
    "import schedule\n",
    "import winsound\n",
    "\n",
    "path = os.getcwd() \n",
    "path"
   ]
  },
  {
   "cell_type": "code",
   "execution_count": 7,
   "metadata": {},
   "outputs": [],
   "source": [
    "os.chdir('D:/Aditya_Teng/Music/2010')\n",
    "os.startfile('Summertime_Sadness.mp4')"
   ]
  },
  {
   "cell_type": "code",
   "execution_count": 14,
   "metadata": {},
   "outputs": [],
   "source": [
    "f = \n",
    "d= 1000\n",
    "\n",
    "winsound.Beep(f,d)"
   ]
  },
  {
   "cell_type": "code",
   "execution_count": 3,
   "metadata": {},
   "outputs": [
    {
     "name": "stdout",
     "output_type": "stream",
     "text": [
      "Hi\n",
      "Hi\n"
     ]
    }
   ],
   "source": [
    "def job():\n",
    "    winsound.Beep(2500,1000)\n",
    "    print('Hi')\n",
    "\n",
    "count=0\n",
    "schedule.every(10).seconds.do(job)\n",
    "while True and count<10:\n",
    "    schedule.run_pending()\n",
    "    time.sleep(1)\n",
    "    count=count+1"
   ]
  },
  {
   "cell_type": "code",
   "execution_count": null,
   "metadata": {},
   "outputs": [],
   "source": [
    "import scheduler\n",
    "\n",
    "scheduler.enter"
   ]
  },
  {
   "cell_type": "code",
   "execution_count": null,
   "metadata": {},
   "outputs": [],
   "source": [
    "print(time.ctime())"
   ]
  },
  {
   "cell_type": "code",
   "execution_count": null,
   "metadata": {},
   "outputs": [],
   "source": [
    "# After every hour beep() is called. \n",
    "schedule.every().hour.do(beep) "
   ]
  },
  {
   "cell_type": "code",
   "execution_count": null,
   "metadata": {},
   "outputs": [],
   "source": [
    "# Every day at 12am or 00:00 time beep() is called. \n",
    "schedule.every().day.at(\"00:00\").do(beep) "
   ]
  },
  {
   "cell_type": "code",
   "execution_count": null,
   "metadata": {},
   "outputs": [],
   "source": [
    "# After every 5 to 10mins in between run work() \n",
    "schedule.every(5).to(10).minutes.do(beep) "
   ]
  },
  {
   "cell_type": "code",
   "execution_count": null,
   "metadata": {},
   "outputs": [],
   "source": [
    "# Every monday beep() is called \n",
    "schedule.every().monday.do(beep) "
   ]
  },
  {
   "cell_type": "code",
   "execution_count": null,
   "metadata": {},
   "outputs": [],
   "source": [
    "# Every tuesday at 18:00 beep() is called \n",
    "schedule.every().tuesday.at(\"18:00\").do(beep) "
   ]
  },
  {
   "cell_type": "code",
   "execution_count": 64,
   "metadata": {},
   "outputs": [],
   "source": [
    "for i in range(1,100):\n",
    "    f = 1000\n",
    "    d = 500\n",
    "    winsound.Beep(f,d)\n",
    "    n = 0.25\n",
    "    time.sleep(n)\n",
    "    n = n +0.25\n",
    "    f = f + 100\n",
    "    d = d + 100"
   ]
  },
  {
   "cell_type": "code",
   "execution_count": null,
   "metadata": {},
   "outputs": [],
   "source": []
  }
 ],
 "metadata": {
  "hide_input": false,
  "kernelspec": {
   "display_name": "Python 3",
   "language": "python",
   "name": "python3"
  },
  "language_info": {
   "codemirror_mode": {
    "name": "ipython",
    "version": 3
   },
   "file_extension": ".py",
   "mimetype": "text/x-python",
   "name": "python",
   "nbconvert_exporter": "python",
   "pygments_lexer": "ipython3",
   "version": "3.7.3"
  }
 },
 "nbformat": 4,
 "nbformat_minor": 2
}
