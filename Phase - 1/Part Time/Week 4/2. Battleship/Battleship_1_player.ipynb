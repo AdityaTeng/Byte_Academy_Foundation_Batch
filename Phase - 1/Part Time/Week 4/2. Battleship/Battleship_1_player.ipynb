{
 "cells": [
  {
   "cell_type": "code",
   "execution_count": 1,
   "metadata": {
    "code_folding": [],
    "scrolled": false
   },
   "outputs": [
    {
     "name": "stdout",
     "output_type": "stream",
     "text": [
      "Let's play Battleship!\n",
      "Enter your name: a\n",
      "a  Get Ready!!!\n",
      "\n",
      "4 2\n",
      "1 0\n",
      "O O O O O\n",
      "O O O O O\n",
      "O O O O O\n",
      "O O O O O\n",
      "O O O O O\n",
      "\n",
      "Guess Row: (allowed values: 0-4) 4\n",
      "Guess Col: (allowed values: 0-4)2\n",
      "\n",
      "Congratulations! \n",
      "You sunk first battleship!\n",
      "\n",
      "O O O O O\n",
      "O O O O O\n",
      "O O O O O\n",
      "O O O O O\n",
      "O O * O O\n",
      "\n",
      "Guess Row: (allowed values: 0-4) 4\n",
      "Guess Col: (allowed values: 0-4)2\n",
      "\n",
      "Congratulations! \n",
      "You sunk second battleship!\n",
      "\n",
      "O O O O O\n",
      "O O O O O\n",
      "O O O O O\n",
      "O O O O O\n",
      "O O * O O\n",
      "Congratulations  a  You Win!!\n",
      "Ship 1 is hidden:\n",
      "4\n",
      "2\n",
      "Ship 2 is hidden:\n",
      "1\n",
      "0\n"
     ]
    }
   ],
   "source": [
    "import random\n",
    "\n",
    "# -------------Setting the board, players and hiding battleships-------------\n",
    "\n",
    "\n",
    "# Board Ready!!\n",
    "\n",
    "board = []\n",
    "\n",
    "for x in range(0,5):\n",
    "    board.append([\"O\"] * 5)\n",
    "\n",
    "def print_board(board):\n",
    "    for row in board:\n",
    "        print (\" \".join(row))\n",
    "\n",
    "\n",
    "        \n",
    "# Player Ready!!\n",
    "\n",
    "print(\"Let's play Battleship!\")\n",
    "player_1 = input(\"Enter your name: \")\n",
    "print(player_1, \" Get Ready!!!\\n\")\n",
    "\n",
    "\n",
    " \n",
    "\n",
    "# Battleships Ready!!\n",
    "\n",
    "def random_row(board):\n",
    "    return random.randint(0, len(board)-1)\n",
    "\n",
    "def random_col(board):\n",
    "    return random.randint(0, len(board)-1)\n",
    "\n",
    "ship_row_1 = random_row(board)\n",
    "ship_col_1 = random_col(board)\n",
    "print(ship_row_1, ship_col_1)\n",
    "\n",
    "ship_row_2 = random_row(board)\n",
    "ship_col_2 = random_col(board)\n",
    "print(ship_row_2, ship_col_2)\n",
    "\n",
    "print_board(board)\n",
    "\n",
    "\n",
    "# ----------------------------Playing the game----------------------------\n",
    "\n",
    "\n",
    "\n",
    "hit_count = 0\n",
    "\n",
    "for turn in range(10):\n",
    "    guess_row = int(input(\"\\nGuess Row: (allowed values: 0-4) \"))\n",
    "    guess_col = int(input(\"Guess Col: (allowed values: 0-4)\"))\n",
    "\n",
    "    if (guess_row == ship_row_1 and guess_col == ship_col_1) or (guess_row == ship_row_2 and guess_col == ship_col_2):\n",
    "            hit_count = hit_count + 1\n",
    "            board[guess_row][guess_col] = \"*\"\n",
    "            print (\"\\nCongratulations! \")\n",
    "            if hit_count == 1:\n",
    "                   print(\"You sunk first battleship!\\n\") \n",
    "            elif hit_count == 2:\n",
    "                print(\"You sunk second battleship!\\n\")\n",
    "                print_board(board)\n",
    "                break\n",
    "    else:\n",
    "        if (guess_row < 0 or guess_row > 4)  or (guess_col < 0 or guess_col > 4):\n",
    "                   print (\"Oops, that's not even in the ocean.\\n\")\n",
    "        elif(board[guess_row][guess_col] == \"X\"):\n",
    "                   print (\"You guessed that one already.\\n\")\n",
    "        else:\n",
    "            print (\"You missed my battleship!\\n\")\n",
    "            board[guess_row][guess_col] = \"X\"\n",
    "        print (turn + 1, \"turn\")\n",
    "    print_board(board)\n",
    "    \n",
    "if hit_count == 2:\n",
    "    print(\"Congratulations \", player_1,\" You Win!!\")\n",
    "else:\n",
    "    print(\"Sorry \", player_1,\" You Lose.\")\n",
    "print (\"Ship 1 is hidden:\")    \n",
    "print (ship_row_1)\n",
    "print (ship_col_1)\n",
    "\n",
    "print (\"Ship 2 is hidden:\")    \n",
    "print (ship_row_2)\n",
    "print (ship_col_2)"
   ]
  },
  {
   "cell_type": "code",
   "execution_count": null,
   "metadata": {},
   "outputs": [],
   "source": []
  },
  {
   "cell_type": "code",
   "execution_count": 1,
   "metadata": {},
   "outputs": [],
   "source": [
    "# 1. Add Ships\n",
    "# 2. Change the size of the board\n",
    "# 3. Change the board pattern\n",
    "# 4. Add players/Customize in your own way."
   ]
  },
  {
   "cell_type": "code",
   "execution_count": null,
   "metadata": {},
   "outputs": [],
   "source": []
  },
  {
   "cell_type": "code",
   "execution_count": 3,
   "metadata": {},
   "outputs": [
    {
     "data": {
      "text/plain": [
       "[['O', 'O', 'O', 'O', 'O'],\n",
       " ['O', 'O', 'O', 'O', 'O'],\n",
       " ['O', 'O', 'O', 'O', 'O'],\n",
       " ['O', 'O', 'O', 'O', 'O'],\n",
       " ['O', 'O', 'O', 'O', 'O']]"
      ]
     },
     "execution_count": 3,
     "metadata": {},
     "output_type": "execute_result"
    }
   ],
   "source": [
    "board = []\n",
    "\n",
    "for x in range(0,5):\n",
    "    board.append([\"O\"] * 5)\n",
    "\n",
    "board"
   ]
  },
  {
   "cell_type": "code",
   "execution_count": null,
   "metadata": {},
   "outputs": [],
   "source": [
    "def print_board(board):\n",
    "    for row in board:\n",
    "        print (\" \".join(row))"
   ]
  },
  {
   "cell_type": "code",
   "execution_count": 6,
   "metadata": {},
   "outputs": [
    {
     "name": "stdout",
     "output_type": "stream",
     "text": [
      "O O O O O\n"
     ]
    }
   ],
   "source": [
    "l = ['O', 'O', 'O', 'O', 'O']\n",
    "print(\" \".join(l))"
   ]
  },
  {
   "cell_type": "code",
   "execution_count": null,
   "metadata": {},
   "outputs": [],
   "source": []
  },
  {
   "cell_type": "code",
   "execution_count": 7,
   "metadata": {},
   "outputs": [
    {
     "name": "stdout",
     "output_type": "stream",
     "text": [
      "O O O O O\n",
      "O O O O O\n",
      "O O O O O\n",
      "O O O O O\n",
      "O O O O O\n"
     ]
    }
   ],
   "source": [
    "for x in range(0,5):\n",
    "    board.append([\"O\"] * 5)\n",
    "\n",
    "def print_board(board):\n",
    "    for row in board:\n",
    "        print (\" \".join(row))\n",
    "\n",
    "print_board(board)  "
   ]
  },
  {
   "cell_type": "code",
   "execution_count": null,
   "metadata": {},
   "outputs": [],
   "source": []
  }
 ],
 "metadata": {
  "hide_input": false,
  "kernelspec": {
   "display_name": "Python 3",
   "language": "python",
   "name": "python3"
  },
  "language_info": {
   "codemirror_mode": {
    "name": "ipython",
    "version": 3
   },
   "file_extension": ".py",
   "mimetype": "text/x-python",
   "name": "python",
   "nbconvert_exporter": "python",
   "pygments_lexer": "ipython3",
   "version": "3.7.3"
  }
 },
 "nbformat": 4,
 "nbformat_minor": 2
}
